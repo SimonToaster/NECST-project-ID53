{
 "cells": [
  {
   "cell_type": "markdown",
   "source": "# Blend Art and Data to Empower Habits Tracking",
   "metadata": {
    "tags": [],
    "is_collapsed": false,
    "cell_id": "00000-512c7ca7-e26d-4a3f-9254-3d823b184767",
    "deepnote_cell_type": "text-cell-h1"
   }
  },
  {
   "cell_type": "markdown",
   "source": "## SetUp",
   "metadata": {
    "tags": [],
    "is_collapsed": false,
    "cell_id": "00001-5ef7d198-3bf1-4238-ae11-58705f81361a",
    "deepnote_cell_type": "text-cell-h2"
   }
  },
  {
   "cell_type": "code",
   "metadata": {
    "tags": [],
    "cell_id": "00001-ff32326e-c18b-4087-ae9e-44ebdff7422a",
    "deepnote_to_be_reexecuted": false,
    "source_hash": "6b30e5ba",
    "execution_start": 1634474596125,
    "execution_millis": 9481,
    "deepnote_cell_type": "code"
   },
   "source": "!pip install dash\n\nimport pandas as pd\nimport plotly.express as px\nimport plotly.graph_objects as go\nfrom datetime import timedelta, datetime as dt\n\ndf = pd.read_csv(\"/work/NECST-project-ID53/SleepDataset2020.csv\")\ndf.dropna(how = \"all\", inplace=True)",
   "outputs": [
    {
     "name": "stdout",
     "text": "Collecting dash\n  Downloading dash-2.0.0-py3-none-any.whl (7.3 MB)\n\u001b[K     |████████████████████████████████| 7.3 MB 15.7 MB/s \n\u001b[?25hCollecting flask-compress\n  Downloading Flask_Compress-1.10.1-py3-none-any.whl (7.9 kB)\nCollecting dash-html-components==2.0.0\n  Downloading dash_html_components-2.0.0.tar.gz (3.8 kB)\nCollecting dash-table==5.0.0\n  Downloading dash_table-5.0.0.tar.gz (3.4 kB)\nRequirement already satisfied: plotly>=5.0.0 in /shared-libs/python3.7/py/lib/python3.7/site-packages (from dash) (5.3.1)\nCollecting Flask>=1.0.4\n  Downloading Flask-2.0.2-py3-none-any.whl (95 kB)\n\u001b[K     |████████████████████████████████| 95 kB 9.8 MB/s \n\u001b[?25hCollecting dash-core-components==2.0.0\n  Downloading dash_core_components-2.0.0.tar.gz (3.4 kB)\nRequirement already satisfied: Werkzeug>=2.0 in /shared-libs/python3.7/py/lib/python3.7/site-packages (from Flask>=1.0.4->dash) (2.0.2)\nRequirement already satisfied: click>=7.1.2 in /shared-libs/python3.7/py/lib/python3.7/site-packages (from Flask>=1.0.4->dash) (8.0.3)\nCollecting itsdangerous>=2.0\n  Downloading itsdangerous-2.0.1-py3-none-any.whl (18 kB)\nRequirement already satisfied: Jinja2>=3.0 in /shared-libs/python3.7/py-core/lib/python3.7/site-packages (from Flask>=1.0.4->dash) (3.0.2)\nRequirement already satisfied: importlib-metadata in /shared-libs/python3.7/py-core/lib/python3.7/site-packages (from click>=7.1.2->Flask>=1.0.4->dash) (4.8.1)\nRequirement already satisfied: MarkupSafe>=2.0 in /shared-libs/python3.7/py-core/lib/python3.7/site-packages (from Jinja2>=3.0->Flask>=1.0.4->dash) (2.0.1)\nRequirement already satisfied: six in /shared-libs/python3.7/py-core/lib/python3.7/site-packages (from plotly>=5.0.0->dash) (1.16.0)\nRequirement already satisfied: tenacity>=6.2.0 in /shared-libs/python3.7/py/lib/python3.7/site-packages (from plotly>=5.0.0->dash) (8.0.1)\nCollecting brotli\n  Downloading Brotli-1.0.9-cp37-cp37m-manylinux1_x86_64.whl (357 kB)\n\u001b[K     |████████████████████████████████| 357 kB 65.4 MB/s \n\u001b[?25hRequirement already satisfied: zipp>=0.5 in /shared-libs/python3.7/py-core/lib/python3.7/site-packages (from importlib-metadata->click>=7.1.2->Flask>=1.0.4->dash) (3.6.0)\nRequirement already satisfied: typing-extensions>=3.6.4 in /shared-libs/python3.7/py-core/lib/python3.7/site-packages (from importlib-metadata->click>=7.1.2->Flask>=1.0.4->dash) (3.10.0.2)\nBuilding wheels for collected packages: dash-core-components, dash-html-components, dash-table\n  Building wheel for dash-core-components (setup.py) ... \u001b[?25ldone\n\u001b[?25h  Created wheel for dash-core-components: filename=dash_core_components-2.0.0-py3-none-any.whl size=3821 sha256=198a6a3e93da90bcdc95167ce66a911e3c839c263d2b51e9f0fc117d3cca0439\n  Stored in directory: /root/.cache/pip/wheels/00/f9/c7/1a6437d794ed753ea9bc9079e761d4fc803a1f1f5d3697b9ec\n  Building wheel for dash-html-components (setup.py) ... \u001b[?25ldone\n\u001b[?25h  Created wheel for dash-html-components: filename=dash_html_components-2.0.0-py3-none-any.whl size=4089 sha256=7e07fa741e24ac679337b32175cbd2f8d6eeeeff98ad736a7afede236bff432b\n  Stored in directory: /root/.cache/pip/wheels/ec/6b/81/05aceabd8b27f724e2c96784016287cc1bfbc349ebfda451de\n  Building wheel for dash-table (setup.py) ... \u001b[?25ldone\n\u001b[?25h  Created wheel for dash-table: filename=dash_table-5.0.0-py3-none-any.whl size=3911 sha256=fbf321570a973e75ebcf28b7d4c0d3a5c658dc6308bbe0942e90cc7754706ab6\n  Stored in directory: /root/.cache/pip/wheels/85/5d/4e/7c276b57992951dbe770bf5caad6448d0539c510663aefd2e2\nSuccessfully built dash-core-components dash-html-components dash-table\nInstalling collected packages: itsdangerous, Flask, brotli, flask-compress, dash-table, dash-html-components, dash-core-components, dash\nSuccessfully installed Flask-2.0.2 brotli-1.0.9 dash-2.0.0 dash-core-components-2.0.0 dash-html-components-2.0.0 dash-table-5.0.0 flask-compress-1.10.1 itsdangerous-2.0.1\n\u001b[33mWARNING: You are using pip version 21.2.4; however, version 21.3 is available.\nYou should consider upgrading via the '/root/venv/bin/python -m pip install --upgrade pip' command.\u001b[0m\n",
     "output_type": "stream"
    }
   ],
   "execution_count": 1
  },
  {
   "cell_type": "code",
   "metadata": {
    "tags": [],
    "cell_id": "00002-76a7d792-d98a-4997-80cb-d79fb362a678",
    "deepnote_to_be_reexecuted": false,
    "source_hash": "f804c160",
    "execution_start": 1634474605618,
    "execution_millis": 123,
    "deepnote_cell_type": "code"
   },
   "source": "df",
   "outputs": [
    {
     "output_type": "execute_result",
     "execution_count": 2,
     "data": {
      "application/vnd.deepnote.dataframe.v2+json": {
       "row_count": 367,
       "column_count": 17,
       "columns": [
        {
         "name": "Data",
         "dtype": "object",
         "stats": {
          "unique_count": 367,
          "nan_count": 0,
          "categories": [
           {
            "name": "31/12/19",
            "count": 1
           },
           {
            "name": "01/01/20",
            "count": 1
           },
           {
            "name": "365 others",
            "count": 365
           }
          ]
         }
        },
        {
         "name": "Ieri ha fatto un sonnellino di durata (minuti totali)?",
         "dtype": "float64",
         "stats": {
          "unique_count": 10,
          "nan_count": 0,
          "min": "0.0",
          "max": "90.0",
          "histogram": [
           {
            "bin_start": 0,
            "bin_end": 9,
            "count": 345
           },
           {
            "bin_start": 9,
            "bin_end": 18,
            "count": 6
           },
           {
            "bin_start": 18,
            "bin_end": 27,
            "count": 7
           },
           {
            "bin_start": 27,
            "bin_end": 36,
            "count": 3
           },
           {
            "bin_start": 36,
            "bin_end": 45,
            "count": 2
           },
           {
            "bin_start": 45,
            "bin_end": 54,
            "count": 1
           },
           {
            "bin_start": 54,
            "bin_end": 63,
            "count": 1
           },
           {
            "bin_start": 63,
            "bin_end": 72,
            "count": 0
           },
           {
            "bin_start": 72,
            "bin_end": 81,
            "count": 0
           },
           {
            "bin_start": 81,
            "bin_end": 90,
            "count": 2
           }
          ]
         }
        },
        {
         "name": "A che ora è andato a letto ieri sera?",
         "dtype": "object",
         "stats": {
          "unique_count": 106,
          "nan_count": 0,
          "categories": [
           {
            "name": "22:45",
            "count": 15
           },
           {
            "name": "22:40",
            "count": 13
           },
           {
            "name": "104 others",
            "count": 339
           }
          ]
         }
        },
        {
         "name": "A che ora ha spento la luce per dormire?",
         "dtype": "object",
         "stats": {
          "unique_count": 112,
          "nan_count": 0,
          "categories": [
           {
            "name": "22:41",
            "count": 12
           },
           {
            "name": "22:44",
            "count": 12
           },
           {
            "name": "110 others",
            "count": 343
           }
          ]
         }
        },
        {
         "name": "Dallo spegnimento della luce, in quanto tempo si è addormentato?",
         "dtype": "float64",
         "stats": {
          "unique_count": 37,
          "nan_count": 0,
          "min": "2.0",
          "max": "68.0",
          "histogram": [
           {
            "bin_start": 2,
            "bin_end": 8.6,
            "count": 242
           },
           {
            "bin_start": 8.6,
            "bin_end": 15.2,
            "count": 70
           },
           {
            "bin_start": 15.2,
            "bin_end": 21.799999999999997,
            "count": 25
           },
           {
            "bin_start": 21.799999999999997,
            "bin_end": 28.4,
            "count": 10
           },
           {
            "bin_start": 28.4,
            "bin_end": 35,
            "count": 9
           },
           {
            "bin_start": 35,
            "bin_end": 41.599999999999994,
            "count": 7
           },
           {
            "bin_start": 41.599999999999994,
            "bin_end": 48.199999999999996,
            "count": 1
           },
           {
            "bin_start": 48.199999999999996,
            "bin_end": 54.8,
            "count": 1
           },
           {
            "bin_start": 54.8,
            "bin_end": 61.4,
            "count": 1
           },
           {
            "bin_start": 61.4,
            "bin_end": 68,
            "count": 1
           }
          ]
         }
        },
        {
         "name": "Orario previsto del risveglio questa mattina?",
         "dtype": "object",
         "stats": {
          "unique_count": 12,
          "nan_count": 0,
          "categories": [
           {
            "name": "06:30",
            "count": 174
           },
           {
            "name": "06:00",
            "count": 98
           },
           {
            "name": "10 others",
            "count": 95
           }
          ]
         }
        },
        {
         "name": "Qual è stato l'orario del risveglio finale questa mattina?",
         "dtype": "object",
         "stats": {
          "unique_count": 45,
          "nan_count": 0,
          "categories": [
           {
            "name": "06:30",
            "count": 146
           },
           {
            "name": "06:00",
            "count": 81
           },
           {
            "name": "43 others",
            "count": 140
           }
          ]
         }
        },
        {
         "name": "A che ora si è alzato dal letto?",
         "dtype": "object",
         "stats": {
          "unique_count": 38,
          "nan_count": 0,
          "categories": [
           {
            "name": "06:30",
            "count": 153
           },
           {
            "name": "06:00",
            "count": 81
           },
           {
            "name": "36 others",
            "count": 133
           }
          ]
         }
        },
        {
         "name": "Quante volte si è svegliato/a durante la notte? (0 se non si è svegliato/a)",
         "dtype": "float64",
         "stats": {
          "unique_count": 7,
          "nan_count": 0,
          "min": "0.0",
          "max": "6.0",
          "histogram": [
           {
            "bin_start": 0,
            "bin_end": 0.6,
            "count": 146
           },
           {
            "bin_start": 0.6,
            "bin_end": 1.2,
            "count": 150
           },
           {
            "bin_start": 1.2,
            "bin_end": 1.7999999999999998,
            "count": 0
           },
           {
            "bin_start": 1.7999999999999998,
            "bin_end": 2.4,
            "count": 42
           },
           {
            "bin_start": 2.4,
            "bin_end": 3,
            "count": 0
           },
           {
            "bin_start": 3,
            "bin_end": 3.5999999999999996,
            "count": 22
           },
           {
            "bin_start": 3.5999999999999996,
            "bin_end": 4.2,
            "count": 4
           },
           {
            "bin_start": 4.2,
            "bin_end": 4.8,
            "count": 0
           },
           {
            "bin_start": 4.8,
            "bin_end": 5.3999999999999995,
            "count": 2
           },
           {
            "bin_start": 5.3999999999999995,
            "bin_end": 6,
            "count": 1
           }
          ]
         }
        },
        {
         "name": "Quanti minuti in totale è rimasto/a sveglio/a nel corso della notte?",
         "dtype": "float64",
         "stats": {
          "unique_count": 16,
          "nan_count": 0,
          "min": "0.0",
          "max": "150.0",
          "histogram": [
           {
            "bin_start": 0,
            "bin_end": 15,
            "count": 328
           },
           {
            "bin_start": 15,
            "bin_end": 30,
            "count": 24
           },
           {
            "bin_start": 30,
            "bin_end": 45,
            "count": 11
           },
           {
            "bin_start": 45,
            "bin_end": 60,
            "count": 0
           },
           {
            "bin_start": 60,
            "bin_end": 75,
            "count": 2
           },
           {
            "bin_start": 75,
            "bin_end": 90,
            "count": 1
           },
           {
            "bin_start": 90,
            "bin_end": 105,
            "count": 0
           },
           {
            "bin_start": 105,
            "bin_end": 120,
            "count": 0
           },
           {
            "bin_start": 120,
            "bin_end": 135,
            "count": 0
           },
           {
            "bin_start": 135,
            "bin_end": 150,
            "count": 1
           }
          ]
         }
        },
        {
         "name": "Quanto è stato disturbato il suo sonno la notte scorsa? (1=per niente, 10=moltissimo)",
         "dtype": "float64",
         "stats": {
          "unique_count": 8,
          "nan_count": 0,
          "min": "1.0",
          "max": "8.0",
          "histogram": [
           {
            "bin_start": 1,
            "bin_end": 1.7,
            "count": 170
           },
           {
            "bin_start": 1.7,
            "bin_end": 2.4,
            "count": 123
           },
           {
            "bin_start": 2.4,
            "bin_end": 3.0999999999999996,
            "count": 43
           },
           {
            "bin_start": 3.0999999999999996,
            "bin_end": 3.8,
            "count": 0
           },
           {
            "bin_start": 3.8,
            "bin_end": 4.5,
            "count": 11
           },
           {
            "bin_start": 4.5,
            "bin_end": 5.199999999999999,
            "count": 11
           },
           {
            "bin_start": 5.199999999999999,
            "bin_end": 5.8999999999999995,
            "count": 0
           },
           {
            "bin_start": 5.8999999999999995,
            "bin_end": 6.6,
            "count": 7
           },
           {
            "bin_start": 6.6,
            "bin_end": 7.3,
            "count": 1
           },
           {
            "bin_start": 7.3,
            "bin_end": 8,
            "count": 1
           }
          ]
         }
        },
        {
         "name": "Qualità del sonno la scorsa notte (1=molto scarso, 10=molto buono)",
         "dtype": "float64",
         "stats": {
          "unique_count": 8,
          "nan_count": 0,
          "min": "2.0",
          "max": "9.0",
          "histogram": [
           {
            "bin_start": 2,
            "bin_end": 2.7,
            "count": 1
           },
           {
            "bin_start": 2.7,
            "bin_end": 3.4,
            "count": 2
           },
           {
            "bin_start": 3.4,
            "bin_end": 4.1,
            "count": 7
           },
           {
            "bin_start": 4.1,
            "bin_end": 4.8,
            "count": 0
           },
           {
            "bin_start": 4.8,
            "bin_end": 5.5,
            "count": 39
           },
           {
            "bin_start": 5.5,
            "bin_end": 6.199999999999999,
            "count": 112
           },
           {
            "bin_start": 6.199999999999999,
            "bin_end": 6.8999999999999995,
            "count": 0
           },
           {
            "bin_start": 6.8999999999999995,
            "bin_end": 7.6,
            "count": 149
           },
           {
            "bin_start": 7.6,
            "bin_end": 8.3,
            "count": 56
           },
           {
            "bin_start": 8.3,
            "bin_end": 9,
            "count": 1
           }
          ]
         }
        },
        {
         "name": "Livello di affaticamento di ieri (1=niente, 10=estremamente stancante)",
         "dtype": "float64",
         "stats": {
          "unique_count": 8,
          "nan_count": 0,
          "min": "1.0",
          "max": "8.0",
          "histogram": [
           {
            "bin_start": 1,
            "bin_end": 1.7,
            "count": 41
           },
           {
            "bin_start": 1.7,
            "bin_end": 2.4,
            "count": 61
           },
           {
            "bin_start": 2.4,
            "bin_end": 3.0999999999999996,
            "count": 37
           },
           {
            "bin_start": 3.0999999999999996,
            "bin_end": 3.8,
            "count": 0
           },
           {
            "bin_start": 3.8,
            "bin_end": 4.5,
            "count": 62
           },
           {
            "bin_start": 4.5,
            "bin_end": 5.199999999999999,
            "count": 80
           },
           {
            "bin_start": 5.199999999999999,
            "bin_end": 5.8999999999999995,
            "count": 0
           },
           {
            "bin_start": 5.8999999999999995,
            "bin_end": 6.6,
            "count": 49
           },
           {
            "bin_start": 6.6,
            "bin_end": 7.3,
            "count": 29
           },
           {
            "bin_start": 7.3,
            "bin_end": 8,
            "count": 8
           }
          ]
         }
        },
        {
         "name": "Livello di sonnolenza di ieri (1=per niente, 10=estremamente sonnolento)",
         "dtype": "float64",
         "stats": {
          "unique_count": 7,
          "nan_count": 0,
          "min": "1.0",
          "max": "7.0",
          "histogram": [
           {
            "bin_start": 1,
            "bin_end": 1.6,
            "count": 264
           },
           {
            "bin_start": 1.6,
            "bin_end": 2.2,
            "count": 62
           },
           {
            "bin_start": 2.2,
            "bin_end": 2.8,
            "count": 0
           },
           {
            "bin_start": 2.8,
            "bin_end": 3.4,
            "count": 25
           },
           {
            "bin_start": 3.4,
            "bin_end": 4,
            "count": 0
           },
           {
            "bin_start": 4,
            "bin_end": 4.6,
            "count": 11
           },
           {
            "bin_start": 4.6,
            "bin_end": 5.2,
            "count": 3
           },
           {
            "bin_start": 5.2,
            "bin_end": 5.8,
            "count": 0
           },
           {
            "bin_start": 5.8,
            "bin_end": 6.3999999999999995,
            "count": 1
           },
           {
            "bin_start": 6.3999999999999995,
            "bin_end": 7,
            "count": 1
           }
          ]
         }
        },
        {
         "name": "(polar)\r\nDaily activity goal",
         "dtype": "object",
         "stats": {
          "unique_count": 215,
          "nan_count": 21,
          "categories": [
           {
            "name": "115%",
            "count": 4
           },
           {
            "name": "214 others",
            "count": 342
           },
           {
            "name": "Missing",
            "count": 21
           }
          ]
         }
        },
        {
         "name": "(polar)\r\nActual sleep",
         "dtype": "object",
         "stats": {
          "unique_count": 14,
          "nan_count": 42,
          "categories": [
           {
            "name": "90%",
            "count": 61
           },
           {
            "name": "13 others",
            "count": 264
           },
           {
            "name": "Missing",
            "count": 42
           }
          ]
         }
        },
        {
         "name": "(polar)\r\nSleep continuity",
         "dtype": "float64",
         "stats": {
          "unique_count": 38,
          "nan_count": 42,
          "min": "1.0",
          "max": "4.9",
          "histogram": [
           {
            "bin_start": 1,
            "bin_end": 1.3900000000000001,
            "count": 13
           },
           {
            "bin_start": 1.3900000000000001,
            "bin_end": 1.78,
            "count": 29
           },
           {
            "bin_start": 1.78,
            "bin_end": 2.17,
            "count": 62
           },
           {
            "bin_start": 2.17,
            "bin_end": 2.56,
            "count": 58
           },
           {
            "bin_start": 2.56,
            "bin_end": 2.95,
            "count": 83
           },
           {
            "bin_start": 2.95,
            "bin_end": 3.34,
            "count": 35
           },
           {
            "bin_start": 3.34,
            "bin_end": 3.73,
            "count": 22
           },
           {
            "bin_start": 3.73,
            "bin_end": 4.12,
            "count": 10
           },
           {
            "bin_start": 4.12,
            "bin_end": 4.51,
            "count": 8
           },
           {
            "bin_start": 4.51,
            "bin_end": 4.9,
            "count": 5
           }
          ]
         }
        },
        {
         "name": "_deepnote_index_column",
         "dtype": "int64"
        }
       ],
       "rows_top": [
        {
         "Data": "31/12/19",
         "Ieri ha fatto un sonnellino di durata (minuti totali)?": 0,
         "A che ora è andato a letto ieri sera?": "23:48",
         "A che ora ha spento la luce per dormire?": "23:50",
         "Dallo spegnimento della luce, in quanto tempo si è addormentato?": 3,
         "Orario previsto del risveglio questa mattina?": "06:30",
         "Qual è stato l'orario del risveglio finale questa mattina?": "06:30",
         "A che ora si è alzato dal letto?": "06:30",
         "Quante volte si è svegliato/a durante la notte? (0 se non si è svegliato/a)": 2,
         "Quanti minuti in totale è rimasto/a sveglio/a nel corso della notte?": 5,
         "Quanto è stato disturbato il suo sonno la notte scorsa? (1=per niente, 10=moltissimo)": 5,
         "Qualità del sonno la scorsa notte (1=molto scarso, 10=molto buono)": 5,
         "Livello di affaticamento di ieri (1=niente, 10=estremamente stancante)": 4,
         "Livello di sonnolenza di ieri (1=per niente, 10=estremamente sonnolento)": 2,
         "(polar)\r\nDaily activity goal": "188%",
         "(polar)\r\nActual sleep": "90%",
         "(polar)\r\nSleep continuity": 3.1,
         "_deepnote_index_column": 0
        },
        {
         "Data": "01/01/20",
         "Ieri ha fatto un sonnellino di durata (minuti totali)?": 90,
         "A che ora è andato a letto ieri sera?": "01:05",
         "A che ora ha spento la luce per dormire?": "01:08",
         "Dallo spegnimento della luce, in quanto tempo si è addormentato?": 5,
         "Orario previsto del risveglio questa mattina?": "08:30",
         "Qual è stato l'orario del risveglio finale questa mattina?": "08:12",
         "A che ora si è alzato dal letto?": "08:12",
         "Quante volte si è svegliato/a durante la notte? (0 se non si è svegliato/a)": 4,
         "Quanti minuti in totale è rimasto/a sveglio/a nel corso della notte?": 20,
         "Quanto è stato disturbato il suo sonno la notte scorsa? (1=per niente, 10=moltissimo)": 6,
         "Qualità del sonno la scorsa notte (1=molto scarso, 10=molto buono)": 5,
         "Livello di affaticamento di ieri (1=niente, 10=estremamente stancante)": 4,
         "Livello di sonnolenza di ieri (1=per niente, 10=estremamente sonnolento)": 2,
         "(polar)\r\nDaily activity goal": "73%",
         "(polar)\r\nActual sleep": "90%",
         "(polar)\r\nSleep continuity": 1.6,
         "_deepnote_index_column": 1
        },
        {
         "Data": "02/01/20",
         "Ieri ha fatto un sonnellino di durata (minuti totali)?": 0,
         "A che ora è andato a letto ieri sera?": "23:20",
         "A che ora ha spento la luce per dormire?": "23:36",
         "Dallo spegnimento della luce, in quanto tempo si è addormentato?": 5,
         "Orario previsto del risveglio questa mattina?": "06:30",
         "Qual è stato l'orario del risveglio finale questa mattina?": "06:30",
         "A che ora si è alzato dal letto?": "06:30",
         "Quante volte si è svegliato/a durante la notte? (0 se non si è svegliato/a)": 1,
         "Quanti minuti in totale è rimasto/a sveglio/a nel corso della notte?": 2,
         "Quanto è stato disturbato il suo sonno la notte scorsa? (1=per niente, 10=moltissimo)": 2,
         "Qualità del sonno la scorsa notte (1=molto scarso, 10=molto buono)": 6,
         "Livello di affaticamento di ieri (1=niente, 10=estremamente stancante)": 1,
         "Livello di sonnolenza di ieri (1=per niente, 10=estremamente sonnolento)": 1,
         "(polar)\r\nDaily activity goal": "242%",
         "(polar)\r\nActual sleep": "88%",
         "(polar)\r\nSleep continuity": 2.3,
         "_deepnote_index_column": 2
        },
        {
         "Data": "03/01/20",
         "Ieri ha fatto un sonnellino di durata (minuti totali)?": 0,
         "A che ora è andato a letto ieri sera?": "23:20",
         "A che ora ha spento la luce per dormire?": "23:54",
         "Dallo spegnimento della luce, in quanto tempo si è addormentato?": 3,
         "Orario previsto del risveglio questa mattina?": "06:30",
         "Qual è stato l'orario del risveglio finale questa mattina?": "06:30",
         "A che ora si è alzato dal letto?": "06:30",
         "Quante volte si è svegliato/a durante la notte? (0 se non si è svegliato/a)": 0,
         "Quanti minuti in totale è rimasto/a sveglio/a nel corso della notte?": 0,
         "Quanto è stato disturbato il suo sonno la notte scorsa? (1=per niente, 10=moltissimo)": 1,
         "Qualità del sonno la scorsa notte (1=molto scarso, 10=molto buono)": 7,
         "Livello di affaticamento di ieri (1=niente, 10=estremamente stancante)": 4,
         "Livello di sonnolenza di ieri (1=per niente, 10=estremamente sonnolento)": 1,
         "(polar)\r\nDaily activity goal": "188%",
         "(polar)\r\nActual sleep": "93%",
         "(polar)\r\nSleep continuity": 2.6,
         "_deepnote_index_column": 3
        },
        {
         "Data": "04/01/20",
         "Ieri ha fatto un sonnellino di durata (minuti totali)?": 0,
         "A che ora è andato a letto ieri sera?": "00:22",
         "A che ora ha spento la luce per dormire?": "00:49",
         "Dallo spegnimento della luce, in quanto tempo si è addormentato?": 5,
         "Orario previsto del risveglio questa mattina?": "06:45",
         "Qual è stato l'orario del risveglio finale questa mattina?": "06:45",
         "A che ora si è alzato dal letto?": "06:45",
         "Quante volte si è svegliato/a durante la notte? (0 se non si è svegliato/a)": 0,
         "Quanti minuti in totale è rimasto/a sveglio/a nel corso della notte?": 0,
         "Quanto è stato disturbato il suo sonno la notte scorsa? (1=per niente, 10=moltissimo)": 1,
         "Qualità del sonno la scorsa notte (1=molto scarso, 10=molto buono)": 7,
         "Livello di affaticamento di ieri (1=niente, 10=estremamente stancante)": 3,
         "Livello di sonnolenza di ieri (1=per niente, 10=estremamente sonnolento)": 1,
         "(polar)\r\nDaily activity goal": "175%",
         "(polar)\r\nActual sleep": "92%",
         "(polar)\r\nSleep continuity": 2.6,
         "_deepnote_index_column": 4
        },
        {
         "Data": "05/01/20",
         "Ieri ha fatto un sonnellino di durata (minuti totali)?": 0,
         "A che ora è andato a letto ieri sera?": "01:15",
         "A che ora ha spento la luce per dormire?": "01:19",
         "Dallo spegnimento della luce, in quanto tempo si è addormentato?": 4,
         "Orario previsto del risveglio questa mattina?": "06:00",
         "Qual è stato l'orario del risveglio finale questa mattina?": "06:15",
         "A che ora si è alzato dal letto?": "06:15",
         "Quante volte si è svegliato/a durante la notte? (0 se non si è svegliato/a)": 0,
         "Quanti minuti in totale è rimasto/a sveglio/a nel corso della notte?": 0,
         "Quanto è stato disturbato il suo sonno la notte scorsa? (1=per niente, 10=moltissimo)": 1,
         "Qualità del sonno la scorsa notte (1=molto scarso, 10=molto buono)": 7,
         "Livello di affaticamento di ieri (1=niente, 10=estremamente stancante)": 8,
         "Livello di sonnolenza di ieri (1=per niente, 10=estremamente sonnolento)": 2,
         "(polar)\r\nDaily activity goal": "138%",
         "(polar)\r\nActual sleep": "96%",
         "(polar)\r\nSleep continuity": 4.8,
         "_deepnote_index_column": 5
        },
        {
         "Data": "06/01/20",
         "Ieri ha fatto un sonnellino di durata (minuti totali)?": 0,
         "A che ora è andato a letto ieri sera?": "23:38",
         "A che ora ha spento la luce per dormire?": "23:51",
         "Dallo spegnimento della luce, in quanto tempo si è addormentato?": 4,
         "Orario previsto del risveglio questa mattina?": "08:00",
         "Qual è stato l'orario del risveglio finale questa mattina?": "07:45",
         "A che ora si è alzato dal letto?": "07:45",
         "Quante volte si è svegliato/a durante la notte? (0 se non si è svegliato/a)": 0,
         "Quanti minuti in totale è rimasto/a sveglio/a nel corso della notte?": 0,
         "Quanto è stato disturbato il suo sonno la notte scorsa? (1=per niente, 10=moltissimo)": 1,
         "Qualità del sonno la scorsa notte (1=molto scarso, 10=molto buono)": 8,
         "Livello di affaticamento di ieri (1=niente, 10=estremamente stancante)": 5,
         "Livello di sonnolenza di ieri (1=per niente, 10=estremamente sonnolento)": 1,
         "(polar)\r\nDaily activity goal": "185%",
         "(polar)\r\nActual sleep": "94%",
         "(polar)\r\nSleep continuity": 2.9,
         "_deepnote_index_column": 6
        },
        {
         "Data": "07/01/20",
         "Ieri ha fatto un sonnellino di durata (minuti totali)?": 0,
         "A che ora è andato a letto ieri sera?": "23:32",
         "A che ora ha spento la luce per dormire?": "00:01",
         "Dallo spegnimento della luce, in quanto tempo si è addormentato?": 5,
         "Orario previsto del risveglio questa mattina?": "07:30",
         "Qual è stato l'orario del risveglio finale questa mattina?": "07:30",
         "A che ora si è alzato dal letto?": "07:30",
         "Quante volte si è svegliato/a durante la notte? (0 se non si è svegliato/a)": 0,
         "Quanti minuti in totale è rimasto/a sveglio/a nel corso della notte?": 0,
         "Quanto è stato disturbato il suo sonno la notte scorsa? (1=per niente, 10=moltissimo)": 1,
         "Qualità del sonno la scorsa notte (1=molto scarso, 10=molto buono)": 7,
         "Livello di affaticamento di ieri (1=niente, 10=estremamente stancante)": 4,
         "Livello di sonnolenza di ieri (1=per niente, 10=estremamente sonnolento)": 1,
         "(polar)\r\nDaily activity goal": "115%",
         "(polar)\r\nActual sleep": "93%",
         "(polar)\r\nSleep continuity": 2.6,
         "_deepnote_index_column": 7
        },
        {
         "Data": "08/01/20",
         "Ieri ha fatto un sonnellino di durata (minuti totali)?": 0,
         "A che ora è andato a letto ieri sera?": "23:01",
         "A che ora ha spento la luce per dormire?": "23:39",
         "Dallo spegnimento della luce, in quanto tempo si è addormentato?": 4,
         "Orario previsto del risveglio questa mattina?": "07:00",
         "Qual è stato l'orario del risveglio finale questa mattina?": "07:00",
         "A che ora si è alzato dal letto?": "07:00",
         "Quante volte si è svegliato/a durante la notte? (0 se non si è svegliato/a)": 0,
         "Quanti minuti in totale è rimasto/a sveglio/a nel corso della notte?": 0,
         "Quanto è stato disturbato il suo sonno la notte scorsa? (1=per niente, 10=moltissimo)": 1,
         "Qualità del sonno la scorsa notte (1=molto scarso, 10=molto buono)": 7,
         "Livello di affaticamento di ieri (1=niente, 10=estremamente stancante)": 2,
         "Livello di sonnolenza di ieri (1=per niente, 10=estremamente sonnolento)": 1,
         "(polar)\r\nDaily activity goal": "93%",
         "(polar)\r\nActual sleep": "90%",
         "(polar)\r\nSleep continuity": 2.6,
         "_deepnote_index_column": 8
        },
        {
         "Data": "09/01/20",
         "Ieri ha fatto un sonnellino di durata (minuti totali)?": 0,
         "A che ora è andato a letto ieri sera?": "22:58",
         "A che ora ha spento la luce per dormire?": "23:28",
         "Dallo spegnimento della luce, in quanto tempo si è addormentato?": 6,
         "Orario previsto del risveglio questa mattina?": "06:00",
         "Qual è stato l'orario del risveglio finale questa mattina?": "06:00",
         "A che ora si è alzato dal letto?": "06:00",
         "Quante volte si è svegliato/a durante la notte? (0 se non si è svegliato/a)": 0,
         "Quanti minuti in totale è rimasto/a sveglio/a nel corso della notte?": 0,
         "Quanto è stato disturbato il suo sonno la notte scorsa? (1=per niente, 10=moltissimo)": 1,
         "Qualità del sonno la scorsa notte (1=molto scarso, 10=molto buono)": 6,
         "Livello di affaticamento di ieri (1=niente, 10=estremamente stancante)": 1,
         "Livello di sonnolenza di ieri (1=per niente, 10=estremamente sonnolento)": 2,
         "(polar)\r\nDaily activity goal": "210%",
         "(polar)\r\nActual sleep": "91%",
         "(polar)\r\nSleep continuity": 2.4,
         "_deepnote_index_column": 9
        },
        {
         "Data": "10/01/20",
         "Ieri ha fatto un sonnellino di durata (minuti totali)?": 10,
         "A che ora è andato a letto ieri sera?": "22:59",
         "A che ora ha spento la luce per dormire?": "23:30",
         "Dallo spegnimento della luce, in quanto tempo si è addormentato?": 4,
         "Orario previsto del risveglio questa mattina?": "06:00",
         "Qual è stato l'orario del risveglio finale questa mattina?": "07:00",
         "A che ora si è alzato dal letto?": "07:00",
         "Quante volte si è svegliato/a durante la notte? (0 se non si è svegliato/a)": 1,
         "Quanti minuti in totale è rimasto/a sveglio/a nel corso della notte?": 5,
         "Quanto è stato disturbato il suo sonno la notte scorsa? (1=per niente, 10=moltissimo)": 2,
         "Qualità del sonno la scorsa notte (1=molto scarso, 10=molto buono)": 6,
         "Livello di affaticamento di ieri (1=niente, 10=estremamente stancante)": 6,
         "Livello di sonnolenza di ieri (1=per niente, 10=estremamente sonnolento)": 3,
         "(polar)\r\nDaily activity goal": "109%",
         "(polar)\r\nActual sleep": "92%",
         "(polar)\r\nSleep continuity": 2.4,
         "_deepnote_index_column": 10
        },
        {
         "Data": "11/01/20",
         "Ieri ha fatto un sonnellino di durata (minuti totali)?": 10,
         "A che ora è andato a letto ieri sera?": "23:09",
         "A che ora ha spento la luce per dormire?": "23:55",
         "Dallo spegnimento della luce, in quanto tempo si è addormentato?": 7,
         "Orario previsto del risveglio questa mattina?": "07:30",
         "Qual è stato l'orario del risveglio finale questa mattina?": "07:30",
         "A che ora si è alzato dal letto?": "07:30",
         "Quante volte si è svegliato/a durante la notte? (0 se non si è svegliato/a)": 0,
         "Quanti minuti in totale è rimasto/a sveglio/a nel corso della notte?": 0,
         "Quanto è stato disturbato il suo sonno la notte scorsa? (1=per niente, 10=moltissimo)": 1,
         "Qualità del sonno la scorsa notte (1=molto scarso, 10=molto buono)": 7,
         "Livello di affaticamento di ieri (1=niente, 10=estremamente stancante)": 2,
         "Livello di sonnolenza di ieri (1=per niente, 10=estremamente sonnolento)": 2,
         "(polar)\r\nDaily activity goal": "158%",
         "(polar)\r\nActual sleep": "90%",
         "(polar)\r\nSleep continuity": 1.9,
         "_deepnote_index_column": 11
        },
        {
         "Data": "12/01/20",
         "Ieri ha fatto un sonnellino di durata (minuti totali)?": 0,
         "A che ora è andato a letto ieri sera?": "23:26",
         "A che ora ha spento la luce per dormire?": "00:19",
         "Dallo spegnimento della luce, in quanto tempo si è addormentato?": 5,
         "Orario previsto del risveglio questa mattina?": "07:30",
         "Qual è stato l'orario del risveglio finale questa mattina?": "08:00",
         "A che ora si è alzato dal letto?": "08:00",
         "Quante volte si è svegliato/a durante la notte? (0 se non si è svegliato/a)": 0,
         "Quanti minuti in totale è rimasto/a sveglio/a nel corso della notte?": 0,
         "Quanto è stato disturbato il suo sonno la notte scorsa? (1=per niente, 10=moltissimo)": 1,
         "Qualità del sonno la scorsa notte (1=molto scarso, 10=molto buono)": 8,
         "Livello di affaticamento di ieri (1=niente, 10=estremamente stancante)": 5,
         "Livello di sonnolenza di ieri (1=per niente, 10=estremamente sonnolento)": 1,
         "(polar)\r\nDaily activity goal": "80%",
         "(polar)\r\nActual sleep": "nan",
         "(polar)\r\nSleep continuity": "nan",
         "_deepnote_index_column": 12
        },
        {
         "Data": "13/01/20",
         "Ieri ha fatto un sonnellino di durata (minuti totali)?": 0,
         "A che ora è andato a letto ieri sera?": "23:00",
         "A che ora ha spento la luce per dormire?": "23:22",
         "Dallo spegnimento della luce, in quanto tempo si è addormentato?": 10,
         "Orario previsto del risveglio questa mattina?": "06:00",
         "Qual è stato l'orario del risveglio finale questa mattina?": "06:10",
         "A che ora si è alzato dal letto?": "06:10",
         "Quante volte si è svegliato/a durante la notte? (0 se non si è svegliato/a)": 1,
         "Quanti minuti in totale è rimasto/a sveglio/a nel corso della notte?": 20,
         "Quanto è stato disturbato il suo sonno la notte scorsa? (1=per niente, 10=moltissimo)": 3,
         "Qualità del sonno la scorsa notte (1=molto scarso, 10=molto buono)": 6,
         "Livello di affaticamento di ieri (1=niente, 10=estremamente stancante)": 2,
         "Livello di sonnolenza di ieri (1=per niente, 10=estremamente sonnolento)": 2,
         "(polar)\r\nDaily activity goal": "345%",
         "(polar)\r\nActual sleep": "90%",
         "(polar)\r\nSleep continuity": 2.2,
         "_deepnote_index_column": 13
        },
        {
         "Data": "14/01/20",
         "Ieri ha fatto un sonnellino di durata (minuti totali)?": 0,
         "A che ora è andato a letto ieri sera?": "00:17",
         "A che ora ha spento la luce per dormire?": "00:24",
         "Dallo spegnimento della luce, in quanto tempo si è addormentato?": 9,
         "Orario previsto del risveglio questa mattina?": "06:10",
         "Qual è stato l'orario del risveglio finale questa mattina?": "06:10",
         "A che ora si è alzato dal letto?": "06:10",
         "Quante volte si è svegliato/a durante la notte? (0 se non si è svegliato/a)": 1,
         "Quanti minuti in totale è rimasto/a sveglio/a nel corso della notte?": 5,
         "Quanto è stato disturbato il suo sonno la notte scorsa? (1=per niente, 10=moltissimo)": 3,
         "Qualità del sonno la scorsa notte (1=molto scarso, 10=molto buono)": 5,
         "Livello di affaticamento di ieri (1=niente, 10=estremamente stancante)": 7,
         "Livello di sonnolenza di ieri (1=per niente, 10=estremamente sonnolento)": 1,
         "(polar)\r\nDaily activity goal": "331%",
         "(polar)\r\nActual sleep": "87%",
         "(polar)\r\nSleep continuity": 2.8,
         "_deepnote_index_column": 14
        },
        {
         "Data": "15/01/20",
         "Ieri ha fatto un sonnellino di durata (minuti totali)?": 45,
         "A che ora è andato a letto ieri sera?": "00:24",
         "A che ora ha spento la luce per dormire?": "00:45",
         "Dallo spegnimento della luce, in quanto tempo si è addormentato?": 3,
         "Orario previsto del risveglio questa mattina?": "08:30",
         "Qual è stato l'orario del risveglio finale questa mattina?": "08:30",
         "A che ora si è alzato dal letto?": "08:30",
         "Quante volte si è svegliato/a durante la notte? (0 se non si è svegliato/a)": 3,
         "Quanti minuti in totale è rimasto/a sveglio/a nel corso della notte?": 15,
         "Quanto è stato disturbato il suo sonno la notte scorsa? (1=per niente, 10=moltissimo)": 5,
         "Qualità del sonno la scorsa notte (1=molto scarso, 10=molto buono)": 5,
         "Livello di affaticamento di ieri (1=niente, 10=estremamente stancante)": 7,
         "Livello di sonnolenza di ieri (1=per niente, 10=estremamente sonnolento)": 2,
         "(polar)\r\nDaily activity goal": "154%",
         "(polar)\r\nActual sleep": "93%",
         "(polar)\r\nSleep continuity": 2.4,
         "_deepnote_index_column": 15
        },
        {
         "Data": "16/01/20",
         "Ieri ha fatto un sonnellino di durata (minuti totali)?": 0,
         "A che ora è andato a letto ieri sera?": "00:41",
         "A che ora ha spento la luce per dormire?": "00:55",
         "Dallo spegnimento della luce, in quanto tempo si è addormentato?": 5,
         "Orario previsto del risveglio questa mattina?": "08:30",
         "Qual è stato l'orario del risveglio finale questa mattina?": "08:30",
         "A che ora si è alzato dal letto?": "08:30",
         "Quante volte si è svegliato/a durante la notte? (0 se non si è svegliato/a)": 0,
         "Quanti minuti in totale è rimasto/a sveglio/a nel corso della notte?": 0,
         "Quanto è stato disturbato il suo sonno la notte scorsa? (1=per niente, 10=moltissimo)": 1,
         "Qualità del sonno la scorsa notte (1=molto scarso, 10=molto buono)": 8,
         "Livello di affaticamento di ieri (1=niente, 10=estremamente stancante)": 4,
         "Livello di sonnolenza di ieri (1=per niente, 10=estremamente sonnolento)": 2,
         "(polar)\r\nDaily activity goal": "77%",
         "(polar)\r\nActual sleep": "92%",
         "(polar)\r\nSleep continuity": 2.2,
         "_deepnote_index_column": 16
        },
        {
         "Data": "17/01/20",
         "Ieri ha fatto un sonnellino di durata (minuti totali)?": 0,
         "A che ora è andato a letto ieri sera?": "23:18",
         "A che ora ha spento la luce per dormire?": "00:05",
         "Dallo spegnimento della luce, in quanto tempo si è addormentato?": 5,
         "Orario previsto del risveglio questa mattina?": "07:40",
         "Qual è stato l'orario del risveglio finale questa mattina?": "07:40",
         "A che ora si è alzato dal letto?": "07:40",
         "Quante volte si è svegliato/a durante la notte? (0 se non si è svegliato/a)": 1,
         "Quanti minuti in totale è rimasto/a sveglio/a nel corso della notte?": 2,
         "Quanto è stato disturbato il suo sonno la notte scorsa? (1=per niente, 10=moltissimo)": 1,
         "Qualità del sonno la scorsa notte (1=molto scarso, 10=molto buono)": 7,
         "Livello di affaticamento di ieri (1=niente, 10=estremamente stancante)": 2,
         "Livello di sonnolenza di ieri (1=per niente, 10=estremamente sonnolento)": 1,
         "(polar)\r\nDaily activity goal": "140%",
         "(polar)\r\nActual sleep": "92%",
         "(polar)\r\nSleep continuity": 3,
         "_deepnote_index_column": 17
        },
        {
         "Data": "18/01/20",
         "Ieri ha fatto un sonnellino di durata (minuti totali)?": 0,
         "A che ora è andato a letto ieri sera?": "23:15",
         "A che ora ha spento la luce per dormire?": "23:22",
         "Dallo spegnimento della luce, in quanto tempo si è addormentato?": 5,
         "Orario previsto del risveglio questa mattina?": "06:30",
         "Qual è stato l'orario del risveglio finale questa mattina?": "06:30",
         "A che ora si è alzato dal letto?": "06:30",
         "Quante volte si è svegliato/a durante la notte? (0 se non si è svegliato/a)": 0,
         "Quanti minuti in totale è rimasto/a sveglio/a nel corso della notte?": 0,
         "Quanto è stato disturbato il suo sonno la notte scorsa? (1=per niente, 10=moltissimo)": 1,
         "Qualità del sonno la scorsa notte (1=molto scarso, 10=molto buono)": 7,
         "Livello di affaticamento di ieri (1=niente, 10=estremamente stancante)": 3,
         "Livello di sonnolenza di ieri (1=per niente, 10=estremamente sonnolento)": 1,
         "(polar)\r\nDaily activity goal": "199%",
         "(polar)\r\nActual sleep": "93%",
         "(polar)\r\nSleep continuity": 2.7,
         "_deepnote_index_column": 18
        },
        {
         "Data": "19/01/20",
         "Ieri ha fatto un sonnellino di durata (minuti totali)?": 0,
         "A che ora è andato a letto ieri sera?": "23:39",
         "A che ora ha spento la luce per dormire?": "00:16",
         "Dallo spegnimento della luce, in quanto tempo si è addormentato?": 2,
         "Orario previsto del risveglio questa mattina?": "07:30",
         "Qual è stato l'orario del risveglio finale questa mattina?": "08:00",
         "A che ora si è alzato dal letto?": "08:00",
         "Quante volte si è svegliato/a durante la notte? (0 se non si è svegliato/a)": 0,
         "Quanti minuti in totale è rimasto/a sveglio/a nel corso della notte?": 0,
         "Quanto è stato disturbato il suo sonno la notte scorsa? (1=per niente, 10=moltissimo)": 1,
         "Qualità del sonno la scorsa notte (1=molto scarso, 10=molto buono)": 8,
         "Livello di affaticamento di ieri (1=niente, 10=estremamente stancante)": 4,
         "Livello di sonnolenza di ieri (1=per niente, 10=estremamente sonnolento)": 1,
         "(polar)\r\nDaily activity goal": "97%",
         "(polar)\r\nActual sleep": "92%",
         "(polar)\r\nSleep continuity": 2.6,
         "_deepnote_index_column": 19
        },
        {
         "Data": "20/01/20",
         "Ieri ha fatto un sonnellino di durata (minuti totali)?": 0,
         "A che ora è andato a letto ieri sera?": "23:10",
         "A che ora ha spento la luce per dormire?": "23:48",
         "Dallo spegnimento della luce, in quanto tempo si è addormentato?": 4,
         "Orario previsto del risveglio questa mattina?": "06:00",
         "Qual è stato l'orario del risveglio finale questa mattina?": "07:15",
         "A che ora si è alzato dal letto?": "07:15",
         "Quante volte si è svegliato/a durante la notte? (0 se non si è svegliato/a)": 2,
         "Quanti minuti in totale è rimasto/a sveglio/a nel corso della notte?": 30,
         "Quanto è stato disturbato il suo sonno la notte scorsa? (1=per niente, 10=moltissimo)": 4,
         "Qualità del sonno la scorsa notte (1=molto scarso, 10=molto buono)": 6,
         "Livello di affaticamento di ieri (1=niente, 10=estremamente stancante)": 2,
         "Livello di sonnolenza di ieri (1=per niente, 10=estremamente sonnolento)": 1,
         "(polar)\r\nDaily activity goal": "210%",
         "(polar)\r\nActual sleep": "92%",
         "(polar)\r\nSleep continuity": 2.7,
         "_deepnote_index_column": 20
        },
        {
         "Data": "21/01/20",
         "Ieri ha fatto un sonnellino di durata (minuti totali)?": 0,
         "A che ora è andato a letto ieri sera?": "23:57",
         "A che ora ha spento la luce per dormire?": "00:03",
         "Dallo spegnimento della luce, in quanto tempo si è addormentato?": 5,
         "Orario previsto del risveglio questa mattina?": "06:00",
         "Qual è stato l'orario del risveglio finale questa mattina?": "06:00",
         "A che ora si è alzato dal letto?": "06:00",
         "Quante volte si è svegliato/a durante la notte? (0 se non si è svegliato/a)": 0,
         "Quanti minuti in totale è rimasto/a sveglio/a nel corso della notte?": 0,
         "Quanto è stato disturbato il suo sonno la notte scorsa? (1=per niente, 10=moltissimo)": 1,
         "Qualità del sonno la scorsa notte (1=molto scarso, 10=molto buono)": 7,
         "Livello di affaticamento di ieri (1=niente, 10=estremamente stancante)": 5,
         "Livello di sonnolenza di ieri (1=per niente, 10=estremamente sonnolento)": 1,
         "(polar)\r\nDaily activity goal": "191%",
         "(polar)\r\nActual sleep": "94%",
         "(polar)\r\nSleep continuity": 3,
         "_deepnote_index_column": 21
        },
        {
         "Data": "22/01/20",
         "Ieri ha fatto un sonnellino di durata (minuti totali)?": 20,
         "A che ora è andato a letto ieri sera?": "23:25",
         "A che ora ha spento la luce per dormire?": "00:05",
         "Dallo spegnimento della luce, in quanto tempo si è addormentato?": 5,
         "Orario previsto del risveglio questa mattina?": "06:00",
         "Qual è stato l'orario del risveglio finale questa mattina?": "06:00",
         "A che ora si è alzato dal letto?": "06:00",
         "Quante volte si è svegliato/a durante la notte? (0 se non si è svegliato/a)": 0,
         "Quanti minuti in totale è rimasto/a sveglio/a nel corso della notte?": 0,
         "Quanto è stato disturbato il suo sonno la notte scorsa? (1=per niente, 10=moltissimo)": 1,
         "Qualità del sonno la scorsa notte (1=molto scarso, 10=molto buono)": 8,
         "Livello di affaticamento di ieri (1=niente, 10=estremamente stancante)": 5,
         "Livello di sonnolenza di ieri (1=per niente, 10=estremamente sonnolento)": 5,
         "(polar)\r\nDaily activity goal": "196%",
         "(polar)\r\nActual sleep": "94%",
         "(polar)\r\nSleep continuity": 3.7,
         "_deepnote_index_column": 22
        },
        {
         "Data": "23/01/20",
         "Ieri ha fatto un sonnellino di durata (minuti totali)?": 0,
         "A che ora è andato a letto ieri sera?": "23:35",
         "A che ora ha spento la luce per dormire?": "23:56",
         "Dallo spegnimento della luce, in quanto tempo si è addormentato?": 4,
         "Orario previsto del risveglio questa mattina?": "06:00",
         "Qual è stato l'orario del risveglio finale questa mattina?": "06:00",
         "A che ora si è alzato dal letto?": "06:00",
         "Quante volte si è svegliato/a durante la notte? (0 se non si è svegliato/a)": 1,
         "Quanti minuti in totale è rimasto/a sveglio/a nel corso della notte?": 5,
         "Quanto è stato disturbato il suo sonno la notte scorsa? (1=per niente, 10=moltissimo)": 3,
         "Qualità del sonno la scorsa notte (1=molto scarso, 10=molto buono)": 6,
         "Livello di affaticamento di ieri (1=niente, 10=estremamente stancante)": 6,
         "Livello di sonnolenza di ieri (1=per niente, 10=estremamente sonnolento)": 3,
         "(polar)\r\nDaily activity goal": "150%",
         "(polar)\r\nActual sleep": "93%",
         "(polar)\r\nSleep continuity": 3.4,
         "_deepnote_index_column": 23
        },
        {
         "Data": "24/01/20",
         "Ieri ha fatto un sonnellino di durata (minuti totali)?": 0,
         "A che ora è andato a letto ieri sera?": "23:02",
         "A che ora ha spento la luce per dormire?": "23:11",
         "Dallo spegnimento della luce, in quanto tempo si è addormentato?": 4,
         "Orario previsto del risveglio questa mattina?": "06:45",
         "Qual è stato l'orario del risveglio finale questa mattina?": "06:45",
         "A che ora si è alzato dal letto?": "06:45",
         "Quante volte si è svegliato/a durante la notte? (0 se non si è svegliato/a)": 0,
         "Quanti minuti in totale è rimasto/a sveglio/a nel corso della notte?": 0,
         "Quanto è stato disturbato il suo sonno la notte scorsa? (1=per niente, 10=moltissimo)": 1,
         "Qualità del sonno la scorsa notte (1=molto scarso, 10=molto buono)": 8,
         "Livello di affaticamento di ieri (1=niente, 10=estremamente stancante)": 6,
         "Livello di sonnolenza di ieri (1=per niente, 10=estremamente sonnolento)": 3,
         "(polar)\r\nDaily activity goal": "76%",
         "(polar)\r\nActual sleep": "93%",
         "(polar)\r\nSleep continuity": 2.8,
         "_deepnote_index_column": 24
        },
        {
         "Data": "25/01/20",
         "Ieri ha fatto un sonnellino di durata (minuti totali)?": 0,
         "A che ora è andato a letto ieri sera?": "22:53",
         "A che ora ha spento la luce per dormire?": "23:20",
         "Dallo spegnimento della luce, in quanto tempo si è addormentato?": 4,
         "Orario previsto del risveglio questa mattina?": "06:00",
         "Qual è stato l'orario del risveglio finale questa mattina?": "06:30",
         "A che ora si è alzato dal letto?": "06:30",
         "Quante volte si è svegliato/a durante la notte? (0 se non si è svegliato/a)": 0,
         "Quanti minuti in totale è rimasto/a sveglio/a nel corso della notte?": 0,
         "Quanto è stato disturbato il suo sonno la notte scorsa? (1=per niente, 10=moltissimo)": 1,
         "Qualità del sonno la scorsa notte (1=molto scarso, 10=molto buono)": 7,
         "Livello di affaticamento di ieri (1=niente, 10=estremamente stancante)": 1,
         "Livello di sonnolenza di ieri (1=per niente, 10=estremamente sonnolento)": 1,
         "(polar)\r\nDaily activity goal": "280%",
         "(polar)\r\nActual sleep": "93%",
         "(polar)\r\nSleep continuity": 3,
         "_deepnote_index_column": 25
        },
        {
         "Data": "26/01/20",
         "Ieri ha fatto un sonnellino di durata (minuti totali)?": 0,
         "A che ora è andato a letto ieri sera?": "23:42",
         "A che ora ha spento la luce per dormire?": "23:57",
         "Dallo spegnimento della luce, in quanto tempo si è addormentato?": 5,
         "Orario previsto del risveglio questa mattina?": "07:30",
         "Qual è stato l'orario del risveglio finale questa mattina?": "07:07",
         "A che ora si è alzato dal letto?": "07:07",
         "Quante volte si è svegliato/a durante la notte? (0 se non si è svegliato/a)": 1,
         "Quanti minuti in totale è rimasto/a sveglio/a nel corso della notte?": 2,
         "Quanto è stato disturbato il suo sonno la notte scorsa? (1=per niente, 10=moltissimo)": 1,
         "Qualità del sonno la scorsa notte (1=molto scarso, 10=molto buono)": 8,
         "Livello di affaticamento di ieri (1=niente, 10=estremamente stancante)": 5,
         "Livello di sonnolenza di ieri (1=per niente, 10=estremamente sonnolento)": 1,
         "(polar)\r\nDaily activity goal": "139%",
         "(polar)\r\nActual sleep": "94%",
         "(polar)\r\nSleep continuity": 2.9,
         "_deepnote_index_column": 26
        },
        {
         "Data": "27/01/20",
         "Ieri ha fatto un sonnellino di durata (minuti totali)?": 0,
         "A che ora è andato a letto ieri sera?": "23:55",
         "A che ora ha spento la luce per dormire?": "00:13",
         "Dallo spegnimento della luce, in quanto tempo si è addormentato?": 4,
         "Orario previsto del risveglio questa mattina?": "06:20",
         "Qual è stato l'orario del risveglio finale questa mattina?": "06:20",
         "A che ora si è alzato dal letto?": "06:20",
         "Quante volte si è svegliato/a durante la notte? (0 se non si è svegliato/a)": 1,
         "Quanti minuti in totale è rimasto/a sveglio/a nel corso della notte?": 5,
         "Quanto è stato disturbato il suo sonno la notte scorsa? (1=per niente, 10=moltissimo)": 2,
         "Qualità del sonno la scorsa notte (1=molto scarso, 10=molto buono)": 7,
         "Livello di affaticamento di ieri (1=niente, 10=estremamente stancante)": 4,
         "Livello di sonnolenza di ieri (1=per niente, 10=estremamente sonnolento)": 2,
         "(polar)\r\nDaily activity goal": "226%",
         "(polar)\r\nActual sleep": "96%",
         "(polar)\r\nSleep continuity": 3.6,
         "_deepnote_index_column": 27
        },
        {
         "Data": "28/01/20",
         "Ieri ha fatto un sonnellino di durata (minuti totali)?": 30,
         "A che ora è andato a letto ieri sera?": "23:22",
         "A che ora ha spento la luce per dormire?": "23:40",
         "Dallo spegnimento della luce, in quanto tempo si è addormentato?": 4,
         "Orario previsto del risveglio questa mattina?": "06:00",
         "Qual è stato l'orario del risveglio finale questa mattina?": "06:00",
         "A che ora si è alzato dal letto?": "06:00",
         "Quante volte si è svegliato/a durante la notte? (0 se non si è svegliato/a)": 1,
         "Quanti minuti in totale è rimasto/a sveglio/a nel corso della notte?": 2,
         "Quanto è stato disturbato il suo sonno la notte scorsa? (1=per niente, 10=moltissimo)": 1,
         "Qualità del sonno la scorsa notte (1=molto scarso, 10=molto buono)": 6,
         "Livello di affaticamento di ieri (1=niente, 10=estremamente stancante)": 7,
         "Livello di sonnolenza di ieri (1=per niente, 10=estremamente sonnolento)": 2,
         "(polar)\r\nDaily activity goal": "185%",
         "(polar)\r\nActual sleep": "91%",
         "(polar)\r\nSleep continuity": 2.8,
         "_deepnote_index_column": 28
        }
       ],
       "rows_bottom": [
        {
         "Data": "03/12/20",
         "Ieri ha fatto un sonnellino di durata (minuti totali)?": 0,
         "A che ora è andato a letto ieri sera?": "22:38",
         "A che ora ha spento la luce per dormire?": "22:41",
         "Dallo spegnimento della luce, in quanto tempo si è addormentato?": 18,
         "Orario previsto del risveglio questa mattina?": "06:30",
         "Qual è stato l'orario del risveglio finale questa mattina?": "06:30",
         "A che ora si è alzato dal letto?": "06:30",
         "Quante volte si è svegliato/a durante la notte? (0 se non si è svegliato/a)": 0,
         "Quanti minuti in totale è rimasto/a sveglio/a nel corso della notte?": 0,
         "Quanto è stato disturbato il suo sonno la notte scorsa? (1=per niente, 10=moltissimo)": 1,
         "Qualità del sonno la scorsa notte (1=molto scarso, 10=molto buono)": 7,
         "Livello di affaticamento di ieri (1=niente, 10=estremamente stancante)": 2,
         "Livello di sonnolenza di ieri (1=per niente, 10=estremamente sonnolento)": 1,
         "(polar)\r\nDaily activity goal": "249%",
         "(polar)\r\nActual sleep": "94%",
         "(polar)\r\nSleep continuity": 2.7,
         "_deepnote_index_column": 338
        },
        {
         "Data": "04/12/20",
         "Ieri ha fatto un sonnellino di durata (minuti totali)?": 0,
         "A che ora è andato a letto ieri sera?": "22:41",
         "A che ora ha spento la luce per dormire?": "22:45",
         "Dallo spegnimento della luce, in quanto tempo si è addormentato?": 20,
         "Orario previsto del risveglio questa mattina?": "06:30",
         "Qual è stato l'orario del risveglio finale questa mattina?": "06:30",
         "A che ora si è alzato dal letto?": "06:30",
         "Quante volte si è svegliato/a durante la notte? (0 se non si è svegliato/a)": 1,
         "Quanti minuti in totale è rimasto/a sveglio/a nel corso della notte?": 5,
         "Quanto è stato disturbato il suo sonno la notte scorsa? (1=per niente, 10=moltissimo)": 1,
         "Qualità del sonno la scorsa notte (1=molto scarso, 10=molto buono)": 7,
         "Livello di affaticamento di ieri (1=niente, 10=estremamente stancante)": 6,
         "Livello di sonnolenza di ieri (1=per niente, 10=estremamente sonnolento)": 1,
         "(polar)\r\nDaily activity goal": "95%",
         "(polar)\r\nActual sleep": "nan",
         "(polar)\r\nSleep continuity": "nan",
         "_deepnote_index_column": 339
        },
        {
         "Data": "05/12/20",
         "Ieri ha fatto un sonnellino di durata (minuti totali)?": 0,
         "A che ora è andato a letto ieri sera?": "22:36",
         "A che ora ha spento la luce per dormire?": "22:39",
         "Dallo spegnimento della luce, in quanto tempo si è addormentato?": 22,
         "Orario previsto del risveglio questa mattina?": "06:30",
         "Qual è stato l'orario del risveglio finale questa mattina?": "06:30",
         "A che ora si è alzato dal letto?": "06:30",
         "Quante volte si è svegliato/a durante la notte? (0 se non si è svegliato/a)": 1,
         "Quanti minuti in totale è rimasto/a sveglio/a nel corso della notte?": 5,
         "Quanto è stato disturbato il suo sonno la notte scorsa? (1=per niente, 10=moltissimo)": 2,
         "Qualità del sonno la scorsa notte (1=molto scarso, 10=molto buono)": 6,
         "Livello di affaticamento di ieri (1=niente, 10=estremamente stancante)": 1,
         "Livello di sonnolenza di ieri (1=per niente, 10=estremamente sonnolento)": 1,
         "(polar)\r\nDaily activity goal": "340%",
         "(polar)\r\nActual sleep": "89%",
         "(polar)\r\nSleep continuity": 2.9,
         "_deepnote_index_column": 340
        },
        {
         "Data": "06/12/20",
         "Ieri ha fatto un sonnellino di durata (minuti totali)?": 0,
         "A che ora è andato a letto ieri sera?": "22:45",
         "A che ora ha spento la luce per dormire?": "22:46",
         "Dallo spegnimento della luce, in quanto tempo si è addormentato?": 10,
         "Orario previsto del risveglio questa mattina?": "06:30",
         "Qual è stato l'orario del risveglio finale questa mattina?": "06:30",
         "A che ora si è alzato dal letto?": "06:30",
         "Quante volte si è svegliato/a durante la notte? (0 se non si è svegliato/a)": 1,
         "Quanti minuti in totale è rimasto/a sveglio/a nel corso della notte?": 15,
         "Quanto è stato disturbato il suo sonno la notte scorsa? (1=per niente, 10=moltissimo)": 2,
         "Qualità del sonno la scorsa notte (1=molto scarso, 10=molto buono)": 6,
         "Livello di affaticamento di ieri (1=niente, 10=estremamente stancante)": 5,
         "Livello di sonnolenza di ieri (1=per niente, 10=estremamente sonnolento)": 1,
         "(polar)\r\nDaily activity goal": "184%",
         "(polar)\r\nActual sleep": "nan",
         "(polar)\r\nSleep continuity": "nan",
         "_deepnote_index_column": 341
        },
        {
         "Data": "07/12/20",
         "Ieri ha fatto un sonnellino di durata (minuti totali)?": 0,
         "A che ora è andato a letto ieri sera?": "22:31",
         "A che ora ha spento la luce per dormire?": "22:41",
         "Dallo spegnimento della luce, in quanto tempo si è addormentato?": 18,
         "Orario previsto del risveglio questa mattina?": "06:30",
         "Qual è stato l'orario del risveglio finale questa mattina?": "06:33",
         "A che ora si è alzato dal letto?": "06:33",
         "Quante volte si è svegliato/a durante la notte? (0 se non si è svegliato/a)": 1,
         "Quanti minuti in totale è rimasto/a sveglio/a nel corso della notte?": 5,
         "Quanto è stato disturbato il suo sonno la notte scorsa? (1=per niente, 10=moltissimo)": 2,
         "Qualità del sonno la scorsa notte (1=molto scarso, 10=molto buono)": 6,
         "Livello di affaticamento di ieri (1=niente, 10=estremamente stancante)": 7,
         "Livello di sonnolenza di ieri (1=per niente, 10=estremamente sonnolento)": 3,
         "(polar)\r\nDaily activity goal": "169%",
         "(polar)\r\nActual sleep": "90%",
         "(polar)\r\nSleep continuity": 2.5,
         "_deepnote_index_column": 342
        },
        {
         "Data": "08/12/20",
         "Ieri ha fatto un sonnellino di durata (minuti totali)?": 0,
         "A che ora è andato a letto ieri sera?": "22:44",
         "A che ora ha spento la luce per dormire?": "22:45",
         "Dallo spegnimento della luce, in quanto tempo si è addormentato?": 11,
         "Orario previsto del risveglio questa mattina?": "06:30",
         "Qual è stato l'orario del risveglio finale questa mattina?": "06:30",
         "A che ora si è alzato dal letto?": "06:30",
         "Quante volte si è svegliato/a durante la notte? (0 se non si è svegliato/a)": 0,
         "Quanti minuti in totale è rimasto/a sveglio/a nel corso della notte?": 0,
         "Quanto è stato disturbato il suo sonno la notte scorsa? (1=per niente, 10=moltissimo)": 1,
         "Qualità del sonno la scorsa notte (1=molto scarso, 10=molto buono)": 8,
         "Livello di affaticamento di ieri (1=niente, 10=estremamente stancante)": 4,
         "Livello di sonnolenza di ieri (1=per niente, 10=estremamente sonnolento)": 1,
         "(polar)\r\nDaily activity goal": "135%",
         "(polar)\r\nActual sleep": "90%",
         "(polar)\r\nSleep continuity": 2,
         "_deepnote_index_column": 343
        },
        {
         "Data": "09/12/20",
         "Ieri ha fatto un sonnellino di durata (minuti totali)?": 0,
         "A che ora è andato a letto ieri sera?": "22:42",
         "A che ora ha spento la luce per dormire?": "22:45",
         "Dallo spegnimento della luce, in quanto tempo si è addormentato?": 9,
         "Orario previsto del risveglio questa mattina?": "06:30",
         "Qual è stato l'orario del risveglio finale questa mattina?": "06:30",
         "A che ora si è alzato dal letto?": "06:30",
         "Quante volte si è svegliato/a durante la notte? (0 se non si è svegliato/a)": 1,
         "Quanti minuti in totale è rimasto/a sveglio/a nel corso della notte?": 10,
         "Quanto è stato disturbato il suo sonno la notte scorsa? (1=per niente, 10=moltissimo)": 2,
         "Qualità del sonno la scorsa notte (1=molto scarso, 10=molto buono)": 6,
         "Livello di affaticamento di ieri (1=niente, 10=estremamente stancante)": 4,
         "Livello di sonnolenza di ieri (1=per niente, 10=estremamente sonnolento)": 4,
         "(polar)\r\nDaily activity goal": "153%",
         "(polar)\r\nActual sleep": "91%",
         "(polar)\r\nSleep continuity": 2.1,
         "_deepnote_index_column": 344
        },
        {
         "Data": "10/12/20",
         "Ieri ha fatto un sonnellino di durata (minuti totali)?": 0,
         "A che ora è andato a letto ieri sera?": "22:41",
         "A che ora ha spento la luce per dormire?": "22:43",
         "Dallo spegnimento della luce, in quanto tempo si è addormentato?": 31,
         "Orario previsto del risveglio questa mattina?": "06:30",
         "Qual è stato l'orario del risveglio finale questa mattina?": "06:30",
         "A che ora si è alzato dal letto?": "06:30",
         "Quante volte si è svegliato/a durante la notte? (0 se non si è svegliato/a)": 0,
         "Quanti minuti in totale è rimasto/a sveglio/a nel corso della notte?": 0,
         "Quanto è stato disturbato il suo sonno la notte scorsa? (1=per niente, 10=moltissimo)": 1,
         "Qualità del sonno la scorsa notte (1=molto scarso, 10=molto buono)": 7,
         "Livello di affaticamento di ieri (1=niente, 10=estremamente stancante)": 2,
         "Livello di sonnolenza di ieri (1=per niente, 10=estremamente sonnolento)": 1,
         "(polar)\r\nDaily activity goal": "264%",
         "(polar)\r\nActual sleep": "92%",
         "(polar)\r\nSleep continuity": 2.4,
         "_deepnote_index_column": 345
        },
        {
         "Data": "11/12/20",
         "Ieri ha fatto un sonnellino di durata (minuti totali)?": 0,
         "A che ora è andato a letto ieri sera?": "22:41",
         "A che ora ha spento la luce per dormire?": "22:44",
         "Dallo spegnimento della luce, in quanto tempo si è addormentato?": 33,
         "Orario previsto del risveglio questa mattina?": "06:30",
         "Qual è stato l'orario del risveglio finale questa mattina?": "06:30",
         "A che ora si è alzato dal letto?": "06:30",
         "Quante volte si è svegliato/a durante la notte? (0 se non si è svegliato/a)": 2,
         "Quanti minuti in totale è rimasto/a sveglio/a nel corso della notte?": 5,
         "Quanto è stato disturbato il suo sonno la notte scorsa? (1=per niente, 10=moltissimo)": 2,
         "Qualità del sonno la scorsa notte (1=molto scarso, 10=molto buono)": 7,
         "Livello di affaticamento di ieri (1=niente, 10=estremamente stancante)": 6,
         "Livello di sonnolenza di ieri (1=per niente, 10=estremamente sonnolento)": 4,
         "(polar)\r\nDaily activity goal": "164%",
         "(polar)\r\nActual sleep": "92%",
         "(polar)\r\nSleep continuity": 2.1,
         "_deepnote_index_column": 346
        },
        {
         "Data": "12/12/20",
         "Ieri ha fatto un sonnellino di durata (minuti totali)?": 0,
         "A che ora è andato a letto ieri sera?": "22:43",
         "A che ora ha spento la luce per dormire?": "22:44",
         "Dallo spegnimento della luce, in quanto tempo si è addormentato?": 5,
         "Orario previsto del risveglio questa mattina?": "06:30",
         "Qual è stato l'orario del risveglio finale questa mattina?": "06:30",
         "A che ora si è alzato dal letto?": "06:30",
         "Quante volte si è svegliato/a durante la notte? (0 se non si è svegliato/a)": 1,
         "Quanti minuti in totale è rimasto/a sveglio/a nel corso della notte?": 5,
         "Quanto è stato disturbato il suo sonno la notte scorsa? (1=per niente, 10=moltissimo)": 2,
         "Qualità del sonno la scorsa notte (1=molto scarso, 10=molto buono)": 7,
         "Livello di affaticamento di ieri (1=niente, 10=estremamente stancante)": 1,
         "Livello di sonnolenza di ieri (1=per niente, 10=estremamente sonnolento)": 1,
         "(polar)\r\nDaily activity goal": "292%",
         "(polar)\r\nActual sleep": "91%",
         "(polar)\r\nSleep continuity": 2.4,
         "_deepnote_index_column": 347
        },
        {
         "Data": "13/12/20",
         "Ieri ha fatto un sonnellino di durata (minuti totali)?": 0,
         "A che ora è andato a letto ieri sera?": "22:42",
         "A che ora ha spento la luce per dormire?": "22:44",
         "Dallo spegnimento della luce, in quanto tempo si è addormentato?": 6,
         "Orario previsto del risveglio questa mattina?": "06:30",
         "Qual è stato l'orario del risveglio finale questa mattina?": "06:30",
         "A che ora si è alzato dal letto?": "06:30",
         "Quante volte si è svegliato/a durante la notte? (0 se non si è svegliato/a)": 1,
         "Quanti minuti in totale è rimasto/a sveglio/a nel corso della notte?": 5,
         "Quanto è stato disturbato il suo sonno la notte scorsa? (1=per niente, 10=moltissimo)": 2,
         "Qualità del sonno la scorsa notte (1=molto scarso, 10=molto buono)": 7,
         "Livello di affaticamento di ieri (1=niente, 10=estremamente stancante)": 5,
         "Livello di sonnolenza di ieri (1=per niente, 10=estremamente sonnolento)": 1,
         "(polar)\r\nDaily activity goal": "205%",
         "(polar)\r\nActual sleep": "92%",
         "(polar)\r\nSleep continuity": 2.3,
         "_deepnote_index_column": 348
        },
        {
         "Data": "14/12/20",
         "Ieri ha fatto un sonnellino di durata (minuti totali)?": 0,
         "A che ora è andato a letto ieri sera?": "22:44",
         "A che ora ha spento la luce per dormire?": "22:45",
         "Dallo spegnimento della luce, in quanto tempo si è addormentato?": 25,
         "Orario previsto del risveglio questa mattina?": "06:30",
         "Qual è stato l'orario del risveglio finale questa mattina?": "06:30",
         "A che ora si è alzato dal letto?": "06:30",
         "Quante volte si è svegliato/a durante la notte? (0 se non si è svegliato/a)": 1,
         "Quanti minuti in totale è rimasto/a sveglio/a nel corso della notte?": 5,
         "Quanto è stato disturbato il suo sonno la notte scorsa? (1=per niente, 10=moltissimo)": 2,
         "Qualità del sonno la scorsa notte (1=molto scarso, 10=molto buono)": 7,
         "Livello di affaticamento di ieri (1=niente, 10=estremamente stancante)": 6,
         "Livello di sonnolenza di ieri (1=per niente, 10=estremamente sonnolento)": 1,
         "(polar)\r\nDaily activity goal": "119%",
         "(polar)\r\nActual sleep": "88%",
         "(polar)\r\nSleep continuity": 2,
         "_deepnote_index_column": 349
        },
        {
         "Data": "15/12/20",
         "Ieri ha fatto un sonnellino di durata (minuti totali)?": 0,
         "A che ora è andato a letto ieri sera?": "22:40",
         "A che ora ha spento la luce per dormire?": "22:43",
         "Dallo spegnimento della luce, in quanto tempo si è addormentato?": 17,
         "Orario previsto del risveglio questa mattina?": "06:30",
         "Qual è stato l'orario del risveglio finale questa mattina?": "06:30",
         "A che ora si è alzato dal letto?": "06:30",
         "Quante volte si è svegliato/a durante la notte? (0 se non si è svegliato/a)": 0,
         "Quanti minuti in totale è rimasto/a sveglio/a nel corso della notte?": 0,
         "Quanto è stato disturbato il suo sonno la notte scorsa? (1=per niente, 10=moltissimo)": 1,
         "Qualità del sonno la scorsa notte (1=molto scarso, 10=molto buono)": 8,
         "Livello di affaticamento di ieri (1=niente, 10=estremamente stancante)": 2,
         "Livello di sonnolenza di ieri (1=per niente, 10=estremamente sonnolento)": 2,
         "(polar)\r\nDaily activity goal": "332%",
         "(polar)\r\nActual sleep": "90%",
         "(polar)\r\nSleep continuity": 1.9,
         "_deepnote_index_column": 350
        },
        {
         "Data": "16/12/20",
         "Ieri ha fatto un sonnellino di durata (minuti totali)?": 0,
         "A che ora è andato a letto ieri sera?": "22:40",
         "A che ora ha spento la luce per dormire?": "22:43",
         "Dallo spegnimento della luce, in quanto tempo si è addormentato?": 5,
         "Orario previsto del risveglio questa mattina?": "06:30",
         "Qual è stato l'orario del risveglio finale questa mattina?": "06:30",
         "A che ora si è alzato dal letto?": "06:30",
         "Quante volte si è svegliato/a durante la notte? (0 se non si è svegliato/a)": 1,
         "Quanti minuti in totale è rimasto/a sveglio/a nel corso della notte?": 5,
         "Quanto è stato disturbato il suo sonno la notte scorsa? (1=per niente, 10=moltissimo)": 2,
         "Qualità del sonno la scorsa notte (1=molto scarso, 10=molto buono)": 8,
         "Livello di affaticamento di ieri (1=niente, 10=estremamente stancante)": 6,
         "Livello di sonnolenza di ieri (1=per niente, 10=estremamente sonnolento)": 1,
         "(polar)\r\nDaily activity goal": "120%",
         "(polar)\r\nActual sleep": "91%",
         "(polar)\r\nSleep continuity": 1.9,
         "_deepnote_index_column": 351
        },
        {
         "Data": "17/12/20",
         "Ieri ha fatto un sonnellino di durata (minuti totali)?": 0,
         "A che ora è andato a letto ieri sera?": "22:37",
         "A che ora ha spento la luce per dormire?": "22:42",
         "Dallo spegnimento della luce, in quanto tempo si è addormentato?": 30,
         "Orario previsto del risveglio questa mattina?": "06:30",
         "Qual è stato l'orario del risveglio finale questa mattina?": "06:30",
         "A che ora si è alzato dal letto?": "06:30",
         "Quante volte si è svegliato/a durante la notte? (0 se non si è svegliato/a)": 0,
         "Quanti minuti in totale è rimasto/a sveglio/a nel corso della notte?": 0,
         "Quanto è stato disturbato il suo sonno la notte scorsa? (1=per niente, 10=moltissimo)": 1,
         "Qualità del sonno la scorsa notte (1=molto scarso, 10=molto buono)": 7,
         "Livello di affaticamento di ieri (1=niente, 10=estremamente stancante)": 2,
         "Livello di sonnolenza di ieri (1=per niente, 10=estremamente sonnolento)": 1,
         "(polar)\r\nDaily activity goal": "303%",
         "(polar)\r\nActual sleep": "nan",
         "(polar)\r\nSleep continuity": "nan",
         "_deepnote_index_column": 352
        },
        {
         "Data": "18/12/20",
         "Ieri ha fatto un sonnellino di durata (minuti totali)?": 0,
         "A che ora è andato a letto ieri sera?": "22:40",
         "A che ora ha spento la luce per dormire?": "22:41",
         "Dallo spegnimento della luce, in quanto tempo si è addormentato?": 5,
         "Orario previsto del risveglio questa mattina?": "06:30",
         "Qual è stato l'orario del risveglio finale questa mattina?": "06:30",
         "A che ora si è alzato dal letto?": "06:30",
         "Quante volte si è svegliato/a durante la notte? (0 se non si è svegliato/a)": 1,
         "Quanti minuti in totale è rimasto/a sveglio/a nel corso della notte?": 5,
         "Quanto è stato disturbato il suo sonno la notte scorsa? (1=per niente, 10=moltissimo)": 2,
         "Qualità del sonno la scorsa notte (1=molto scarso, 10=molto buono)": 7,
         "Livello di affaticamento di ieri (1=niente, 10=estremamente stancante)": 6,
         "Livello di sonnolenza di ieri (1=per niente, 10=estremamente sonnolento)": 1,
         "(polar)\r\nDaily activity goal": "106%",
         "(polar)\r\nActual sleep": "nan",
         "(polar)\r\nSleep continuity": "nan",
         "_deepnote_index_column": 353
        },
        {
         "Data": "19/12/20",
         "Ieri ha fatto un sonnellino di durata (minuti totali)?": 0,
         "A che ora è andato a letto ieri sera?": "22:33",
         "A che ora ha spento la luce per dormire?": "22:37",
         "Dallo spegnimento della luce, in quanto tempo si è addormentato?": 10,
         "Orario previsto del risveglio questa mattina?": "06:30",
         "Qual è stato l'orario del risveglio finale questa mattina?": "06:30",
         "A che ora si è alzato dal letto?": "06:30",
         "Quante volte si è svegliato/a durante la notte? (0 se non si è svegliato/a)": 1,
         "Quanti minuti in totale è rimasto/a sveglio/a nel corso della notte?": 5,
         "Quanto è stato disturbato il suo sonno la notte scorsa? (1=per niente, 10=moltissimo)": 2,
         "Qualità del sonno la scorsa notte (1=molto scarso, 10=molto buono)": 7,
         "Livello di affaticamento di ieri (1=niente, 10=estremamente stancante)": 4,
         "Livello di sonnolenza di ieri (1=per niente, 10=estremamente sonnolento)": 1,
         "(polar)\r\nDaily activity goal": "339%",
         "(polar)\r\nActual sleep": "nan",
         "(polar)\r\nSleep continuity": "nan",
         "_deepnote_index_column": 354
        },
        {
         "Data": "20/12/20",
         "Ieri ha fatto un sonnellino di durata (minuti totali)?": 0,
         "A che ora è andato a letto ieri sera?": "22:35",
         "A che ora ha spento la luce per dormire?": "22:38",
         "Dallo spegnimento della luce, in quanto tempo si è addormentato?": 5,
         "Orario previsto del risveglio questa mattina?": "06:30",
         "Qual è stato l'orario del risveglio finale questa mattina?": "06:30",
         "A che ora si è alzato dal letto?": "06:30",
         "Quante volte si è svegliato/a durante la notte? (0 se non si è svegliato/a)": 0,
         "Quanti minuti in totale è rimasto/a sveglio/a nel corso della notte?": 0,
         "Quanto è stato disturbato il suo sonno la notte scorsa? (1=per niente, 10=moltissimo)": 1,
         "Qualità del sonno la scorsa notte (1=molto scarso, 10=molto buono)": 8,
         "Livello di affaticamento di ieri (1=niente, 10=estremamente stancante)": 7,
         "Livello di sonnolenza di ieri (1=per niente, 10=estremamente sonnolento)": 1,
         "(polar)\r\nDaily activity goal": "202%",
         "(polar)\r\nActual sleep": "93%",
         "(polar)\r\nSleep continuity": 2.4,
         "_deepnote_index_column": 355
        },
        {
         "Data": "21/12/20",
         "Ieri ha fatto un sonnellino di durata (minuti totali)?": 0,
         "A che ora è andato a letto ieri sera?": "22:39",
         "A che ora ha spento la luce per dormire?": "22:42",
         "Dallo spegnimento della luce, in quanto tempo si è addormentato?": 4,
         "Orario previsto del risveglio questa mattina?": "06:30",
         "Qual è stato l'orario del risveglio finale questa mattina?": "06:30",
         "A che ora si è alzato dal letto?": "06:30",
         "Quante volte si è svegliato/a durante la notte? (0 se non si è svegliato/a)": 0,
         "Quanti minuti in totale è rimasto/a sveglio/a nel corso della notte?": 0,
         "Quanto è stato disturbato il suo sonno la notte scorsa? (1=per niente, 10=moltissimo)": 1,
         "Qualità del sonno la scorsa notte (1=molto scarso, 10=molto buono)": 8,
         "Livello di affaticamento di ieri (1=niente, 10=estremamente stancante)": 4,
         "Livello di sonnolenza di ieri (1=per niente, 10=estremamente sonnolento)": 1,
         "(polar)\r\nDaily activity goal": "105%",
         "(polar)\r\nActual sleep": "90%",
         "(polar)\r\nSleep continuity": 2,
         "_deepnote_index_column": 356
        },
        {
         "Data": "22/12/20",
         "Ieri ha fatto un sonnellino di durata (minuti totali)?": 0,
         "A che ora è andato a letto ieri sera?": "22:40",
         "A che ora ha spento la luce per dormire?": "22:41",
         "Dallo spegnimento della luce, in quanto tempo si è addormentato?": 27,
         "Orario previsto del risveglio questa mattina?": "06:30",
         "Qual è stato l'orario del risveglio finale questa mattina?": "06:20",
         "A che ora si è alzato dal letto?": "06:20",
         "Quante volte si è svegliato/a durante la notte? (0 se non si è svegliato/a)": 0,
         "Quanti minuti in totale è rimasto/a sveglio/a nel corso della notte?": 0,
         "Quanto è stato disturbato il suo sonno la notte scorsa? (1=per niente, 10=moltissimo)": 1,
         "Qualità del sonno la scorsa notte (1=molto scarso, 10=molto buono)": 7,
         "Livello di affaticamento di ieri (1=niente, 10=estremamente stancante)": 1,
         "Livello di sonnolenza di ieri (1=per niente, 10=estremamente sonnolento)": 1,
         "(polar)\r\nDaily activity goal": "221%",
         "(polar)\r\nActual sleep": "90%",
         "(polar)\r\nSleep continuity": 2,
         "_deepnote_index_column": 357
        },
        {
         "Data": "23/12/20",
         "Ieri ha fatto un sonnellino di durata (minuti totali)?": 0,
         "A che ora è andato a letto ieri sera?": "22:36",
         "A che ora ha spento la luce per dormire?": "22:38",
         "Dallo spegnimento della luce, in quanto tempo si è addormentato?": 40,
         "Orario previsto del risveglio questa mattina?": "06:30",
         "Qual è stato l'orario del risveglio finale questa mattina?": "06:30",
         "A che ora si è alzato dal letto?": "06:30",
         "Quante volte si è svegliato/a durante la notte? (0 se non si è svegliato/a)": 0,
         "Quanti minuti in totale è rimasto/a sveglio/a nel corso della notte?": 0,
         "Quanto è stato disturbato il suo sonno la notte scorsa? (1=per niente, 10=moltissimo)": 1,
         "Qualità del sonno la scorsa notte (1=molto scarso, 10=molto buono)": 7,
         "Livello di affaticamento di ieri (1=niente, 10=estremamente stancante)": 4,
         "Livello di sonnolenza di ieri (1=per niente, 10=estremamente sonnolento)": 1,
         "(polar)\r\nDaily activity goal": "320%",
         "(polar)\r\nActual sleep": "nan",
         "(polar)\r\nSleep continuity": "nan",
         "_deepnote_index_column": 358
        },
        {
         "Data": "24/12/20",
         "Ieri ha fatto un sonnellino di durata (minuti totali)?": 0,
         "A che ora è andato a letto ieri sera?": "22:45",
         "A che ora ha spento la luce per dormire?": "22:48",
         "Dallo spegnimento della luce, in quanto tempo si è addormentato?": 9,
         "Orario previsto del risveglio questa mattina?": "06:30",
         "Qual è stato l'orario del risveglio finale questa mattina?": "06:30",
         "A che ora si è alzato dal letto?": "06:30",
         "Quante volte si è svegliato/a durante la notte? (0 se non si è svegliato/a)": 1,
         "Quanti minuti in totale è rimasto/a sveglio/a nel corso della notte?": 30,
         "Quanto è stato disturbato il suo sonno la notte scorsa? (1=per niente, 10=moltissimo)": 3,
         "Qualità del sonno la scorsa notte (1=molto scarso, 10=molto buono)": 6,
         "Livello di affaticamento di ieri (1=niente, 10=estremamente stancante)": 5,
         "Livello di sonnolenza di ieri (1=per niente, 10=estremamente sonnolento)": 1,
         "(polar)\r\nDaily activity goal": "92%",
         "(polar)\r\nActual sleep": "88%",
         "(polar)\r\nSleep continuity": 2.2,
         "_deepnote_index_column": 359
        },
        {
         "Data": "25/12/20",
         "Ieri ha fatto un sonnellino di durata (minuti totali)?": 0,
         "A che ora è andato a letto ieri sera?": "22:28",
         "A che ora ha spento la luce per dormire?": "22:42",
         "Dallo spegnimento della luce, in quanto tempo si è addormentato?": 4,
         "Orario previsto del risveglio questa mattina?": "06:30",
         "Qual è stato l'orario del risveglio finale questa mattina?": "05:40",
         "A che ora si è alzato dal letto?": "06:30",
         "Quante volte si è svegliato/a durante la notte? (0 se non si è svegliato/a)": 1,
         "Quanti minuti in totale è rimasto/a sveglio/a nel corso della notte?": 40,
         "Quanto è stato disturbato il suo sonno la notte scorsa? (1=per niente, 10=moltissimo)": 2,
         "Qualità del sonno la scorsa notte (1=molto scarso, 10=molto buono)": 6,
         "Livello di affaticamento di ieri (1=niente, 10=estremamente stancante)": 2,
         "Livello di sonnolenza di ieri (1=per niente, 10=estremamente sonnolento)": 1,
         "(polar)\r\nDaily activity goal": "230%",
         "(polar)\r\nActual sleep": "94%",
         "(polar)\r\nSleep continuity": 3.7,
         "_deepnote_index_column": 360
        },
        {
         "Data": "26/12/20",
         "Ieri ha fatto un sonnellino di durata (minuti totali)?": 0,
         "A che ora è andato a letto ieri sera?": "22:39",
         "A che ora ha spento la luce per dormire?": "22:41",
         "Dallo spegnimento della luce, in quanto tempo si è addormentato?": 16,
         "Orario previsto del risveglio questa mattina?": "06:30",
         "Qual è stato l'orario del risveglio finale questa mattina?": "06:30",
         "A che ora si è alzato dal letto?": "06:30",
         "Quante volte si è svegliato/a durante la notte? (0 se non si è svegliato/a)": 1,
         "Quanti minuti in totale è rimasto/a sveglio/a nel corso della notte?": 5,
         "Quanto è stato disturbato il suo sonno la notte scorsa? (1=per niente, 10=moltissimo)": 2,
         "Qualità del sonno la scorsa notte (1=molto scarso, 10=molto buono)": 7,
         "Livello di affaticamento di ieri (1=niente, 10=estremamente stancante)": 6,
         "Livello di sonnolenza di ieri (1=per niente, 10=estremamente sonnolento)": 1,
         "(polar)\r\nDaily activity goal": "182%",
         "(polar)\r\nActual sleep": "90%",
         "(polar)\r\nSleep continuity": 2.1,
         "_deepnote_index_column": 361
        },
        {
         "Data": "27/12/20",
         "Ieri ha fatto un sonnellino di durata (minuti totali)?": 0,
         "A che ora è andato a letto ieri sera?": "22:45",
         "A che ora ha spento la luce per dormire?": "22:46",
         "Dallo spegnimento della luce, in quanto tempo si è addormentato?": 4,
         "Orario previsto del risveglio questa mattina?": "06:30",
         "Qual è stato l'orario del risveglio finale questa mattina?": "06:30",
         "A che ora si è alzato dal letto?": "06:30",
         "Quante volte si è svegliato/a durante la notte? (0 se non si è svegliato/a)": 1,
         "Quanti minuti in totale è rimasto/a sveglio/a nel corso della notte?": 20,
         "Quanto è stato disturbato il suo sonno la notte scorsa? (1=per niente, 10=moltissimo)": 3,
         "Qualità del sonno la scorsa notte (1=molto scarso, 10=molto buono)": 6,
         "Livello di affaticamento di ieri (1=niente, 10=estremamente stancante)": 5,
         "Livello di sonnolenza di ieri (1=per niente, 10=estremamente sonnolento)": 1,
         "(polar)\r\nDaily activity goal": "124%",
         "(polar)\r\nActual sleep": "91%",
         "(polar)\r\nSleep continuity": 2.1,
         "_deepnote_index_column": 362
        },
        {
         "Data": "28/12/20",
         "Ieri ha fatto un sonnellino di durata (minuti totali)?": 0,
         "A che ora è andato a letto ieri sera?": "22:33",
         "A che ora ha spento la luce per dormire?": "22:37",
         "Dallo spegnimento della luce, in quanto tempo si è addormentato?": 4,
         "Orario previsto del risveglio questa mattina?": "06:30",
         "Qual è stato l'orario del risveglio finale questa mattina?": "07:00",
         "A che ora si è alzato dal letto?": "07:20",
         "Quante volte si è svegliato/a durante la notte? (0 se non si è svegliato/a)": 3,
         "Quanti minuti in totale è rimasto/a sveglio/a nel corso della notte?": 15,
         "Quanto è stato disturbato il suo sonno la notte scorsa? (1=per niente, 10=moltissimo)": 3,
         "Qualità del sonno la scorsa notte (1=molto scarso, 10=molto buono)": 5,
         "Livello di affaticamento di ieri (1=niente, 10=estremamente stancante)": 2,
         "Livello di sonnolenza di ieri (1=per niente, 10=estremamente sonnolento)": 2,
         "(polar)\r\nDaily activity goal": "191%",
         "(polar)\r\nActual sleep": "90%",
         "(polar)\r\nSleep continuity": 2.3,
         "_deepnote_index_column": 363
        },
        {
         "Data": "29/12/20",
         "Ieri ha fatto un sonnellino di durata (minuti totali)?": 0,
         "A che ora è andato a letto ieri sera?": "22:36",
         "A che ora ha spento la luce per dormire?": "22:38",
         "Dallo spegnimento della luce, in quanto tempo si è addormentato?": 40,
         "Orario previsto del risveglio questa mattina?": "06:30",
         "Qual è stato l'orario del risveglio finale questa mattina?": "06:30",
         "A che ora si è alzato dal letto?": "07:00",
         "Quante volte si è svegliato/a durante la notte? (0 se non si è svegliato/a)": 2,
         "Quanti minuti in totale è rimasto/a sveglio/a nel corso della notte?": 20,
         "Quanto è stato disturbato il suo sonno la notte scorsa? (1=per niente, 10=moltissimo)": 5,
         "Qualità del sonno la scorsa notte (1=molto scarso, 10=molto buono)": 4,
         "Livello di affaticamento di ieri (1=niente, 10=estremamente stancante)": 5,
         "Livello di sonnolenza di ieri (1=per niente, 10=estremamente sonnolento)": 2,
         "(polar)\r\nDaily activity goal": "114%",
         "(polar)\r\nActual sleep": "87%",
         "(polar)\r\nSleep continuity": 1.9,
         "_deepnote_index_column": 364
        },
        {
         "Data": "30/12/20",
         "Ieri ha fatto un sonnellino di durata (minuti totali)?": 0,
         "A che ora è andato a letto ieri sera?": "22:40",
         "A che ora ha spento la luce per dormire?": "22:42",
         "Dallo spegnimento della luce, in quanto tempo si è addormentato?": 9,
         "Orario previsto del risveglio questa mattina?": "06:30",
         "Qual è stato l'orario del risveglio finale questa mattina?": "08:00",
         "A che ora si è alzato dal letto?": "08:15",
         "Quante volte si è svegliato/a durante la notte? (0 se non si è svegliato/a)": 1,
         "Quanti minuti in totale è rimasto/a sveglio/a nel corso della notte?": 10,
         "Quanto è stato disturbato il suo sonno la notte scorsa? (1=per niente, 10=moltissimo)": 3,
         "Qualità del sonno la scorsa notte (1=molto scarso, 10=molto buono)": 6,
         "Livello di affaticamento di ieri (1=niente, 10=estremamente stancante)": 2,
         "Livello di sonnolenza di ieri (1=per niente, 10=estremamente sonnolento)": 1,
         "(polar)\r\nDaily activity goal": "199%",
         "(polar)\r\nActual sleep": "86%",
         "(polar)\r\nSleep continuity": 1.3,
         "_deepnote_index_column": 365
        },
        {
         "Data": "31/12/20",
         "Ieri ha fatto un sonnellino di durata (minuti totali)?": 0,
         "A che ora è andato a letto ieri sera?": "22:41",
         "A che ora ha spento la luce per dormire?": "22:52",
         "Dallo spegnimento della luce, in quanto tempo si è addormentato?": 4,
         "Orario previsto del risveglio questa mattina?": "06:30",
         "Qual è stato l'orario del risveglio finale questa mattina?": "08:00",
         "A che ora si è alzato dal letto?": "08:00",
         "Quante volte si è svegliato/a durante la notte? (0 se non si è svegliato/a)": 2,
         "Quanti minuti in totale è rimasto/a sveglio/a nel corso della notte?": 10,
         "Quanto è stato disturbato il suo sonno la notte scorsa? (1=per niente, 10=moltissimo)": 2,
         "Qualità del sonno la scorsa notte (1=molto scarso, 10=molto buono)": 6,
         "Livello di affaticamento di ieri (1=niente, 10=estremamente stancante)": 5,
         "Livello di sonnolenza di ieri (1=per niente, 10=estremamente sonnolento)": 1,
         "(polar)\r\nDaily activity goal": "103%",
         "(polar)\r\nActual sleep": "87%",
         "(polar)\r\nSleep continuity": 1.4,
         "_deepnote_index_column": 366
        }
       ]
      },
      "text/plain": "         Data  Ieri ha fatto un sonnellino di durata (minuti totali)?  \\\n0    31/12/19                                                0.0        \n1    01/01/20                                               90.0        \n2    02/01/20                                                0.0        \n3    03/01/20                                                0.0        \n4    04/01/20                                                0.0        \n..        ...                                                ...        \n362  27/12/20                                                0.0        \n363  28/12/20                                                0.0        \n364  29/12/20                                                0.0        \n365  30/12/20                                                0.0        \n366  31/12/20                                                0.0        \n\n    A che ora è andato a letto ieri sera?  \\\n0                                   23:48   \n1                                   01:05   \n2                                   23:20   \n3                                   23:20   \n4                                   00:22   \n..                                    ...   \n362                                 22:45   \n363                                 22:33   \n364                                 22:36   \n365                                 22:40   \n366                                 22:41   \n\n    A che ora ha spento la luce per dormire?  \\\n0                                      23:50   \n1                                      01:08   \n2                                      23:36   \n3                                      23:54   \n4                                      00:49   \n..                                       ...   \n362                                    22:46   \n363                                    22:37   \n364                                    22:38   \n365                                    22:42   \n366                                    22:52   \n\n     Dallo spegnimento della luce, in quanto tempo si è addormentato?  \\\n0                                                  3.0                  \n1                                                  5.0                  \n2                                                  5.0                  \n3                                                  3.0                  \n4                                                  5.0                  \n..                                                 ...                  \n362                                                4.0                  \n363                                                4.0                  \n364                                               40.0                  \n365                                                9.0                  \n366                                                4.0                  \n\n    Orario previsto del risveglio questa mattina?  \\\n0                                           06:30   \n1                                           08:30   \n2                                           06:30   \n3                                           06:30   \n4                                           06:45   \n..                                            ...   \n362                                         06:30   \n363                                         06:30   \n364                                         06:30   \n365                                         06:30   \n366                                         06:30   \n\n    Qual è stato l'orario del risveglio finale questa mattina?  \\\n0                                                06:30           \n1                                                08:12           \n2                                                06:30           \n3                                                06:30           \n4                                                06:45           \n..                                                 ...           \n362                                              06:30           \n363                                              07:00           \n364                                              06:30           \n365                                              08:00           \n366                                              08:00           \n\n    A che ora si è alzato dal letto?  \\\n0                              06:30   \n1                              08:12   \n2                              06:30   \n3                              06:30   \n4                              06:45   \n..                               ...   \n362                            06:30   \n363                            07:20   \n364                            07:00   \n365                            08:15   \n366                            08:00   \n\n     Quante volte si è svegliato/a durante la notte? (0 se non si è svegliato/a)  \\\n0                                                  2.0                             \n1                                                  4.0                             \n2                                                  1.0                             \n3                                                  0.0                             \n4                                                  0.0                             \n..                                                 ...                             \n362                                                1.0                             \n363                                                3.0                             \n364                                                2.0                             \n365                                                1.0                             \n366                                                2.0                             \n\n     Quanti minuti in totale è rimasto/a sveglio/a nel corso della notte?  \\\n0                                                  5.0                      \n1                                                 20.0                      \n2                                                  2.0                      \n3                                                  0.0                      \n4                                                  0.0                      \n..                                                 ...                      \n362                                               20.0                      \n363                                               15.0                      \n364                                               20.0                      \n365                                               10.0                      \n366                                               10.0                      \n\n     Quanto è stato disturbato il suo sonno la notte scorsa? (1=per niente, 10=moltissimo)  \\\n0                                                  5.0                                       \n1                                                  6.0                                       \n2                                                  2.0                                       \n3                                                  1.0                                       \n4                                                  1.0                                       \n..                                                 ...                                       \n362                                                3.0                                       \n363                                                3.0                                       \n364                                                5.0                                       \n365                                                3.0                                       \n366                                                2.0                                       \n\n     Qualità del sonno la scorsa notte (1=molto scarso, 10=molto buono)  \\\n0                                                  5.0                    \n1                                                  5.0                    \n2                                                  6.0                    \n3                                                  7.0                    \n4                                                  7.0                    \n..                                                 ...                    \n362                                                6.0                    \n363                                                5.0                    \n364                                                4.0                    \n365                                                6.0                    \n366                                                6.0                    \n\n     Livello di affaticamento di ieri (1=niente, 10=estremamente stancante)  \\\n0                                                  4.0                        \n1                                                  4.0                        \n2                                                  1.0                        \n3                                                  4.0                        \n4                                                  3.0                        \n..                                                 ...                        \n362                                                5.0                        \n363                                                2.0                        \n364                                                5.0                        \n365                                                2.0                        \n366                                                5.0                        \n\n     Livello di sonnolenza di ieri (1=per niente, 10=estremamente sonnolento)  \\\n0                                                  2.0                          \n1                                                  2.0                          \n2                                                  1.0                          \n3                                                  1.0                          \n4                                                  1.0                          \n..                                                 ...                          \n362                                                1.0                          \n363                                                2.0                          \n364                                                2.0                          \n365                                                1.0                          \n366                                                1.0                          \n\n    (polar)\\r\\nDaily activity goal (polar)\\r\\nActual sleep  \\\n0                             188%                     90%   \n1                              73%                     90%   \n2                             242%                     88%   \n3                             188%                     93%   \n4                             175%                     92%   \n..                             ...                     ...   \n362                           124%                     91%   \n363                           191%                     90%   \n364                           114%                     87%   \n365                           199%                     86%   \n366                           103%                     87%   \n\n     (polar)\\r\\nSleep continuity  \n0                            3.1  \n1                            1.6  \n2                            2.3  \n3                            2.6  \n4                            2.6  \n..                           ...  \n362                          2.1  \n363                          2.3  \n364                          1.9  \n365                          1.3  \n366                          1.4  \n\n[367 rows x 17 columns]",
      "text/html": "<div>\n<style scoped>\n    .dataframe tbody tr th:only-of-type {\n        vertical-align: middle;\n    }\n\n    .dataframe tbody tr th {\n        vertical-align: top;\n    }\n\n    .dataframe thead th {\n        text-align: right;\n    }\n</style>\n<table border=\"1\" class=\"dataframe\">\n  <thead>\n    <tr style=\"text-align: right;\">\n      <th></th>\n      <th>Data</th>\n      <th>Ieri ha fatto un sonnellino di durata (minuti totali)?</th>\n      <th>A che ora è andato a letto ieri sera?</th>\n      <th>A che ora ha spento la luce per dormire?</th>\n      <th>Dallo spegnimento della luce, in quanto tempo si è addormentato?</th>\n      <th>Orario previsto del risveglio questa mattina?</th>\n      <th>Qual è stato l'orario del risveglio finale questa mattina?</th>\n      <th>A che ora si è alzato dal letto?</th>\n      <th>Quante volte si è svegliato/a durante la notte? (0 se non si è svegliato/a)</th>\n      <th>Quanti minuti in totale è rimasto/a sveglio/a nel corso della notte?</th>\n      <th>Quanto è stato disturbato il suo sonno la notte scorsa? (1=per niente, 10=moltissimo)</th>\n      <th>Qualità del sonno la scorsa notte (1=molto scarso, 10=molto buono)</th>\n      <th>Livello di affaticamento di ieri (1=niente, 10=estremamente stancante)</th>\n      <th>Livello di sonnolenza di ieri (1=per niente, 10=estremamente sonnolento)</th>\n      <th>(polar)\\r\\nDaily activity goal</th>\n      <th>(polar)\\r\\nActual sleep</th>\n      <th>(polar)\\r\\nSleep continuity</th>\n    </tr>\n  </thead>\n  <tbody>\n    <tr>\n      <th>0</th>\n      <td>31/12/19</td>\n      <td>0.0</td>\n      <td>23:48</td>\n      <td>23:50</td>\n      <td>3.0</td>\n      <td>06:30</td>\n      <td>06:30</td>\n      <td>06:30</td>\n      <td>2.0</td>\n      <td>5.0</td>\n      <td>5.0</td>\n      <td>5.0</td>\n      <td>4.0</td>\n      <td>2.0</td>\n      <td>188%</td>\n      <td>90%</td>\n      <td>3.1</td>\n    </tr>\n    <tr>\n      <th>1</th>\n      <td>01/01/20</td>\n      <td>90.0</td>\n      <td>01:05</td>\n      <td>01:08</td>\n      <td>5.0</td>\n      <td>08:30</td>\n      <td>08:12</td>\n      <td>08:12</td>\n      <td>4.0</td>\n      <td>20.0</td>\n      <td>6.0</td>\n      <td>5.0</td>\n      <td>4.0</td>\n      <td>2.0</td>\n      <td>73%</td>\n      <td>90%</td>\n      <td>1.6</td>\n    </tr>\n    <tr>\n      <th>2</th>\n      <td>02/01/20</td>\n      <td>0.0</td>\n      <td>23:20</td>\n      <td>23:36</td>\n      <td>5.0</td>\n      <td>06:30</td>\n      <td>06:30</td>\n      <td>06:30</td>\n      <td>1.0</td>\n      <td>2.0</td>\n      <td>2.0</td>\n      <td>6.0</td>\n      <td>1.0</td>\n      <td>1.0</td>\n      <td>242%</td>\n      <td>88%</td>\n      <td>2.3</td>\n    </tr>\n    <tr>\n      <th>3</th>\n      <td>03/01/20</td>\n      <td>0.0</td>\n      <td>23:20</td>\n      <td>23:54</td>\n      <td>3.0</td>\n      <td>06:30</td>\n      <td>06:30</td>\n      <td>06:30</td>\n      <td>0.0</td>\n      <td>0.0</td>\n      <td>1.0</td>\n      <td>7.0</td>\n      <td>4.0</td>\n      <td>1.0</td>\n      <td>188%</td>\n      <td>93%</td>\n      <td>2.6</td>\n    </tr>\n    <tr>\n      <th>4</th>\n      <td>04/01/20</td>\n      <td>0.0</td>\n      <td>00:22</td>\n      <td>00:49</td>\n      <td>5.0</td>\n      <td>06:45</td>\n      <td>06:45</td>\n      <td>06:45</td>\n      <td>0.0</td>\n      <td>0.0</td>\n      <td>1.0</td>\n      <td>7.0</td>\n      <td>3.0</td>\n      <td>1.0</td>\n      <td>175%</td>\n      <td>92%</td>\n      <td>2.6</td>\n    </tr>\n    <tr>\n      <th>...</th>\n      <td>...</td>\n      <td>...</td>\n      <td>...</td>\n      <td>...</td>\n      <td>...</td>\n      <td>...</td>\n      <td>...</td>\n      <td>...</td>\n      <td>...</td>\n      <td>...</td>\n      <td>...</td>\n      <td>...</td>\n      <td>...</td>\n      <td>...</td>\n      <td>...</td>\n      <td>...</td>\n      <td>...</td>\n    </tr>\n    <tr>\n      <th>362</th>\n      <td>27/12/20</td>\n      <td>0.0</td>\n      <td>22:45</td>\n      <td>22:46</td>\n      <td>4.0</td>\n      <td>06:30</td>\n      <td>06:30</td>\n      <td>06:30</td>\n      <td>1.0</td>\n      <td>20.0</td>\n      <td>3.0</td>\n      <td>6.0</td>\n      <td>5.0</td>\n      <td>1.0</td>\n      <td>124%</td>\n      <td>91%</td>\n      <td>2.1</td>\n    </tr>\n    <tr>\n      <th>363</th>\n      <td>28/12/20</td>\n      <td>0.0</td>\n      <td>22:33</td>\n      <td>22:37</td>\n      <td>4.0</td>\n      <td>06:30</td>\n      <td>07:00</td>\n      <td>07:20</td>\n      <td>3.0</td>\n      <td>15.0</td>\n      <td>3.0</td>\n      <td>5.0</td>\n      <td>2.0</td>\n      <td>2.0</td>\n      <td>191%</td>\n      <td>90%</td>\n      <td>2.3</td>\n    </tr>\n    <tr>\n      <th>364</th>\n      <td>29/12/20</td>\n      <td>0.0</td>\n      <td>22:36</td>\n      <td>22:38</td>\n      <td>40.0</td>\n      <td>06:30</td>\n      <td>06:30</td>\n      <td>07:00</td>\n      <td>2.0</td>\n      <td>20.0</td>\n      <td>5.0</td>\n      <td>4.0</td>\n      <td>5.0</td>\n      <td>2.0</td>\n      <td>114%</td>\n      <td>87%</td>\n      <td>1.9</td>\n    </tr>\n    <tr>\n      <th>365</th>\n      <td>30/12/20</td>\n      <td>0.0</td>\n      <td>22:40</td>\n      <td>22:42</td>\n      <td>9.0</td>\n      <td>06:30</td>\n      <td>08:00</td>\n      <td>08:15</td>\n      <td>1.0</td>\n      <td>10.0</td>\n      <td>3.0</td>\n      <td>6.0</td>\n      <td>2.0</td>\n      <td>1.0</td>\n      <td>199%</td>\n      <td>86%</td>\n      <td>1.3</td>\n    </tr>\n    <tr>\n      <th>366</th>\n      <td>31/12/20</td>\n      <td>0.0</td>\n      <td>22:41</td>\n      <td>22:52</td>\n      <td>4.0</td>\n      <td>06:30</td>\n      <td>08:00</td>\n      <td>08:00</td>\n      <td>2.0</td>\n      <td>10.0</td>\n      <td>2.0</td>\n      <td>6.0</td>\n      <td>5.0</td>\n      <td>1.0</td>\n      <td>103%</td>\n      <td>87%</td>\n      <td>1.4</td>\n    </tr>\n  </tbody>\n</table>\n<p>367 rows × 17 columns</p>\n</div>"
     },
     "metadata": {}
    }
   ],
   "execution_count": 2
  },
  {
   "cell_type": "markdown",
   "source": "## Array",
   "metadata": {
    "tags": [],
    "is_collapsed": false,
    "cell_id": "00004-af6446a3-0705-4de6-b536-174decf7f3dd",
    "deepnote_cell_type": "text-cell-h2"
   }
  },
  {
   "cell_type": "code",
   "metadata": {
    "tags": [],
    "cell_id": "00004-d3f8bc2b-adc6-43f5-b98a-58361e4de890",
    "deepnote_to_be_reexecuted": false,
    "source_hash": "545a2d85",
    "execution_start": 1634474605737,
    "execution_millis": 78,
    "deepnote_cell_type": "code"
   },
   "source": "Data = []\nOraLetto = []\nOraLuce = []\nOraNanna = []              # DA FARE CON UNA BELLA MATRICE!\nOraSvegliaP = []\nOraSveglia = []\nOraLeva = []\n\nfor i, row in df.iterrows():\n    Data.append(dt.strptime(row[df.columns[0]], \"%d/%m/%y\"))\n    OraLetto.append(dt.strptime(row[df.columns[2]], \"%H:%M\"))\n    OraLuce.append(dt.strptime(row[df.columns[3]], \"%H:%M\"))\n    OraNanna.append(dt.strptime(row[df.columns[3]], \"%H:%M\") + timedelta(minutes=row[df.columns[4]]))\n    OraSvegliaP.append(dt.strptime(row[df.columns[5]], \"%H:%M\") + timedelta(days=1))\n    OraSveglia.append(dt.strptime(row[df.columns[6]], \"%H:%M\") + timedelta(days=1))\n    OraLeva.append(dt.strptime(row[df.columns[7]], \"%H:%M\") + timedelta(days=1))\n\nfor i in range(len(OraLetto)):\n    if (OraLetto[i] < dt.strptime(\"12:00\", \"%H:%M\")):\n        OraLetto[i] = OraLetto[i] + timedelta(days=1)\n    if (OraLuce[i] < dt.strptime(\"12:00\", \"%H:%M\")):\n        OraLuce[i] = OraLuce[i] + timedelta(days=1)\n    if (OraNanna[i] < dt.strptime(\"12:00\", \"%H:%M\")):\n        OraNanna[i] = OraNanna[i] + timedelta(days=1)",
   "outputs": [],
   "execution_count": 3
  },
  {
   "cell_type": "code",
   "metadata": {
    "tags": [],
    "cell_id": "00002-afa984b9-e6ca-4999-b616-e1746ced1cf5",
    "deepnote_to_be_reexecuted": false,
    "source_hash": "3adc74f9",
    "execution_start": 1634474605820,
    "execution_millis": 44,
    "deepnote_cell_type": "code"
   },
   "source": "\"\"\"\nfig = px.line(df,\n        x = Data, \n        y = [OraLetto, OraLuce]\n)\n\nfig.update_layout (\n        yaxis={\n                'type': 'date',\n                'tickformat': \"%H:%M\"        \n        }\n)\n\nfig.show()\n\"\"\"",
   "outputs": [
    {
     "output_type": "execute_result",
     "execution_count": 4,
     "data": {
      "text/plain": "'\\nfig = px.line(df,\\n        x = Data, \\n        y = [OraLetto, OraLuce]\\n)\\n\\nfig.update_layout (\\n        yaxis={\\n                \\'type\\': \\'date\\',\\n                \\'tickformat\\': \"%H:%M\"        \\n        }\\n)\\n\\nfig.show()\\n'"
     },
     "metadata": {}
    }
   ],
   "execution_count": 4
  },
  {
   "cell_type": "markdown",
   "source": "## First try",
   "metadata": {
    "tags": [],
    "is_collapsed": false,
    "cell_id": "00007-73350078-a316-424c-894c-8e21bee49e14",
    "deepnote_cell_type": "text-cell-h2"
   }
  },
  {
   "cell_type": "code",
   "metadata": {
    "tags": [],
    "cell_id": "00005-53cbf858-3622-43d6-9446-0a8f03bdd1b5",
    "deepnote_to_be_reexecuted": false,
    "source_hash": "fb1bd8ce",
    "execution_start": 1634474605863,
    "execution_millis": 228,
    "deepnote_cell_type": "code"
   },
   "source": "fig = go.Figure()\n\nfig.add_trace(go.Scatter(\n    x = Data,\n    y = OraLetto,\n    name = \"Ora a cui si è andati a letto\"\n))\n\nfig.add_trace(go.Scatter(\n    x = Data,\n    y = OraLuce,\n    name = \"Ora a cui si è spenta la luce\"\n))\n\nfig.update_layout(\n    legend_title_text='Tempo',\n    yaxis={\n        'type': 'date',\n        'tickformat': \"%H:%M\"\n    }    \n)\n\nfig.show()",
   "outputs": [
    {
     "data": {
      "text/html": "<html>\n<head><meta charset=\"utf-8\" /></head>\n<body>\n    <div>            <script src=\"https://cdnjs.cloudflare.com/ajax/libs/mathjax/2.7.5/MathJax.js?config=TeX-AMS-MML_SVG\"></script><script type=\"text/javascript\">if (window.MathJax) {MathJax.Hub.Config({SVG: {font: \"STIX-Web\"}});}</script>                <script type=\"text/javascript\">window.PlotlyConfig = {MathJaxConfig: 'local'};</script>\n        <script src=\"https://cdn.plot.ly/plotly-2.4.2.min.js\"></script>                <div id=\"4b75810a-26c5-488b-b8b1-ce0061bf26c1\" class=\"plotly-graph-div\" style=\"height:525px; width:100%;\"></div>            <script type=\"text/javascript\">                                    window.PLOTLYENV=window.PLOTLYENV || {};                                    if (document.getElementById(\"4b75810a-26c5-488b-b8b1-ce0061bf26c1\")) {                    Plotly.newPlot(                        \"4b75810a-26c5-488b-b8b1-ce0061bf26c1\",                        [{\"name\":\"Ora a cui si \\u00e8 andati a letto\",\"type\":\"scatter\",\"x\":[\"2019-12-31T00:00:00\",\"2020-01-01T00:00:00\",\"2020-01-02T00:00:00\",\"2020-01-03T00:00:00\",\"2020-01-04T00:00:00\",\"2020-01-05T00:00:00\",\"2020-01-06T00:00:00\",\"2020-01-07T00:00:00\",\"2020-01-08T00:00:00\",\"2020-01-09T00:00:00\",\"2020-01-10T00:00:00\",\"2020-01-11T00:00:00\",\"2020-01-12T00:00:00\",\"2020-01-13T00:00:00\",\"2020-01-14T00:00:00\",\"2020-01-15T00:00:00\",\"2020-01-16T00:00:00\",\"2020-01-17T00:00:00\",\"2020-01-18T00:00:00\",\"2020-01-19T00:00:00\",\"2020-01-20T00:00:00\",\"2020-01-21T00:00:00\",\"2020-01-22T00:00:00\",\"2020-01-23T00:00:00\",\"2020-01-24T00:00:00\",\"2020-01-25T00:00:00\",\"2020-01-26T00:00:00\",\"2020-01-27T00:00:00\",\"2020-01-28T00:00:00\",\"2020-01-29T00:00:00\",\"2020-01-30T00:00:00\",\"2020-01-31T00:00:00\",\"2020-02-01T00:00:00\",\"2020-02-02T00:00:00\",\"2020-02-03T00:00:00\",\"2020-02-04T00:00:00\",\"2020-02-05T00:00:00\",\"2020-02-06T00:00:00\",\"2020-02-07T00:00:00\",\"2020-02-08T00:00:00\",\"2020-02-09T00:00:00\",\"2020-02-10T00:00:00\",\"2020-02-11T00:00:00\",\"2020-02-12T00:00:00\",\"2020-02-13T00:00:00\",\"2020-02-14T00:00:00\",\"2020-02-15T00:00:00\",\"2020-02-16T00:00:00\",\"2020-02-17T00:00:00\",\"2020-02-18T00:00:00\",\"2020-02-19T00:00:00\",\"2020-02-20T00:00:00\",\"2020-02-21T00:00:00\",\"2020-02-22T00:00:00\",\"2020-02-23T00:00:00\",\"2020-02-24T00:00:00\",\"2020-02-25T00:00:00\",\"2020-02-26T00:00:00\",\"2020-02-27T00:00:00\",\"2020-02-28T00:00:00\",\"2020-02-29T00:00:00\",\"2020-03-01T00:00:00\",\"2020-03-02T00:00:00\",\"2020-03-03T00:00:00\",\"2020-03-04T00:00:00\",\"2020-03-05T00:00:00\",\"2020-03-06T00:00:00\",\"2020-03-07T00:00:00\",\"2020-03-08T00:00:00\",\"2020-03-09T00:00:00\",\"2020-03-10T00:00:00\",\"2020-03-11T00:00:00\",\"2020-03-12T00:00:00\",\"2020-03-13T00:00:00\",\"2020-03-14T00:00:00\",\"2020-03-15T00:00:00\",\"2020-03-16T00:00:00\",\"2020-03-17T00:00:00\",\"2020-03-18T00:00:00\",\"2020-03-19T00:00:00\",\"2020-03-20T00:00:00\",\"2020-03-21T00:00:00\",\"2020-03-22T00:00:00\",\"2020-03-23T00:00:00\",\"2020-03-24T00:00:00\",\"2020-03-25T00:00:00\",\"2020-03-26T00:00:00\",\"2020-03-27T00:00:00\",\"2020-03-28T00:00:00\",\"2020-03-29T00:00:00\",\"2020-03-30T00:00:00\",\"2020-03-31T00:00:00\",\"2020-04-01T00:00:00\",\"2020-04-02T00:00:00\",\"2020-04-03T00:00:00\",\"2020-04-04T00:00:00\",\"2020-04-05T00:00:00\",\"2020-04-06T00:00:00\",\"2020-04-07T00:00:00\",\"2020-04-08T00:00:00\",\"2020-04-09T00:00:00\",\"2020-04-10T00:00:00\",\"2020-04-11T00:00:00\",\"2020-04-12T00:00:00\",\"2020-04-13T00:00:00\",\"2020-04-14T00:00:00\",\"2020-04-15T00:00:00\",\"2020-04-16T00:00:00\",\"2020-04-17T00:00:00\",\"2020-04-18T00:00:00\",\"2020-04-19T00:00:00\",\"2020-04-20T00:00:00\",\"2020-04-21T00:00:00\",\"2020-04-22T00:00:00\",\"2020-04-23T00:00:00\",\"2020-04-24T00:00:00\",\"2020-04-25T00:00:00\",\"2020-04-26T00:00:00\",\"2020-04-27T00:00:00\",\"2020-04-28T00:00:00\",\"2020-04-29T00:00:00\",\"2020-04-30T00:00:00\",\"2020-05-01T00:00:00\",\"2020-05-02T00:00:00\",\"2020-05-03T00:00:00\",\"2020-05-04T00:00:00\",\"2020-05-05T00:00:00\",\"2020-05-06T00:00:00\",\"2020-05-07T00:00:00\",\"2020-05-08T00:00:00\",\"2020-05-09T00:00:00\",\"2020-05-10T00:00:00\",\"2020-05-11T00:00:00\",\"2020-05-12T00:00:00\",\"2020-05-13T00:00:00\",\"2020-05-14T00:00:00\",\"2020-05-15T00:00:00\",\"2020-05-16T00:00:00\",\"2020-05-17T00:00:00\",\"2020-05-18T00:00:00\",\"2020-05-19T00:00:00\",\"2020-05-20T00:00:00\",\"2020-05-21T00:00:00\",\"2020-05-22T00:00:00\",\"2020-05-23T00:00:00\",\"2020-05-24T00:00:00\",\"2020-05-25T00:00:00\",\"2020-05-26T00:00:00\",\"2020-05-27T00:00:00\",\"2020-05-28T00:00:00\",\"2020-05-29T00:00:00\",\"2020-05-30T00:00:00\",\"2020-05-31T00:00:00\",\"2020-06-01T00:00:00\",\"2020-06-02T00:00:00\",\"2020-06-03T00:00:00\",\"2020-06-04T00:00:00\",\"2020-06-05T00:00:00\",\"2020-06-06T00:00:00\",\"2020-06-07T00:00:00\",\"2020-06-08T00:00:00\",\"2020-06-09T00:00:00\",\"2020-06-10T00:00:00\",\"2020-06-11T00:00:00\",\"2020-06-12T00:00:00\",\"2020-06-13T00:00:00\",\"2020-06-14T00:00:00\",\"2020-06-15T00:00:00\",\"2020-06-16T00:00:00\",\"2020-06-17T00:00:00\",\"2020-06-18T00:00:00\",\"2020-06-19T00:00:00\",\"2020-06-20T00:00:00\",\"2020-06-21T00:00:00\",\"2020-06-22T00:00:00\",\"2020-06-23T00:00:00\",\"2020-06-24T00:00:00\",\"2020-06-25T00:00:00\",\"2020-06-26T00:00:00\",\"2020-06-27T00:00:00\",\"2020-06-28T00:00:00\",\"2020-06-29T00:00:00\",\"2020-06-30T00:00:00\",\"2020-07-01T00:00:00\",\"2020-07-02T00:00:00\",\"2020-07-03T00:00:00\",\"2020-07-04T00:00:00\",\"2020-07-05T00:00:00\",\"2020-07-06T00:00:00\",\"2020-07-07T00:00:00\",\"2020-07-08T00:00:00\",\"2020-07-09T00:00:00\",\"2020-07-10T00:00:00\",\"2020-07-11T00:00:00\",\"2020-07-12T00:00:00\",\"2020-07-13T00:00:00\",\"2020-07-14T00:00:00\",\"2020-07-15T00:00:00\",\"2020-07-16T00:00:00\",\"2020-07-17T00:00:00\",\"2020-07-18T00:00:00\",\"2020-07-19T00:00:00\",\"2020-07-20T00:00:00\",\"2020-07-21T00:00:00\",\"2020-07-22T00:00:00\",\"2020-07-23T00:00:00\",\"2020-07-24T00:00:00\",\"2020-07-25T00:00:00\",\"2020-07-26T00:00:00\",\"2020-07-27T00:00:00\",\"2020-07-28T00:00:00\",\"2020-07-29T00:00:00\",\"2020-07-30T00:00:00\",\"2020-07-31T00:00:00\",\"2020-08-01T00:00:00\",\"2020-08-02T00:00:00\",\"2020-08-03T00:00:00\",\"2020-08-04T00:00:00\",\"2020-08-05T00:00:00\",\"2020-08-06T00:00:00\",\"2020-08-07T00:00:00\",\"2020-08-08T00:00:00\",\"2020-08-09T00:00:00\",\"2020-08-10T00:00:00\",\"2020-08-11T00:00:00\",\"2020-08-12T00:00:00\",\"2020-08-13T00:00:00\",\"2020-08-14T00:00:00\",\"2020-08-15T00:00:00\",\"2020-08-16T00:00:00\",\"2020-08-17T00:00:00\",\"2020-08-18T00:00:00\",\"2020-08-19T00:00:00\",\"2020-08-20T00:00:00\",\"2020-08-21T00:00:00\",\"2020-08-22T00:00:00\",\"2020-08-23T00:00:00\",\"2020-08-24T00:00:00\",\"2020-08-25T00:00:00\",\"2020-08-26T00:00:00\",\"2020-08-27T00:00:00\",\"2020-08-28T00:00:00\",\"2020-08-29T00:00:00\",\"2020-08-30T00:00:00\",\"2020-08-31T00:00:00\",\"2020-09-01T00:00:00\",\"2020-09-02T00:00:00\",\"2020-09-03T00:00:00\",\"2020-09-04T00:00:00\",\"2020-09-05T00:00:00\",\"2020-09-06T00:00:00\",\"2020-09-07T00:00:00\",\"2020-09-08T00:00:00\",\"2020-09-09T00:00:00\",\"2020-09-10T00:00:00\",\"2020-09-11T00:00:00\",\"2020-09-12T00:00:00\",\"2020-09-13T00:00:00\",\"2020-09-14T00:00:00\",\"2020-09-15T00:00:00\",\"2020-09-16T00:00:00\",\"2020-09-17T00:00:00\",\"2020-09-18T00:00:00\",\"2020-09-19T00:00:00\",\"2020-09-20T00:00:00\",\"2020-09-21T00:00:00\",\"2020-09-22T00:00:00\",\"2020-09-23T00:00:00\",\"2020-09-24T00:00:00\",\"2020-09-25T00:00:00\",\"2020-09-26T00:00:00\",\"2020-09-27T00:00:00\",\"2020-09-28T00:00:00\",\"2020-09-29T00:00:00\",\"2020-09-30T00:00:00\",\"2020-10-01T00:00:00\",\"2020-10-02T00:00:00\",\"2020-10-03T00:00:00\",\"2020-10-04T00:00:00\",\"2020-10-05T00:00:00\",\"2020-10-06T00:00:00\",\"2020-10-07T00:00:00\",\"2020-10-08T00:00:00\",\"2020-10-09T00:00:00\",\"2020-10-10T00:00:00\",\"2020-10-11T00:00:00\",\"2020-10-12T00:00:00\",\"2020-10-13T00:00:00\",\"2020-10-14T00:00:00\",\"2020-10-15T00:00:00\",\"2020-10-16T00:00:00\",\"2020-10-17T00:00:00\",\"2020-10-18T00:00:00\",\"2020-10-19T00:00:00\",\"2020-10-20T00:00:00\",\"2020-10-21T00:00:00\",\"2020-10-22T00:00:00\",\"2020-10-23T00:00:00\",\"2020-10-24T00:00:00\",\"2020-10-25T00:00:00\",\"2020-10-26T00:00:00\",\"2020-10-27T00:00:00\",\"2020-10-28T00:00:00\",\"2020-10-29T00:00:00\",\"2020-10-30T00:00:00\",\"2020-10-31T00:00:00\",\"2020-11-01T00:00:00\",\"2020-11-02T00:00:00\",\"2020-11-03T00:00:00\",\"2020-11-04T00:00:00\",\"2020-11-05T00:00:00\",\"2020-11-06T00:00:00\",\"2020-11-07T00:00:00\",\"2020-11-08T00:00:00\",\"2020-11-09T00:00:00\",\"2020-11-10T00:00:00\",\"2020-11-11T00:00:00\",\"2020-11-12T00:00:00\",\"2020-11-13T00:00:00\",\"2020-11-14T00:00:00\",\"2020-11-15T00:00:00\",\"2020-11-16T00:00:00\",\"2020-11-17T00:00:00\",\"2020-11-18T00:00:00\",\"2020-11-19T00:00:00\",\"2020-11-20T00:00:00\",\"2020-11-21T00:00:00\",\"2020-11-22T00:00:00\",\"2020-11-23T00:00:00\",\"2020-11-24T00:00:00\",\"2020-11-25T00:00:00\",\"2020-11-26T00:00:00\",\"2020-11-27T00:00:00\",\"2020-11-28T00:00:00\",\"2020-11-29T00:00:00\",\"2020-11-30T00:00:00\",\"2020-12-01T00:00:00\",\"2020-12-02T00:00:00\",\"2020-12-03T00:00:00\",\"2020-12-04T00:00:00\",\"2020-12-05T00:00:00\",\"2020-12-06T00:00:00\",\"2020-12-07T00:00:00\",\"2020-12-08T00:00:00\",\"2020-12-09T00:00:00\",\"2020-12-10T00:00:00\",\"2020-12-11T00:00:00\",\"2020-12-12T00:00:00\",\"2020-12-13T00:00:00\",\"2020-12-14T00:00:00\",\"2020-12-15T00:00:00\",\"2020-12-16T00:00:00\",\"2020-12-17T00:00:00\",\"2020-12-18T00:00:00\",\"2020-12-19T00:00:00\",\"2020-12-20T00:00:00\",\"2020-12-21T00:00:00\",\"2020-12-22T00:00:00\",\"2020-12-23T00:00:00\",\"2020-12-24T00:00:00\",\"2020-12-25T00:00:00\",\"2020-12-26T00:00:00\",\"2020-12-27T00:00:00\",\"2020-12-28T00:00:00\",\"2020-12-29T00:00:00\",\"2020-12-30T00:00:00\",\"2020-12-31T00:00:00\"],\"y\":[\"1900-01-01T23:48:00\",\"1900-01-02T01:05:00\",\"1900-01-01T23:20:00\",\"1900-01-01T23:20:00\",\"1900-01-02T00:22:00\",\"1900-01-02T01:15:00\",\"1900-01-01T23:38:00\",\"1900-01-01T23:32:00\",\"1900-01-01T23:01:00\",\"1900-01-01T22:58:00\",\"1900-01-01T22:59:00\",\"1900-01-01T23:09:00\",\"1900-01-01T23:26:00\",\"1900-01-01T23:00:00\",\"1900-01-02T00:17:00\",\"1900-01-02T00:24:00\",\"1900-01-02T00:41:00\",\"1900-01-01T23:18:00\",\"1900-01-01T23:15:00\",\"1900-01-01T23:39:00\",\"1900-01-01T23:10:00\",\"1900-01-01T23:57:00\",\"1900-01-01T23:25:00\",\"1900-01-01T23:35:00\",\"1900-01-01T23:02:00\",\"1900-01-01T22:53:00\",\"1900-01-01T23:42:00\",\"1900-01-01T23:55:00\",\"1900-01-01T23:22:00\",\"1900-01-01T23:27:00\",\"1900-01-01T23:39:00\",\"1900-01-01T23:30:00\",\"1900-01-01T23:02:00\",\"1900-01-01T23:22:00\",\"1900-01-01T22:58:00\",\"1900-01-02T00:24:00\",\"1900-01-01T22:58:00\",\"1900-01-01T22:55:00\",\"1900-01-01T23:31:00\",\"1900-01-01T23:01:00\",\"1900-01-01T23:34:00\",\"1900-01-01T23:06:00\",\"1900-01-01T23:57:00\",\"1900-01-01T22:42:00\",\"1900-01-01T22:43:00\",\"1900-01-01T22:34:00\",\"1900-01-02T00:20:00\",\"1900-01-02T00:00:00\",\"1900-01-01T22:45:00\",\"1900-01-01T23:23:00\",\"1900-01-01T23:18:00\",\"1900-01-01T22:57:00\",\"1900-01-01T23:20:00\",\"1900-01-01T23:05:00\",\"1900-01-01T23:06:00\",\"1900-01-01T23:23:00\",\"1900-01-02T00:22:00\",\"1900-01-01T23:02:00\",\"1900-01-01T22:30:00\",\"1900-01-01T23:10:00\",\"1900-01-01T22:46:00\",\"1900-01-02T00:28:00\",\"1900-01-01T23:30:00\",\"1900-01-01T22:49:00\",\"1900-01-01T23:35:00\",\"1900-01-01T23:08:00\",\"1900-01-01T23:09:00\",\"1900-01-01T22:42:00\",\"1900-01-02T00:08:00\",\"1900-01-01T23:10:00\",\"1900-01-01T23:02:00\",\"1900-01-01T23:52:00\",\"1900-01-01T23:24:00\",\"1900-01-01T22:58:00\",\"1900-01-01T23:12:00\",\"1900-01-01T23:13:00\",\"1900-01-01T23:06:00\",\"1900-01-01T22:55:00\",\"1900-01-01T22:30:00\",\"1900-01-01T22:59:00\",\"1900-01-01T22:58:00\",\"1900-01-01T23:10:00\",\"1900-01-01T23:10:00\",\"1900-01-01T23:30:00\",\"1900-01-01T23:03:00\",\"1900-01-01T22:41:00\",\"1900-01-01T23:00:00\",\"1900-01-01T22:56:00\",\"1900-01-01T23:02:00\",\"1900-01-01T22:46:00\",\"1900-01-01T22:50:00\",\"1900-01-01T23:16:00\",\"1900-01-01T22:55:00\",\"1900-01-01T22:58:00\",\"1900-01-01T22:43:00\",\"1900-01-01T23:14:00\",\"1900-01-01T23:15:00\",\"1900-01-01T23:25:00\",\"1900-01-01T22:15:00\",\"1900-01-01T22:45:00\",\"1900-01-01T22:40:00\",\"1900-01-01T22:50:00\",\"1900-01-01T23:01:00\",\"1900-01-01T22:39:00\",\"1900-01-01T23:04:00\",\"1900-01-01T23:37:00\",\"1900-01-01T23:08:00\",\"1900-01-01T23:02:00\",\"1900-01-01T22:43:00\",\"1900-01-01T22:50:00\",\"1900-01-01T23:50:00\",\"1900-01-01T23:53:00\",\"1900-01-01T23:39:00\",\"1900-01-01T22:56:00\",\"1900-01-01T23:05:00\",\"1900-01-01T23:15:00\",\"1900-01-01T22:45:00\",\"1900-01-01T23:07:00\",\"1900-01-01T22:58:00\",\"1900-01-01T23:26:00\",\"1900-01-01T23:00:00\",\"1900-01-01T23:08:00\",\"1900-01-01T23:00:00\",\"1900-01-01T22:55:00\",\"1900-01-01T23:05:00\",\"1900-01-01T22:56:00\",\"1900-01-01T22:45:00\",\"1900-01-01T22:55:00\",\"1900-01-01T22:25:00\",\"1900-01-01T22:55:00\",\"1900-01-01T23:58:00\",\"1900-01-01T22:39:00\",\"1900-01-01T23:25:00\",\"1900-01-01T23:34:00\",\"1900-01-01T22:35:00\",\"1900-01-01T22:50:00\",\"1900-01-01T22:50:00\",\"1900-01-01T22:46:00\",\"1900-01-02T00:14:00\",\"1900-01-01T22:52:00\",\"1900-01-01T23:13:00\",\"1900-01-01T23:10:00\",\"1900-01-01T22:53:00\",\"1900-01-01T22:44:00\",\"1900-01-01T23:02:00\",\"1900-01-01T23:15:00\",\"1900-01-01T23:10:00\",\"1900-01-01T23:34:00\",\"1900-01-01T22:35:00\",\"1900-01-01T22:33:00\",\"1900-01-01T22:19:00\",\"1900-01-01T22:35:00\",\"1900-01-01T22:08:00\",\"1900-01-01T23:04:00\",\"1900-01-01T22:50:00\",\"1900-01-01T22:27:00\",\"1900-01-01T22:10:00\",\"1900-01-01T23:41:00\",\"1900-01-01T22:18:00\",\"1900-01-01T23:03:00\",\"1900-01-01T22:15:00\",\"1900-01-01T22:20:00\",\"1900-01-01T22:10:00\",\"1900-01-01T22:22:00\",\"1900-01-01T22:18:00\",\"1900-01-01T23:17:00\",\"1900-01-01T22:13:00\",\"1900-01-01T22:20:00\",\"1900-01-01T22:16:00\",\"1900-01-01T22:26:00\",\"1900-01-01T22:27:00\",\"1900-01-01T22:20:00\",\"1900-01-01T23:32:00\",\"1900-01-01T22:17:00\",\"1900-01-01T22:18:00\",\"1900-01-01T23:32:00\",\"1900-01-01T23:24:00\",\"1900-01-01T23:08:00\",\"1900-01-02T00:48:00\",\"1900-01-01T23:12:00\",\"1900-01-01T23:06:00\",\"1900-01-01T23:40:00\",\"1900-01-01T22:27:00\",\"1900-01-01T22:53:00\",\"1900-01-01T22:40:00\",\"1900-01-01T23:15:00\",\"1900-01-01T22:40:00\",\"1900-01-01T22:35:00\",\"1900-01-01T22:54:00\",\"1900-01-01T22:59:00\",\"1900-01-01T23:01:00\",\"1900-01-01T22:46:00\",\"1900-01-01T22:34:00\",\"1900-01-01T23:11:00\",\"1900-01-01T23:16:00\",\"1900-01-01T23:01:00\",\"1900-01-01T22:50:00\",\"1900-01-01T22:36:00\",\"1900-01-01T23:25:00\",\"1900-01-01T23:09:00\",\"1900-01-01T23:48:00\",\"1900-01-01T23:52:00\",\"1900-01-01T23:02:00\",\"1900-01-01T23:09:00\",\"1900-01-01T22:51:00\",\"1900-01-01T23:08:00\",\"1900-01-01T23:06:00\",\"1900-01-01T23:25:00\",\"1900-01-02T00:28:00\",\"1900-01-01T22:44:00\",\"1900-01-01T22:53:00\",\"1900-01-01T22:30:00\",\"1900-01-01T23:07:00\",\"1900-01-01T23:51:00\",\"1900-01-01T23:17:00\",\"1900-01-01T23:20:00\",\"1900-01-01T22:50:00\",\"1900-01-01T22:57:00\",\"1900-01-01T23:16:00\",\"1900-01-01T23:40:00\",\"1900-01-01T23:09:00\",\"1900-01-01T23:28:00\",\"1900-01-01T23:27:00\",\"1900-01-01T23:01:00\",\"1900-01-01T23:25:00\",\"1900-01-01T22:45:00\",\"1900-01-01T23:02:00\",\"1900-01-01T22:42:00\",\"1900-01-01T22:39:00\",\"1900-01-01T23:15:00\",\"1900-01-01T23:31:00\",\"1900-01-01T22:55:00\",\"1900-01-01T23:14:00\",\"1900-01-01T23:15:00\",\"1900-01-01T23:02:00\",\"1900-01-01T23:05:00\",\"1900-01-01T23:01:00\",\"1900-01-01T23:09:00\",\"1900-01-01T23:06:00\",\"1900-01-01T22:59:00\",\"1900-01-01T23:02:00\",\"1900-01-01T22:51:00\",\"1900-01-01T22:53:00\",\"1900-01-01T22:50:00\",\"1900-01-01T22:44:00\",\"1900-01-01T22:49:00\",\"1900-01-01T22:42:00\",\"1900-01-01T22:40:00\",\"1900-01-01T22:30:00\",\"1900-01-01T22:32:00\",\"1900-01-01T22:36:00\",\"1900-01-01T22:35:00\",\"1900-01-01T22:37:00\",\"1900-01-01T22:33:00\",\"1900-01-01T22:28:00\",\"1900-01-01T22:47:00\",\"1900-01-01T22:41:00\",\"1900-01-01T22:54:00\",\"1900-01-01T22:51:00\",\"1900-01-01T22:38:00\",\"1900-01-02T00:07:00\",\"1900-01-01T21:45:00\",\"1900-01-01T23:34:00\",\"1900-01-01T22:41:00\",\"1900-01-01T22:45:00\",\"1900-01-01T23:07:00\",\"1900-01-01T22:35:00\",\"1900-01-01T22:45:00\",\"1900-01-01T23:17:00\",\"1900-01-01T22:45:00\",\"1900-01-01T22:58:00\",\"1900-01-01T22:56:00\",\"1900-01-01T22:53:00\",\"1900-01-01T22:50:00\",\"1900-01-01T22:45:00\",\"1900-01-01T22:43:00\",\"1900-01-01T22:38:00\",\"1900-01-02T01:03:00\",\"1900-01-01T22:45:00\",\"1900-01-01T22:36:00\",\"1900-01-01T22:49:00\",\"1900-01-01T22:38:00\",\"1900-01-01T22:42:00\",\"1900-01-01T23:59:00\",\"1900-01-01T22:40:00\",\"1900-01-01T22:46:00\",\"1900-01-01T22:36:00\",\"1900-01-01T22:31:00\",\"1900-01-01T22:39:00\",\"1900-01-01T22:35:00\",\"1900-01-01T22:26:00\",\"1900-01-01T22:30:00\",\"1900-01-01T22:37:00\",\"1900-01-01T22:42:00\",\"1900-01-01T22:36:00\",\"1900-01-01T22:43:00\",\"1900-01-01T22:39:00\",\"1900-01-01T22:35:00\",\"1900-01-01T22:37:00\",\"1900-01-01T22:32:00\",\"1900-01-01T22:21:00\",\"1900-01-01T22:33:00\",\"1900-01-01T22:30:00\",\"1900-01-01T22:45:00\",\"1900-01-01T22:39:00\",\"1900-01-01T22:47:00\",\"1900-01-01T22:22:00\",\"1900-01-01T22:45:00\",\"1900-01-01T22:43:00\",\"1900-01-01T22:37:00\",\"1900-01-01T22:41:00\",\"1900-01-01T22:27:00\",\"1900-01-01T22:28:00\",\"1900-01-01T22:42:00\",\"1900-01-01T22:27:00\",\"1900-01-01T22:35:00\",\"1900-01-01T22:38:00\",\"1900-01-01T22:38:00\",\"1900-01-01T22:36:00\",\"1900-01-01T22:33:00\",\"1900-01-01T22:39:00\",\"1900-01-01T22:42:00\",\"1900-01-01T22:38:00\",\"1900-01-01T22:36:00\",\"1900-01-01T22:37:00\",\"1900-01-01T22:43:00\",\"1900-01-01T22:42:00\",\"1900-01-01T22:34:00\",\"1900-01-01T22:13:00\",\"1900-01-01T22:39:00\",\"1900-01-01T22:40:00\",\"1900-01-01T22:39:00\",\"1900-01-01T22:30:00\",\"1900-01-01T22:38:00\",\"1900-01-01T22:31:00\",\"1900-01-01T22:40:00\",\"1900-01-01T22:38:00\",\"1900-01-01T22:40:00\",\"1900-01-01T22:38:00\",\"1900-01-01T22:41:00\",\"1900-01-01T22:36:00\",\"1900-01-01T22:45:00\",\"1900-01-01T22:31:00\",\"1900-01-01T22:44:00\",\"1900-01-01T22:42:00\",\"1900-01-01T22:41:00\",\"1900-01-01T22:41:00\",\"1900-01-01T22:43:00\",\"1900-01-01T22:42:00\",\"1900-01-01T22:44:00\",\"1900-01-01T22:40:00\",\"1900-01-01T22:40:00\",\"1900-01-01T22:37:00\",\"1900-01-01T22:40:00\",\"1900-01-01T22:33:00\",\"1900-01-01T22:35:00\",\"1900-01-01T22:39:00\",\"1900-01-01T22:40:00\",\"1900-01-01T22:36:00\",\"1900-01-01T22:45:00\",\"1900-01-01T22:28:00\",\"1900-01-01T22:39:00\",\"1900-01-01T22:45:00\",\"1900-01-01T22:33:00\",\"1900-01-01T22:36:00\",\"1900-01-01T22:40:00\",\"1900-01-01T22:41:00\"]},{\"name\":\"Ora a cui si \\u00e8 spenta la luce\",\"type\":\"scatter\",\"x\":[\"2019-12-31T00:00:00\",\"2020-01-01T00:00:00\",\"2020-01-02T00:00:00\",\"2020-01-03T00:00:00\",\"2020-01-04T00:00:00\",\"2020-01-05T00:00:00\",\"2020-01-06T00:00:00\",\"2020-01-07T00:00:00\",\"2020-01-08T00:00:00\",\"2020-01-09T00:00:00\",\"2020-01-10T00:00:00\",\"2020-01-11T00:00:00\",\"2020-01-12T00:00:00\",\"2020-01-13T00:00:00\",\"2020-01-14T00:00:00\",\"2020-01-15T00:00:00\",\"2020-01-16T00:00:00\",\"2020-01-17T00:00:00\",\"2020-01-18T00:00:00\",\"2020-01-19T00:00:00\",\"2020-01-20T00:00:00\",\"2020-01-21T00:00:00\",\"2020-01-22T00:00:00\",\"2020-01-23T00:00:00\",\"2020-01-24T00:00:00\",\"2020-01-25T00:00:00\",\"2020-01-26T00:00:00\",\"2020-01-27T00:00:00\",\"2020-01-28T00:00:00\",\"2020-01-29T00:00:00\",\"2020-01-30T00:00:00\",\"2020-01-31T00:00:00\",\"2020-02-01T00:00:00\",\"2020-02-02T00:00:00\",\"2020-02-03T00:00:00\",\"2020-02-04T00:00:00\",\"2020-02-05T00:00:00\",\"2020-02-06T00:00:00\",\"2020-02-07T00:00:00\",\"2020-02-08T00:00:00\",\"2020-02-09T00:00:00\",\"2020-02-10T00:00:00\",\"2020-02-11T00:00:00\",\"2020-02-12T00:00:00\",\"2020-02-13T00:00:00\",\"2020-02-14T00:00:00\",\"2020-02-15T00:00:00\",\"2020-02-16T00:00:00\",\"2020-02-17T00:00:00\",\"2020-02-18T00:00:00\",\"2020-02-19T00:00:00\",\"2020-02-20T00:00:00\",\"2020-02-21T00:00:00\",\"2020-02-22T00:00:00\",\"2020-02-23T00:00:00\",\"2020-02-24T00:00:00\",\"2020-02-25T00:00:00\",\"2020-02-26T00:00:00\",\"2020-02-27T00:00:00\",\"2020-02-28T00:00:00\",\"2020-02-29T00:00:00\",\"2020-03-01T00:00:00\",\"2020-03-02T00:00:00\",\"2020-03-03T00:00:00\",\"2020-03-04T00:00:00\",\"2020-03-05T00:00:00\",\"2020-03-06T00:00:00\",\"2020-03-07T00:00:00\",\"2020-03-08T00:00:00\",\"2020-03-09T00:00:00\",\"2020-03-10T00:00:00\",\"2020-03-11T00:00:00\",\"2020-03-12T00:00:00\",\"2020-03-13T00:00:00\",\"2020-03-14T00:00:00\",\"2020-03-15T00:00:00\",\"2020-03-16T00:00:00\",\"2020-03-17T00:00:00\",\"2020-03-18T00:00:00\",\"2020-03-19T00:00:00\",\"2020-03-20T00:00:00\",\"2020-03-21T00:00:00\",\"2020-03-22T00:00:00\",\"2020-03-23T00:00:00\",\"2020-03-24T00:00:00\",\"2020-03-25T00:00:00\",\"2020-03-26T00:00:00\",\"2020-03-27T00:00:00\",\"2020-03-28T00:00:00\",\"2020-03-29T00:00:00\",\"2020-03-30T00:00:00\",\"2020-03-31T00:00:00\",\"2020-04-01T00:00:00\",\"2020-04-02T00:00:00\",\"2020-04-03T00:00:00\",\"2020-04-04T00:00:00\",\"2020-04-05T00:00:00\",\"2020-04-06T00:00:00\",\"2020-04-07T00:00:00\",\"2020-04-08T00:00:00\",\"2020-04-09T00:00:00\",\"2020-04-10T00:00:00\",\"2020-04-11T00:00:00\",\"2020-04-12T00:00:00\",\"2020-04-13T00:00:00\",\"2020-04-14T00:00:00\",\"2020-04-15T00:00:00\",\"2020-04-16T00:00:00\",\"2020-04-17T00:00:00\",\"2020-04-18T00:00:00\",\"2020-04-19T00:00:00\",\"2020-04-20T00:00:00\",\"2020-04-21T00:00:00\",\"2020-04-22T00:00:00\",\"2020-04-23T00:00:00\",\"2020-04-24T00:00:00\",\"2020-04-25T00:00:00\",\"2020-04-26T00:00:00\",\"2020-04-27T00:00:00\",\"2020-04-28T00:00:00\",\"2020-04-29T00:00:00\",\"2020-04-30T00:00:00\",\"2020-05-01T00:00:00\",\"2020-05-02T00:00:00\",\"2020-05-03T00:00:00\",\"2020-05-04T00:00:00\",\"2020-05-05T00:00:00\",\"2020-05-06T00:00:00\",\"2020-05-07T00:00:00\",\"2020-05-08T00:00:00\",\"2020-05-09T00:00:00\",\"2020-05-10T00:00:00\",\"2020-05-11T00:00:00\",\"2020-05-12T00:00:00\",\"2020-05-13T00:00:00\",\"2020-05-14T00:00:00\",\"2020-05-15T00:00:00\",\"2020-05-16T00:00:00\",\"2020-05-17T00:00:00\",\"2020-05-18T00:00:00\",\"2020-05-19T00:00:00\",\"2020-05-20T00:00:00\",\"2020-05-21T00:00:00\",\"2020-05-22T00:00:00\",\"2020-05-23T00:00:00\",\"2020-05-24T00:00:00\",\"2020-05-25T00:00:00\",\"2020-05-26T00:00:00\",\"2020-05-27T00:00:00\",\"2020-05-28T00:00:00\",\"2020-05-29T00:00:00\",\"2020-05-30T00:00:00\",\"2020-05-31T00:00:00\",\"2020-06-01T00:00:00\",\"2020-06-02T00:00:00\",\"2020-06-03T00:00:00\",\"2020-06-04T00:00:00\",\"2020-06-05T00:00:00\",\"2020-06-06T00:00:00\",\"2020-06-07T00:00:00\",\"2020-06-08T00:00:00\",\"2020-06-09T00:00:00\",\"2020-06-10T00:00:00\",\"2020-06-11T00:00:00\",\"2020-06-12T00:00:00\",\"2020-06-13T00:00:00\",\"2020-06-14T00:00:00\",\"2020-06-15T00:00:00\",\"2020-06-16T00:00:00\",\"2020-06-17T00:00:00\",\"2020-06-18T00:00:00\",\"2020-06-19T00:00:00\",\"2020-06-20T00:00:00\",\"2020-06-21T00:00:00\",\"2020-06-22T00:00:00\",\"2020-06-23T00:00:00\",\"2020-06-24T00:00:00\",\"2020-06-25T00:00:00\",\"2020-06-26T00:00:00\",\"2020-06-27T00:00:00\",\"2020-06-28T00:00:00\",\"2020-06-29T00:00:00\",\"2020-06-30T00:00:00\",\"2020-07-01T00:00:00\",\"2020-07-02T00:00:00\",\"2020-07-03T00:00:00\",\"2020-07-04T00:00:00\",\"2020-07-05T00:00:00\",\"2020-07-06T00:00:00\",\"2020-07-07T00:00:00\",\"2020-07-08T00:00:00\",\"2020-07-09T00:00:00\",\"2020-07-10T00:00:00\",\"2020-07-11T00:00:00\",\"2020-07-12T00:00:00\",\"2020-07-13T00:00:00\",\"2020-07-14T00:00:00\",\"2020-07-15T00:00:00\",\"2020-07-16T00:00:00\",\"2020-07-17T00:00:00\",\"2020-07-18T00:00:00\",\"2020-07-19T00:00:00\",\"2020-07-20T00:00:00\",\"2020-07-21T00:00:00\",\"2020-07-22T00:00:00\",\"2020-07-23T00:00:00\",\"2020-07-24T00:00:00\",\"2020-07-25T00:00:00\",\"2020-07-26T00:00:00\",\"2020-07-27T00:00:00\",\"2020-07-28T00:00:00\",\"2020-07-29T00:00:00\",\"2020-07-30T00:00:00\",\"2020-07-31T00:00:00\",\"2020-08-01T00:00:00\",\"2020-08-02T00:00:00\",\"2020-08-03T00:00:00\",\"2020-08-04T00:00:00\",\"2020-08-05T00:00:00\",\"2020-08-06T00:00:00\",\"2020-08-07T00:00:00\",\"2020-08-08T00:00:00\",\"2020-08-09T00:00:00\",\"2020-08-10T00:00:00\",\"2020-08-11T00:00:00\",\"2020-08-12T00:00:00\",\"2020-08-13T00:00:00\",\"2020-08-14T00:00:00\",\"2020-08-15T00:00:00\",\"2020-08-16T00:00:00\",\"2020-08-17T00:00:00\",\"2020-08-18T00:00:00\",\"2020-08-19T00:00:00\",\"2020-08-20T00:00:00\",\"2020-08-21T00:00:00\",\"2020-08-22T00:00:00\",\"2020-08-23T00:00:00\",\"2020-08-24T00:00:00\",\"2020-08-25T00:00:00\",\"2020-08-26T00:00:00\",\"2020-08-27T00:00:00\",\"2020-08-28T00:00:00\",\"2020-08-29T00:00:00\",\"2020-08-30T00:00:00\",\"2020-08-31T00:00:00\",\"2020-09-01T00:00:00\",\"2020-09-02T00:00:00\",\"2020-09-03T00:00:00\",\"2020-09-04T00:00:00\",\"2020-09-05T00:00:00\",\"2020-09-06T00:00:00\",\"2020-09-07T00:00:00\",\"2020-09-08T00:00:00\",\"2020-09-09T00:00:00\",\"2020-09-10T00:00:00\",\"2020-09-11T00:00:00\",\"2020-09-12T00:00:00\",\"2020-09-13T00:00:00\",\"2020-09-14T00:00:00\",\"2020-09-15T00:00:00\",\"2020-09-16T00:00:00\",\"2020-09-17T00:00:00\",\"2020-09-18T00:00:00\",\"2020-09-19T00:00:00\",\"2020-09-20T00:00:00\",\"2020-09-21T00:00:00\",\"2020-09-22T00:00:00\",\"2020-09-23T00:00:00\",\"2020-09-24T00:00:00\",\"2020-09-25T00:00:00\",\"2020-09-26T00:00:00\",\"2020-09-27T00:00:00\",\"2020-09-28T00:00:00\",\"2020-09-29T00:00:00\",\"2020-09-30T00:00:00\",\"2020-10-01T00:00:00\",\"2020-10-02T00:00:00\",\"2020-10-03T00:00:00\",\"2020-10-04T00:00:00\",\"2020-10-05T00:00:00\",\"2020-10-06T00:00:00\",\"2020-10-07T00:00:00\",\"2020-10-08T00:00:00\",\"2020-10-09T00:00:00\",\"2020-10-10T00:00:00\",\"2020-10-11T00:00:00\",\"2020-10-12T00:00:00\",\"2020-10-13T00:00:00\",\"2020-10-14T00:00:00\",\"2020-10-15T00:00:00\",\"2020-10-16T00:00:00\",\"2020-10-17T00:00:00\",\"2020-10-18T00:00:00\",\"2020-10-19T00:00:00\",\"2020-10-20T00:00:00\",\"2020-10-21T00:00:00\",\"2020-10-22T00:00:00\",\"2020-10-23T00:00:00\",\"2020-10-24T00:00:00\",\"2020-10-25T00:00:00\",\"2020-10-26T00:00:00\",\"2020-10-27T00:00:00\",\"2020-10-28T00:00:00\",\"2020-10-29T00:00:00\",\"2020-10-30T00:00:00\",\"2020-10-31T00:00:00\",\"2020-11-01T00:00:00\",\"2020-11-02T00:00:00\",\"2020-11-03T00:00:00\",\"2020-11-04T00:00:00\",\"2020-11-05T00:00:00\",\"2020-11-06T00:00:00\",\"2020-11-07T00:00:00\",\"2020-11-08T00:00:00\",\"2020-11-09T00:00:00\",\"2020-11-10T00:00:00\",\"2020-11-11T00:00:00\",\"2020-11-12T00:00:00\",\"2020-11-13T00:00:00\",\"2020-11-14T00:00:00\",\"2020-11-15T00:00:00\",\"2020-11-16T00:00:00\",\"2020-11-17T00:00:00\",\"2020-11-18T00:00:00\",\"2020-11-19T00:00:00\",\"2020-11-20T00:00:00\",\"2020-11-21T00:00:00\",\"2020-11-22T00:00:00\",\"2020-11-23T00:00:00\",\"2020-11-24T00:00:00\",\"2020-11-25T00:00:00\",\"2020-11-26T00:00:00\",\"2020-11-27T00:00:00\",\"2020-11-28T00:00:00\",\"2020-11-29T00:00:00\",\"2020-11-30T00:00:00\",\"2020-12-01T00:00:00\",\"2020-12-02T00:00:00\",\"2020-12-03T00:00:00\",\"2020-12-04T00:00:00\",\"2020-12-05T00:00:00\",\"2020-12-06T00:00:00\",\"2020-12-07T00:00:00\",\"2020-12-08T00:00:00\",\"2020-12-09T00:00:00\",\"2020-12-10T00:00:00\",\"2020-12-11T00:00:00\",\"2020-12-12T00:00:00\",\"2020-12-13T00:00:00\",\"2020-12-14T00:00:00\",\"2020-12-15T00:00:00\",\"2020-12-16T00:00:00\",\"2020-12-17T00:00:00\",\"2020-12-18T00:00:00\",\"2020-12-19T00:00:00\",\"2020-12-20T00:00:00\",\"2020-12-21T00:00:00\",\"2020-12-22T00:00:00\",\"2020-12-23T00:00:00\",\"2020-12-24T00:00:00\",\"2020-12-25T00:00:00\",\"2020-12-26T00:00:00\",\"2020-12-27T00:00:00\",\"2020-12-28T00:00:00\",\"2020-12-29T00:00:00\",\"2020-12-30T00:00:00\",\"2020-12-31T00:00:00\"],\"y\":[\"1900-01-01T23:50:00\",\"1900-01-02T01:08:00\",\"1900-01-01T23:36:00\",\"1900-01-01T23:54:00\",\"1900-01-02T00:49:00\",\"1900-01-02T01:19:00\",\"1900-01-01T23:51:00\",\"1900-01-02T00:01:00\",\"1900-01-01T23:39:00\",\"1900-01-01T23:28:00\",\"1900-01-01T23:30:00\",\"1900-01-01T23:55:00\",\"1900-01-02T00:19:00\",\"1900-01-01T23:22:00\",\"1900-01-02T00:24:00\",\"1900-01-02T00:45:00\",\"1900-01-02T00:55:00\",\"1900-01-02T00:05:00\",\"1900-01-01T23:22:00\",\"1900-01-02T00:16:00\",\"1900-01-01T23:48:00\",\"1900-01-02T00:03:00\",\"1900-01-02T00:05:00\",\"1900-01-01T23:56:00\",\"1900-01-01T23:11:00\",\"1900-01-01T23:20:00\",\"1900-01-01T23:57:00\",\"1900-01-02T00:13:00\",\"1900-01-01T23:40:00\",\"1900-01-01T23:54:00\",\"1900-01-01T23:48:00\",\"1900-01-01T23:39:00\",\"1900-01-01T23:51:00\",\"1900-01-02T00:37:00\",\"1900-01-01T23:49:00\",\"1900-01-02T00:31:00\",\"1900-01-01T23:16:00\",\"1900-01-01T23:29:00\",\"1900-01-01T23:35:00\",\"1900-01-01T23:21:00\",\"1900-01-01T23:52:00\",\"1900-01-01T23:23:00\",\"1900-01-02T00:04:00\",\"1900-01-01T23:07:00\",\"1900-01-01T23:12:00\",\"1900-01-01T23:13:00\",\"1900-01-02T00:55:00\",\"1900-01-02T00:41:00\",\"1900-01-01T23:40:00\",\"1900-01-01T23:27:00\",\"1900-01-01T23:37:00\",\"1900-01-01T23:24:00\",\"1900-01-01T23:41:00\",\"1900-01-01T23:28:00\",\"1900-01-01T23:34:00\",\"1900-01-01T23:44:00\",\"1900-01-02T00:43:00\",\"1900-01-01T23:22:00\",\"1900-01-01T22:47:00\",\"1900-01-01T23:38:00\",\"1900-01-01T23:38:00\",\"1900-01-02T00:45:00\",\"1900-01-02T00:06:00\",\"1900-01-01T23:24:00\",\"1900-01-02T00:00:00\",\"1900-01-01T23:28:00\",\"1900-01-01T23:50:00\",\"1900-01-01T23:15:00\",\"1900-01-02T00:22:00\",\"1900-01-01T23:34:00\",\"1900-01-01T23:38:00\",\"1900-01-02T00:13:00\",\"1900-01-01T23:25:00\",\"1900-01-01T23:38:00\",\"1900-01-01T23:35:00\",\"1900-01-02T00:00:00\",\"1900-01-01T23:32:00\",\"1900-01-01T23:56:00\",\"1900-01-01T22:55:00\",\"1900-01-01T23:59:00\",\"1900-01-01T23:25:00\",\"1900-01-01T23:55:00\",\"1900-01-02T00:05:00\",\"1900-01-01T23:58:00\",\"1900-01-01T23:53:00\",\"1900-01-01T23:44:00\",\"1900-01-01T23:50:00\",\"1900-01-01T23:35:00\",\"1900-01-02T00:05:00\",\"1900-01-01T23:03:00\",\"1900-01-01T23:55:00\",\"1900-01-01T23:49:00\",\"1900-01-02T00:03:00\",\"1900-01-01T23:58:00\",\"1900-01-01T23:57:00\",\"1900-01-01T23:51:00\",\"1900-01-02T00:07:00\",\"1900-01-01T23:29:00\",\"1900-01-01T23:47:00\",\"1900-01-01T23:09:00\",\"1900-01-01T23:33:00\",\"1900-01-01T23:38:00\",\"1900-01-01T23:53:00\",\"1900-01-01T23:51:00\",\"1900-01-01T23:56:00\",\"1900-01-01T23:56:00\",\"1900-01-01T23:43:00\",\"1900-01-02T00:00:00\",\"1900-01-01T23:49:00\",\"1900-01-01T23:34:00\",\"1900-01-02T00:25:00\",\"1900-01-02T00:51:00\",\"1900-01-02T00:40:00\",\"1900-01-01T23:56:00\",\"1900-01-02T00:04:00\",\"1900-01-01T23:45:00\",\"1900-01-01T23:43:00\",\"1900-01-01T23:56:00\",\"1900-01-02T00:00:00\",\"1900-01-02T00:05:00\",\"1900-01-01T23:56:00\",\"1900-01-01T23:29:00\",\"1900-01-01T23:29:00\",\"1900-01-01T23:32:00\",\"1900-01-01T23:52:00\",\"1900-01-01T23:53:00\",\"1900-01-01T23:29:00\",\"1900-01-01T23:38:00\",\"1900-01-01T23:28:00\",\"1900-01-01T23:46:00\",\"1900-01-02T00:21:00\",\"1900-01-01T23:31:00\",\"1900-01-01T23:41:00\",\"1900-01-01T23:33:00\",\"1900-01-01T23:18:00\",\"1900-01-01T23:34:00\",\"1900-01-02T00:02:00\",\"1900-01-01T23:29:00\",\"1900-01-02T00:22:00\",\"1900-01-01T23:24:00\",\"1900-01-01T23:29:00\",\"1900-01-01T23:27:00\",\"1900-01-01T23:24:00\",\"1900-01-01T23:22:00\",\"1900-01-01T23:50:00\",\"1900-01-02T00:07:00\",\"1900-01-01T23:18:00\",\"1900-01-01T23:48:00\",\"1900-01-01T22:59:00\",\"1900-01-01T23:07:00\",\"1900-01-01T22:31:00\",\"1900-01-01T23:04:00\",\"1900-01-01T23:03:00\",\"1900-01-01T23:24:00\",\"1900-01-01T23:32:00\",\"1900-01-01T23:06:00\",\"1900-01-01T23:13:00\",\"1900-01-01T23:47:00\",\"1900-01-01T23:05:00\",\"1900-01-01T23:05:00\",\"1900-01-01T22:47:00\",\"1900-01-01T23:02:00\",\"1900-01-01T23:20:00\",\"1900-01-01T23:10:00\",\"1900-01-01T23:15:00\",\"1900-01-01T23:34:00\",\"1900-01-01T23:22:00\",\"1900-01-01T23:08:00\",\"1900-01-01T22:57:00\",\"1900-01-01T23:17:00\",\"1900-01-01T23:10:00\",\"1900-01-01T23:13:00\",\"1900-01-01T23:43:00\",\"1900-01-01T23:27:00\",\"1900-01-01T23:13:00\",\"1900-01-01T23:33:00\",\"1900-01-01T23:25:00\",\"1900-01-01T23:15:00\",\"1900-01-02T00:49:00\",\"1900-01-01T23:13:00\",\"1900-01-01T23:10:00\",\"1900-01-01T23:52:00\",\"1900-01-01T22:53:00\",\"1900-01-01T22:59:00\",\"1900-01-01T22:40:00\",\"1900-01-01T23:16:00\",\"1900-01-01T22:41:00\",\"1900-01-01T22:51:00\",\"1900-01-01T22:56:00\",\"1900-01-01T23:00:00\",\"1900-01-01T23:04:00\",\"1900-01-01T22:47:00\",\"1900-01-01T22:37:00\",\"1900-01-01T23:15:00\",\"1900-01-01T23:31:00\",\"1900-01-01T23:03:00\",\"1900-01-01T23:03:00\",\"1900-01-01T22:39:00\",\"1900-01-01T23:30:00\",\"1900-01-01T23:10:00\",\"1900-01-01T23:50:00\",\"1900-01-01T23:54:00\",\"1900-01-01T23:04:00\",\"1900-01-01T23:47:00\",\"1900-01-01T22:52:00\",\"1900-01-01T23:14:00\",\"1900-01-01T23:11:00\",\"1900-01-01T23:53:00\",\"1900-01-02T00:48:00\",\"1900-01-01T22:46:00\",\"1900-01-01T22:55:00\",\"1900-01-01T22:45:00\",\"1900-01-01T23:08:00\",\"1900-01-01T23:53:00\",\"1900-01-01T23:18:00\",\"1900-01-01T23:35:00\",\"1900-01-01T23:10:00\",\"1900-01-01T22:58:00\",\"1900-01-01T23:21:00\",\"1900-01-02T00:05:00\",\"1900-01-01T23:12:00\",\"1900-01-01T23:30:00\",\"1900-01-01T23:29:00\",\"1900-01-01T23:02:00\",\"1900-01-01T23:40:00\",\"1900-01-01T22:48:00\",\"1900-01-01T23:04:00\",\"1900-01-01T22:43:00\",\"1900-01-01T22:51:00\",\"1900-01-01T23:20:00\",\"1900-01-01T23:33:00\",\"1900-01-01T23:02:00\",\"1900-01-01T23:16:00\",\"1900-01-01T23:23:00\",\"1900-01-01T23:04:00\",\"1900-01-01T23:24:00\",\"1900-01-01T23:06:00\",\"1900-01-01T23:10:00\",\"1900-01-01T23:07:00\",\"1900-01-01T23:00:00\",\"1900-01-01T23:04:00\",\"1900-01-01T22:53:00\",\"1900-01-01T22:55:00\",\"1900-01-01T22:56:00\",\"1900-01-01T22:46:00\",\"1900-01-01T22:51:00\",\"1900-01-01T22:43:00\",\"1900-01-01T22:44:00\",\"1900-01-01T22:44:00\",\"1900-01-01T22:34:00\",\"1900-01-01T22:37:00\",\"1900-01-01T22:37:00\",\"1900-01-01T22:40:00\",\"1900-01-01T22:36:00\",\"1900-01-01T22:47:00\",\"1900-01-01T22:56:00\",\"1900-01-01T22:44:00\",\"1900-01-01T22:55:00\",\"1900-01-01T22:56:00\",\"1900-01-01T22:44:00\",\"1900-01-02T00:10:00\",\"1900-01-01T21:52:00\",\"1900-01-01T23:36:00\",\"1900-01-01T22:45:00\",\"1900-01-01T22:52:00\",\"1900-01-01T23:08:00\",\"1900-01-01T22:57:00\",\"1900-01-01T22:47:00\",\"1900-01-01T23:18:00\",\"1900-01-01T22:56:00\",\"1900-01-01T23:03:00\",\"1900-01-01T23:07:00\",\"1900-01-01T22:57:00\",\"1900-01-01T22:53:00\",\"1900-01-01T22:49:00\",\"1900-01-01T22:47:00\",\"1900-01-01T22:40:00\",\"1900-01-02T01:13:00\",\"1900-01-01T22:48:00\",\"1900-01-01T22:50:00\",\"1900-01-01T23:06:00\",\"1900-01-01T22:59:00\",\"1900-01-01T22:53:00\",\"1900-01-02T00:06:00\",\"1900-01-01T22:43:00\",\"1900-01-01T22:48:00\",\"1900-01-01T22:48:00\",\"1900-01-01T22:49:00\",\"1900-01-01T22:46:00\",\"1900-01-01T22:51:00\",\"1900-01-01T22:50:00\",\"1900-01-01T22:51:00\",\"1900-01-01T22:43:00\",\"1900-01-01T22:53:00\",\"1900-01-01T22:47:00\",\"1900-01-01T22:53:00\",\"1900-01-01T22:46:00\",\"1900-01-01T22:48:00\",\"1900-01-01T22:52:00\",\"1900-01-01T22:47:00\",\"1900-01-01T22:28:00\",\"1900-01-01T22:44:00\",\"1900-01-01T22:38:00\",\"1900-01-01T22:46:00\",\"1900-01-01T22:42:00\",\"1900-01-01T22:49:00\",\"1900-01-01T22:44:00\",\"1900-01-01T22:49:00\",\"1900-01-01T22:44:00\",\"1900-01-01T22:41:00\",\"1900-01-01T22:42:00\",\"1900-01-01T22:45:00\",\"1900-01-01T22:39:00\",\"1900-01-01T22:43:00\",\"1900-01-01T22:41:00\",\"1900-01-01T22:41:00\",\"1900-01-01T22:40:00\",\"1900-01-01T22:40:00\",\"1900-01-01T22:39:00\",\"1900-01-01T22:38:00\",\"1900-01-01T22:41:00\",\"1900-01-01T22:45:00\",\"1900-01-01T22:40:00\",\"1900-01-01T22:40:00\",\"1900-01-01T22:39:00\",\"1900-01-01T22:46:00\",\"1900-01-01T22:44:00\",\"1900-01-01T22:36:00\",\"1900-01-01T22:40:00\",\"1900-01-01T22:45:00\",\"1900-01-01T22:43:00\",\"1900-01-01T22:41:00\",\"1900-01-01T22:44:00\",\"1900-01-01T22:46:00\",\"1900-01-01T22:43:00\",\"1900-01-01T22:45:00\",\"1900-01-01T22:41:00\",\"1900-01-01T22:43:00\",\"1900-01-01T22:41:00\",\"1900-01-01T22:45:00\",\"1900-01-01T22:39:00\",\"1900-01-01T22:46:00\",\"1900-01-01T22:41:00\",\"1900-01-01T22:45:00\",\"1900-01-01T22:45:00\",\"1900-01-01T22:43:00\",\"1900-01-01T22:44:00\",\"1900-01-01T22:44:00\",\"1900-01-01T22:44:00\",\"1900-01-01T22:45:00\",\"1900-01-01T22:43:00\",\"1900-01-01T22:43:00\",\"1900-01-01T22:42:00\",\"1900-01-01T22:41:00\",\"1900-01-01T22:37:00\",\"1900-01-01T22:38:00\",\"1900-01-01T22:42:00\",\"1900-01-01T22:41:00\",\"1900-01-01T22:38:00\",\"1900-01-01T22:48:00\",\"1900-01-01T22:42:00\",\"1900-01-01T22:41:00\",\"1900-01-01T22:46:00\",\"1900-01-01T22:37:00\",\"1900-01-01T22:38:00\",\"1900-01-01T22:42:00\",\"1900-01-01T22:52:00\"]}],                        {\"legend\":{\"title\":{\"text\":\"Tempo\"}},\"template\":{\"data\":{\"bar\":[{\"error_x\":{\"color\":\"#2a3f5f\"},\"error_y\":{\"color\":\"#2a3f5f\"},\"marker\":{\"line\":{\"color\":\"#E5ECF6\",\"width\":0.5},\"pattern\":{\"fillmode\":\"overlay\",\"size\":10,\"solidity\":0.2}},\"type\":\"bar\"}],\"barpolar\":[{\"marker\":{\"line\":{\"color\":\"#E5ECF6\",\"width\":0.5},\"pattern\":{\"fillmode\":\"overlay\",\"size\":10,\"solidity\":0.2}},\"type\":\"barpolar\"}],\"carpet\":[{\"aaxis\":{\"endlinecolor\":\"#2a3f5f\",\"gridcolor\":\"white\",\"linecolor\":\"white\",\"minorgridcolor\":\"white\",\"startlinecolor\":\"#2a3f5f\"},\"baxis\":{\"endlinecolor\":\"#2a3f5f\",\"gridcolor\":\"white\",\"linecolor\":\"white\",\"minorgridcolor\":\"white\",\"startlinecolor\":\"#2a3f5f\"},\"type\":\"carpet\"}],\"choropleth\":[{\"colorbar\":{\"outlinewidth\":0,\"ticks\":\"\"},\"type\":\"choropleth\"}],\"contour\":[{\"colorbar\":{\"outlinewidth\":0,\"ticks\":\"\"},\"colorscale\":[[0.0,\"#0d0887\"],[0.1111111111111111,\"#46039f\"],[0.2222222222222222,\"#7201a8\"],[0.3333333333333333,\"#9c179e\"],[0.4444444444444444,\"#bd3786\"],[0.5555555555555556,\"#d8576b\"],[0.6666666666666666,\"#ed7953\"],[0.7777777777777778,\"#fb9f3a\"],[0.8888888888888888,\"#fdca26\"],[1.0,\"#f0f921\"]],\"type\":\"contour\"}],\"contourcarpet\":[{\"colorbar\":{\"outlinewidth\":0,\"ticks\":\"\"},\"type\":\"contourcarpet\"}],\"heatmap\":[{\"colorbar\":{\"outlinewidth\":0,\"ticks\":\"\"},\"colorscale\":[[0.0,\"#0d0887\"],[0.1111111111111111,\"#46039f\"],[0.2222222222222222,\"#7201a8\"],[0.3333333333333333,\"#9c179e\"],[0.4444444444444444,\"#bd3786\"],[0.5555555555555556,\"#d8576b\"],[0.6666666666666666,\"#ed7953\"],[0.7777777777777778,\"#fb9f3a\"],[0.8888888888888888,\"#fdca26\"],[1.0,\"#f0f921\"]],\"type\":\"heatmap\"}],\"heatmapgl\":[{\"colorbar\":{\"outlinewidth\":0,\"ticks\":\"\"},\"colorscale\":[[0.0,\"#0d0887\"],[0.1111111111111111,\"#46039f\"],[0.2222222222222222,\"#7201a8\"],[0.3333333333333333,\"#9c179e\"],[0.4444444444444444,\"#bd3786\"],[0.5555555555555556,\"#d8576b\"],[0.6666666666666666,\"#ed7953\"],[0.7777777777777778,\"#fb9f3a\"],[0.8888888888888888,\"#fdca26\"],[1.0,\"#f0f921\"]],\"type\":\"heatmapgl\"}],\"histogram\":[{\"marker\":{\"pattern\":{\"fillmode\":\"overlay\",\"size\":10,\"solidity\":0.2}},\"type\":\"histogram\"}],\"histogram2d\":[{\"colorbar\":{\"outlinewidth\":0,\"ticks\":\"\"},\"colorscale\":[[0.0,\"#0d0887\"],[0.1111111111111111,\"#46039f\"],[0.2222222222222222,\"#7201a8\"],[0.3333333333333333,\"#9c179e\"],[0.4444444444444444,\"#bd3786\"],[0.5555555555555556,\"#d8576b\"],[0.6666666666666666,\"#ed7953\"],[0.7777777777777778,\"#fb9f3a\"],[0.8888888888888888,\"#fdca26\"],[1.0,\"#f0f921\"]],\"type\":\"histogram2d\"}],\"histogram2dcontour\":[{\"colorbar\":{\"outlinewidth\":0,\"ticks\":\"\"},\"colorscale\":[[0.0,\"#0d0887\"],[0.1111111111111111,\"#46039f\"],[0.2222222222222222,\"#7201a8\"],[0.3333333333333333,\"#9c179e\"],[0.4444444444444444,\"#bd3786\"],[0.5555555555555556,\"#d8576b\"],[0.6666666666666666,\"#ed7953\"],[0.7777777777777778,\"#fb9f3a\"],[0.8888888888888888,\"#fdca26\"],[1.0,\"#f0f921\"]],\"type\":\"histogram2dcontour\"}],\"mesh3d\":[{\"colorbar\":{\"outlinewidth\":0,\"ticks\":\"\"},\"type\":\"mesh3d\"}],\"parcoords\":[{\"line\":{\"colorbar\":{\"outlinewidth\":0,\"ticks\":\"\"}},\"type\":\"parcoords\"}],\"pie\":[{\"automargin\":true,\"type\":\"pie\"}],\"scatter\":[{\"marker\":{\"colorbar\":{\"outlinewidth\":0,\"ticks\":\"\"}},\"type\":\"scatter\"}],\"scatter3d\":[{\"line\":{\"colorbar\":{\"outlinewidth\":0,\"ticks\":\"\"}},\"marker\":{\"colorbar\":{\"outlinewidth\":0,\"ticks\":\"\"}},\"type\":\"scatter3d\"}],\"scattercarpet\":[{\"marker\":{\"colorbar\":{\"outlinewidth\":0,\"ticks\":\"\"}},\"type\":\"scattercarpet\"}],\"scattergeo\":[{\"marker\":{\"colorbar\":{\"outlinewidth\":0,\"ticks\":\"\"}},\"type\":\"scattergeo\"}],\"scattergl\":[{\"marker\":{\"colorbar\":{\"outlinewidth\":0,\"ticks\":\"\"}},\"type\":\"scattergl\"}],\"scattermapbox\":[{\"marker\":{\"colorbar\":{\"outlinewidth\":0,\"ticks\":\"\"}},\"type\":\"scattermapbox\"}],\"scatterpolar\":[{\"marker\":{\"colorbar\":{\"outlinewidth\":0,\"ticks\":\"\"}},\"type\":\"scatterpolar\"}],\"scatterpolargl\":[{\"marker\":{\"colorbar\":{\"outlinewidth\":0,\"ticks\":\"\"}},\"type\":\"scatterpolargl\"}],\"scatterternary\":[{\"marker\":{\"colorbar\":{\"outlinewidth\":0,\"ticks\":\"\"}},\"type\":\"scatterternary\"}],\"surface\":[{\"colorbar\":{\"outlinewidth\":0,\"ticks\":\"\"},\"colorscale\":[[0.0,\"#0d0887\"],[0.1111111111111111,\"#46039f\"],[0.2222222222222222,\"#7201a8\"],[0.3333333333333333,\"#9c179e\"],[0.4444444444444444,\"#bd3786\"],[0.5555555555555556,\"#d8576b\"],[0.6666666666666666,\"#ed7953\"],[0.7777777777777778,\"#fb9f3a\"],[0.8888888888888888,\"#fdca26\"],[1.0,\"#f0f921\"]],\"type\":\"surface\"}],\"table\":[{\"cells\":{\"fill\":{\"color\":\"#EBF0F8\"},\"line\":{\"color\":\"white\"}},\"header\":{\"fill\":{\"color\":\"#C8D4E3\"},\"line\":{\"color\":\"white\"}},\"type\":\"table\"}]},\"layout\":{\"annotationdefaults\":{\"arrowcolor\":\"#2a3f5f\",\"arrowhead\":0,\"arrowwidth\":1},\"autotypenumbers\":\"strict\",\"coloraxis\":{\"colorbar\":{\"outlinewidth\":0,\"ticks\":\"\"}},\"colorscale\":{\"diverging\":[[0,\"#8e0152\"],[0.1,\"#c51b7d\"],[0.2,\"#de77ae\"],[0.3,\"#f1b6da\"],[0.4,\"#fde0ef\"],[0.5,\"#f7f7f7\"],[0.6,\"#e6f5d0\"],[0.7,\"#b8e186\"],[0.8,\"#7fbc41\"],[0.9,\"#4d9221\"],[1,\"#276419\"]],\"sequential\":[[0.0,\"#0d0887\"],[0.1111111111111111,\"#46039f\"],[0.2222222222222222,\"#7201a8\"],[0.3333333333333333,\"#9c179e\"],[0.4444444444444444,\"#bd3786\"],[0.5555555555555556,\"#d8576b\"],[0.6666666666666666,\"#ed7953\"],[0.7777777777777778,\"#fb9f3a\"],[0.8888888888888888,\"#fdca26\"],[1.0,\"#f0f921\"]],\"sequentialminus\":[[0.0,\"#0d0887\"],[0.1111111111111111,\"#46039f\"],[0.2222222222222222,\"#7201a8\"],[0.3333333333333333,\"#9c179e\"],[0.4444444444444444,\"#bd3786\"],[0.5555555555555556,\"#d8576b\"],[0.6666666666666666,\"#ed7953\"],[0.7777777777777778,\"#fb9f3a\"],[0.8888888888888888,\"#fdca26\"],[1.0,\"#f0f921\"]]},\"colorway\":[\"#636efa\",\"#EF553B\",\"#00cc96\",\"#ab63fa\",\"#FFA15A\",\"#19d3f3\",\"#FF6692\",\"#B6E880\",\"#FF97FF\",\"#FECB52\"],\"font\":{\"color\":\"#2a3f5f\"},\"geo\":{\"bgcolor\":\"white\",\"lakecolor\":\"white\",\"landcolor\":\"#E5ECF6\",\"showlakes\":true,\"showland\":true,\"subunitcolor\":\"white\"},\"hoverlabel\":{\"align\":\"left\"},\"hovermode\":\"closest\",\"mapbox\":{\"style\":\"light\"},\"paper_bgcolor\":\"white\",\"plot_bgcolor\":\"#E5ECF6\",\"polar\":{\"angularaxis\":{\"gridcolor\":\"white\",\"linecolor\":\"white\",\"ticks\":\"\"},\"bgcolor\":\"#E5ECF6\",\"radialaxis\":{\"gridcolor\":\"white\",\"linecolor\":\"white\",\"ticks\":\"\"}},\"scene\":{\"xaxis\":{\"backgroundcolor\":\"#E5ECF6\",\"gridcolor\":\"white\",\"gridwidth\":2,\"linecolor\":\"white\",\"showbackground\":true,\"ticks\":\"\",\"zerolinecolor\":\"white\"},\"yaxis\":{\"backgroundcolor\":\"#E5ECF6\",\"gridcolor\":\"white\",\"gridwidth\":2,\"linecolor\":\"white\",\"showbackground\":true,\"ticks\":\"\",\"zerolinecolor\":\"white\"},\"zaxis\":{\"backgroundcolor\":\"#E5ECF6\",\"gridcolor\":\"white\",\"gridwidth\":2,\"linecolor\":\"white\",\"showbackground\":true,\"ticks\":\"\",\"zerolinecolor\":\"white\"}},\"shapedefaults\":{\"line\":{\"color\":\"#2a3f5f\"}},\"ternary\":{\"aaxis\":{\"gridcolor\":\"white\",\"linecolor\":\"white\",\"ticks\":\"\"},\"baxis\":{\"gridcolor\":\"white\",\"linecolor\":\"white\",\"ticks\":\"\"},\"bgcolor\":\"#E5ECF6\",\"caxis\":{\"gridcolor\":\"white\",\"linecolor\":\"white\",\"ticks\":\"\"}},\"title\":{\"x\":0.05},\"xaxis\":{\"automargin\":true,\"gridcolor\":\"white\",\"linecolor\":\"white\",\"ticks\":\"\",\"title\":{\"standoff\":15},\"zerolinecolor\":\"white\",\"zerolinewidth\":2},\"yaxis\":{\"automargin\":true,\"gridcolor\":\"white\",\"linecolor\":\"white\",\"ticks\":\"\",\"title\":{\"standoff\":15},\"zerolinecolor\":\"white\",\"zerolinewidth\":2}}},\"yaxis\":{\"tickformat\":\"%H:%M\",\"type\":\"date\"}},                        {\"responsive\": true}                    ).then(function(){\n                            \nvar gd = document.getElementById('4b75810a-26c5-488b-b8b1-ce0061bf26c1');\nvar x = new MutationObserver(function (mutations, observer) {{\n        var display = window.getComputedStyle(gd).display;\n        if (!display || display === 'none') {{\n            console.log([gd, 'removed!']);\n            Plotly.purge(gd);\n            observer.disconnect();\n        }}\n}});\n\n// Listen for the removal of the full notebook cells\nvar notebookContainer = gd.closest('#notebook-container');\nif (notebookContainer) {{\n    x.observe(notebookContainer, {childList: true});\n}}\n\n// Listen for the clearing of the current output cell\nvar outputEl = gd.closest('.output');\nif (outputEl) {{\n    x.observe(outputEl, {childList: true});\n}}\n\n                        })                };                            </script>        </div>\n</body>\n</html>"
     },
     "metadata": {},
     "output_type": "display_data"
    }
   ],
   "execution_count": 5
  },
  {
   "cell_type": "markdown",
   "source": "## Graph Objects",
   "metadata": {
    "tags": [],
    "is_collapsed": false,
    "cell_id": "00008-ab3627cb-c54c-41db-90ba-6aa954bc932b",
    "deepnote_cell_type": "text-cell-h2"
   }
  },
  {
   "cell_type": "code",
   "metadata": {
    "tags": [],
    "cell_id": "00006-0cb1b88e-4346-4385-9693-b89b0fe47e62",
    "deepnote_to_be_reexecuted": false,
    "source_hash": "6b7a229f",
    "execution_start": 1634474606112,
    "execution_millis": 163,
    "deepnote_cell_type": "code"
   },
   "source": "fig = go.Figure(data=[\n    go.Scatter(name='Ora a cui si è andati a letto', y=OraLetto, x=Data),\n    go.Scatter(name='Ora a cui si è spenta la luce', y=OraLuce, x=Data),\n    go.Scatter(name=\"Ora a cui ci si è addormentati\", y=OraNanna,x=Data),\n    go.Scatter(name=\"Ora a cui si pensava di svegliarsi\", y=OraSvegliaP, x=Data),\n    go.Scatter(name=\"Ora a cui ci si è svegliati\", y=OraSveglia, x=Data),\n    go.Scatter(name=\"Ora a cui ci si è alzati\", y=OraLeva, x=Data),\n])\n\nfig.update_layout(\n    #barmode='stack',\n    legend_title_text='Tempo',\n    paper_bgcolor=\"LightSteelBlue\",\n    yaxis={\n        'type': 'date',\n        'tickformat': \"%H:%M\"        \n    },\n    autosize=False,\n    width=1000,\n    height=500,\n    margin=dict(\n        l=50,\n        r=50,\n        b=20,\n        t=20,\n        pad=4\n    ),\n    legend=dict(\n        yanchor=\"top\",\n        y=1.4,\n        xanchor=\"left\",\n        x=0.00\n    ),\n)\n\n\nfig.show()",
   "outputs": [
    {
     "data": {
      "text/html": "<html>\n<head><meta charset=\"utf-8\" /></head>\n<body>\n    <div>            <script src=\"https://cdnjs.cloudflare.com/ajax/libs/mathjax/2.7.5/MathJax.js?config=TeX-AMS-MML_SVG\"></script><script type=\"text/javascript\">if (window.MathJax) {MathJax.Hub.Config({SVG: {font: \"STIX-Web\"}});}</script>                <script type=\"text/javascript\">window.PlotlyConfig = {MathJaxConfig: 'local'};</script>\n        <script src=\"https://cdn.plot.ly/plotly-2.4.2.min.js\"></script>                <div id=\"2e60ee63-c04a-471a-b2fb-188dad0e95e3\" class=\"plotly-graph-div\" style=\"height:500px; width:1000px;\"></div>            <script type=\"text/javascript\">                                    window.PLOTLYENV=window.PLOTLYENV || {};                                    if (document.getElementById(\"2e60ee63-c04a-471a-b2fb-188dad0e95e3\")) {                    Plotly.newPlot(                        \"2e60ee63-c04a-471a-b2fb-188dad0e95e3\",                        [{\"name\":\"Ora a cui si \\u00e8 andati a letto\",\"type\":\"scatter\",\"x\":[\"2019-12-31T00:00:00\",\"2020-01-01T00:00:00\",\"2020-01-02T00:00:00\",\"2020-01-03T00:00:00\",\"2020-01-04T00:00:00\",\"2020-01-05T00:00:00\",\"2020-01-06T00:00:00\",\"2020-01-07T00:00:00\",\"2020-01-08T00:00:00\",\"2020-01-09T00:00:00\",\"2020-01-10T00:00:00\",\"2020-01-11T00:00:00\",\"2020-01-12T00:00:00\",\"2020-01-13T00:00:00\",\"2020-01-14T00:00:00\",\"2020-01-15T00:00:00\",\"2020-01-16T00:00:00\",\"2020-01-17T00:00:00\",\"2020-01-18T00:00:00\",\"2020-01-19T00:00:00\",\"2020-01-20T00:00:00\",\"2020-01-21T00:00:00\",\"2020-01-22T00:00:00\",\"2020-01-23T00:00:00\",\"2020-01-24T00:00:00\",\"2020-01-25T00:00:00\",\"2020-01-26T00:00:00\",\"2020-01-27T00:00:00\",\"2020-01-28T00:00:00\",\"2020-01-29T00:00:00\",\"2020-01-30T00:00:00\",\"2020-01-31T00:00:00\",\"2020-02-01T00:00:00\",\"2020-02-02T00:00:00\",\"2020-02-03T00:00:00\",\"2020-02-04T00:00:00\",\"2020-02-05T00:00:00\",\"2020-02-06T00:00:00\",\"2020-02-07T00:00:00\",\"2020-02-08T00:00:00\",\"2020-02-09T00:00:00\",\"2020-02-10T00:00:00\",\"2020-02-11T00:00:00\",\"2020-02-12T00:00:00\",\"2020-02-13T00:00:00\",\"2020-02-14T00:00:00\",\"2020-02-15T00:00:00\",\"2020-02-16T00:00:00\",\"2020-02-17T00:00:00\",\"2020-02-18T00:00:00\",\"2020-02-19T00:00:00\",\"2020-02-20T00:00:00\",\"2020-02-21T00:00:00\",\"2020-02-22T00:00:00\",\"2020-02-23T00:00:00\",\"2020-02-24T00:00:00\",\"2020-02-25T00:00:00\",\"2020-02-26T00:00:00\",\"2020-02-27T00:00:00\",\"2020-02-28T00:00:00\",\"2020-02-29T00:00:00\",\"2020-03-01T00:00:00\",\"2020-03-02T00:00:00\",\"2020-03-03T00:00:00\",\"2020-03-04T00:00:00\",\"2020-03-05T00:00:00\",\"2020-03-06T00:00:00\",\"2020-03-07T00:00:00\",\"2020-03-08T00:00:00\",\"2020-03-09T00:00:00\",\"2020-03-10T00:00:00\",\"2020-03-11T00:00:00\",\"2020-03-12T00:00:00\",\"2020-03-13T00:00:00\",\"2020-03-14T00:00:00\",\"2020-03-15T00:00:00\",\"2020-03-16T00:00:00\",\"2020-03-17T00:00:00\",\"2020-03-18T00:00:00\",\"2020-03-19T00:00:00\",\"2020-03-20T00:00:00\",\"2020-03-21T00:00:00\",\"2020-03-22T00:00:00\",\"2020-03-23T00:00:00\",\"2020-03-24T00:00:00\",\"2020-03-25T00:00:00\",\"2020-03-26T00:00:00\",\"2020-03-27T00:00:00\",\"2020-03-28T00:00:00\",\"2020-03-29T00:00:00\",\"2020-03-30T00:00:00\",\"2020-03-31T00:00:00\",\"2020-04-01T00:00:00\",\"2020-04-02T00:00:00\",\"2020-04-03T00:00:00\",\"2020-04-04T00:00:00\",\"2020-04-05T00:00:00\",\"2020-04-06T00:00:00\",\"2020-04-07T00:00:00\",\"2020-04-08T00:00:00\",\"2020-04-09T00:00:00\",\"2020-04-10T00:00:00\",\"2020-04-11T00:00:00\",\"2020-04-12T00:00:00\",\"2020-04-13T00:00:00\",\"2020-04-14T00:00:00\",\"2020-04-15T00:00:00\",\"2020-04-16T00:00:00\",\"2020-04-17T00:00:00\",\"2020-04-18T00:00:00\",\"2020-04-19T00:00:00\",\"2020-04-20T00:00:00\",\"2020-04-21T00:00:00\",\"2020-04-22T00:00:00\",\"2020-04-23T00:00:00\",\"2020-04-24T00:00:00\",\"2020-04-25T00:00:00\",\"2020-04-26T00:00:00\",\"2020-04-27T00:00:00\",\"2020-04-28T00:00:00\",\"2020-04-29T00:00:00\",\"2020-04-30T00:00:00\",\"2020-05-01T00:00:00\",\"2020-05-02T00:00:00\",\"2020-05-03T00:00:00\",\"2020-05-04T00:00:00\",\"2020-05-05T00:00:00\",\"2020-05-06T00:00:00\",\"2020-05-07T00:00:00\",\"2020-05-08T00:00:00\",\"2020-05-09T00:00:00\",\"2020-05-10T00:00:00\",\"2020-05-11T00:00:00\",\"2020-05-12T00:00:00\",\"2020-05-13T00:00:00\",\"2020-05-14T00:00:00\",\"2020-05-15T00:00:00\",\"2020-05-16T00:00:00\",\"2020-05-17T00:00:00\",\"2020-05-18T00:00:00\",\"2020-05-19T00:00:00\",\"2020-05-20T00:00:00\",\"2020-05-21T00:00:00\",\"2020-05-22T00:00:00\",\"2020-05-23T00:00:00\",\"2020-05-24T00:00:00\",\"2020-05-25T00:00:00\",\"2020-05-26T00:00:00\",\"2020-05-27T00:00:00\",\"2020-05-28T00:00:00\",\"2020-05-29T00:00:00\",\"2020-05-30T00:00:00\",\"2020-05-31T00:00:00\",\"2020-06-01T00:00:00\",\"2020-06-02T00:00:00\",\"2020-06-03T00:00:00\",\"2020-06-04T00:00:00\",\"2020-06-05T00:00:00\",\"2020-06-06T00:00:00\",\"2020-06-07T00:00:00\",\"2020-06-08T00:00:00\",\"2020-06-09T00:00:00\",\"2020-06-10T00:00:00\",\"2020-06-11T00:00:00\",\"2020-06-12T00:00:00\",\"2020-06-13T00:00:00\",\"2020-06-14T00:00:00\",\"2020-06-15T00:00:00\",\"2020-06-16T00:00:00\",\"2020-06-17T00:00:00\",\"2020-06-18T00:00:00\",\"2020-06-19T00:00:00\",\"2020-06-20T00:00:00\",\"2020-06-21T00:00:00\",\"2020-06-22T00:00:00\",\"2020-06-23T00:00:00\",\"2020-06-24T00:00:00\",\"2020-06-25T00:00:00\",\"2020-06-26T00:00:00\",\"2020-06-27T00:00:00\",\"2020-06-28T00:00:00\",\"2020-06-29T00:00:00\",\"2020-06-30T00:00:00\",\"2020-07-01T00:00:00\",\"2020-07-02T00:00:00\",\"2020-07-03T00:00:00\",\"2020-07-04T00:00:00\",\"2020-07-05T00:00:00\",\"2020-07-06T00:00:00\",\"2020-07-07T00:00:00\",\"2020-07-08T00:00:00\",\"2020-07-09T00:00:00\",\"2020-07-10T00:00:00\",\"2020-07-11T00:00:00\",\"2020-07-12T00:00:00\",\"2020-07-13T00:00:00\",\"2020-07-14T00:00:00\",\"2020-07-15T00:00:00\",\"2020-07-16T00:00:00\",\"2020-07-17T00:00:00\",\"2020-07-18T00:00:00\",\"2020-07-19T00:00:00\",\"2020-07-20T00:00:00\",\"2020-07-21T00:00:00\",\"2020-07-22T00:00:00\",\"2020-07-23T00:00:00\",\"2020-07-24T00:00:00\",\"2020-07-25T00:00:00\",\"2020-07-26T00:00:00\",\"2020-07-27T00:00:00\",\"2020-07-28T00:00:00\",\"2020-07-29T00:00:00\",\"2020-07-30T00:00:00\",\"2020-07-31T00:00:00\",\"2020-08-01T00:00:00\",\"2020-08-02T00:00:00\",\"2020-08-03T00:00:00\",\"2020-08-04T00:00:00\",\"2020-08-05T00:00:00\",\"2020-08-06T00:00:00\",\"2020-08-07T00:00:00\",\"2020-08-08T00:00:00\",\"2020-08-09T00:00:00\",\"2020-08-10T00:00:00\",\"2020-08-11T00:00:00\",\"2020-08-12T00:00:00\",\"2020-08-13T00:00:00\",\"2020-08-14T00:00:00\",\"2020-08-15T00:00:00\",\"2020-08-16T00:00:00\",\"2020-08-17T00:00:00\",\"2020-08-18T00:00:00\",\"2020-08-19T00:00:00\",\"2020-08-20T00:00:00\",\"2020-08-21T00:00:00\",\"2020-08-22T00:00:00\",\"2020-08-23T00:00:00\",\"2020-08-24T00:00:00\",\"2020-08-25T00:00:00\",\"2020-08-26T00:00:00\",\"2020-08-27T00:00:00\",\"2020-08-28T00:00:00\",\"2020-08-29T00:00:00\",\"2020-08-30T00:00:00\",\"2020-08-31T00:00:00\",\"2020-09-01T00:00:00\",\"2020-09-02T00:00:00\",\"2020-09-03T00:00:00\",\"2020-09-04T00:00:00\",\"2020-09-05T00:00:00\",\"2020-09-06T00:00:00\",\"2020-09-07T00:00:00\",\"2020-09-08T00:00:00\",\"2020-09-09T00:00:00\",\"2020-09-10T00:00:00\",\"2020-09-11T00:00:00\",\"2020-09-12T00:00:00\",\"2020-09-13T00:00:00\",\"2020-09-14T00:00:00\",\"2020-09-15T00:00:00\",\"2020-09-16T00:00:00\",\"2020-09-17T00:00:00\",\"2020-09-18T00:00:00\",\"2020-09-19T00:00:00\",\"2020-09-20T00:00:00\",\"2020-09-21T00:00:00\",\"2020-09-22T00:00:00\",\"2020-09-23T00:00:00\",\"2020-09-24T00:00:00\",\"2020-09-25T00:00:00\",\"2020-09-26T00:00:00\",\"2020-09-27T00:00:00\",\"2020-09-28T00:00:00\",\"2020-09-29T00:00:00\",\"2020-09-30T00:00:00\",\"2020-10-01T00:00:00\",\"2020-10-02T00:00:00\",\"2020-10-03T00:00:00\",\"2020-10-04T00:00:00\",\"2020-10-05T00:00:00\",\"2020-10-06T00:00:00\",\"2020-10-07T00:00:00\",\"2020-10-08T00:00:00\",\"2020-10-09T00:00:00\",\"2020-10-10T00:00:00\",\"2020-10-11T00:00:00\",\"2020-10-12T00:00:00\",\"2020-10-13T00:00:00\",\"2020-10-14T00:00:00\",\"2020-10-15T00:00:00\",\"2020-10-16T00:00:00\",\"2020-10-17T00:00:00\",\"2020-10-18T00:00:00\",\"2020-10-19T00:00:00\",\"2020-10-20T00:00:00\",\"2020-10-21T00:00:00\",\"2020-10-22T00:00:00\",\"2020-10-23T00:00:00\",\"2020-10-24T00:00:00\",\"2020-10-25T00:00:00\",\"2020-10-26T00:00:00\",\"2020-10-27T00:00:00\",\"2020-10-28T00:00:00\",\"2020-10-29T00:00:00\",\"2020-10-30T00:00:00\",\"2020-10-31T00:00:00\",\"2020-11-01T00:00:00\",\"2020-11-02T00:00:00\",\"2020-11-03T00:00:00\",\"2020-11-04T00:00:00\",\"2020-11-05T00:00:00\",\"2020-11-06T00:00:00\",\"2020-11-07T00:00:00\",\"2020-11-08T00:00:00\",\"2020-11-09T00:00:00\",\"2020-11-10T00:00:00\",\"2020-11-11T00:00:00\",\"2020-11-12T00:00:00\",\"2020-11-13T00:00:00\",\"2020-11-14T00:00:00\",\"2020-11-15T00:00:00\",\"2020-11-16T00:00:00\",\"2020-11-17T00:00:00\",\"2020-11-18T00:00:00\",\"2020-11-19T00:00:00\",\"2020-11-20T00:00:00\",\"2020-11-21T00:00:00\",\"2020-11-22T00:00:00\",\"2020-11-23T00:00:00\",\"2020-11-24T00:00:00\",\"2020-11-25T00:00:00\",\"2020-11-26T00:00:00\",\"2020-11-27T00:00:00\",\"2020-11-28T00:00:00\",\"2020-11-29T00:00:00\",\"2020-11-30T00:00:00\",\"2020-12-01T00:00:00\",\"2020-12-02T00:00:00\",\"2020-12-03T00:00:00\",\"2020-12-04T00:00:00\",\"2020-12-05T00:00:00\",\"2020-12-06T00:00:00\",\"2020-12-07T00:00:00\",\"2020-12-08T00:00:00\",\"2020-12-09T00:00:00\",\"2020-12-10T00:00:00\",\"2020-12-11T00:00:00\",\"2020-12-12T00:00:00\",\"2020-12-13T00:00:00\",\"2020-12-14T00:00:00\",\"2020-12-15T00:00:00\",\"2020-12-16T00:00:00\",\"2020-12-17T00:00:00\",\"2020-12-18T00:00:00\",\"2020-12-19T00:00:00\",\"2020-12-20T00:00:00\",\"2020-12-21T00:00:00\",\"2020-12-22T00:00:00\",\"2020-12-23T00:00:00\",\"2020-12-24T00:00:00\",\"2020-12-25T00:00:00\",\"2020-12-26T00:00:00\",\"2020-12-27T00:00:00\",\"2020-12-28T00:00:00\",\"2020-12-29T00:00:00\",\"2020-12-30T00:00:00\",\"2020-12-31T00:00:00\"],\"y\":[\"1900-01-01T23:48:00\",\"1900-01-02T01:05:00\",\"1900-01-01T23:20:00\",\"1900-01-01T23:20:00\",\"1900-01-02T00:22:00\",\"1900-01-02T01:15:00\",\"1900-01-01T23:38:00\",\"1900-01-01T23:32:00\",\"1900-01-01T23:01:00\",\"1900-01-01T22:58:00\",\"1900-01-01T22:59:00\",\"1900-01-01T23:09:00\",\"1900-01-01T23:26:00\",\"1900-01-01T23:00:00\",\"1900-01-02T00:17:00\",\"1900-01-02T00:24:00\",\"1900-01-02T00:41:00\",\"1900-01-01T23:18:00\",\"1900-01-01T23:15:00\",\"1900-01-01T23:39:00\",\"1900-01-01T23:10:00\",\"1900-01-01T23:57:00\",\"1900-01-01T23:25:00\",\"1900-01-01T23:35:00\",\"1900-01-01T23:02:00\",\"1900-01-01T22:53:00\",\"1900-01-01T23:42:00\",\"1900-01-01T23:55:00\",\"1900-01-01T23:22:00\",\"1900-01-01T23:27:00\",\"1900-01-01T23:39:00\",\"1900-01-01T23:30:00\",\"1900-01-01T23:02:00\",\"1900-01-01T23:22:00\",\"1900-01-01T22:58:00\",\"1900-01-02T00:24:00\",\"1900-01-01T22:58:00\",\"1900-01-01T22:55:00\",\"1900-01-01T23:31:00\",\"1900-01-01T23:01:00\",\"1900-01-01T23:34:00\",\"1900-01-01T23:06:00\",\"1900-01-01T23:57:00\",\"1900-01-01T22:42:00\",\"1900-01-01T22:43:00\",\"1900-01-01T22:34:00\",\"1900-01-02T00:20:00\",\"1900-01-02T00:00:00\",\"1900-01-01T22:45:00\",\"1900-01-01T23:23:00\",\"1900-01-01T23:18:00\",\"1900-01-01T22:57:00\",\"1900-01-01T23:20:00\",\"1900-01-01T23:05:00\",\"1900-01-01T23:06:00\",\"1900-01-01T23:23:00\",\"1900-01-02T00:22:00\",\"1900-01-01T23:02:00\",\"1900-01-01T22:30:00\",\"1900-01-01T23:10:00\",\"1900-01-01T22:46:00\",\"1900-01-02T00:28:00\",\"1900-01-01T23:30:00\",\"1900-01-01T22:49:00\",\"1900-01-01T23:35:00\",\"1900-01-01T23:08:00\",\"1900-01-01T23:09:00\",\"1900-01-01T22:42:00\",\"1900-01-02T00:08:00\",\"1900-01-01T23:10:00\",\"1900-01-01T23:02:00\",\"1900-01-01T23:52:00\",\"1900-01-01T23:24:00\",\"1900-01-01T22:58:00\",\"1900-01-01T23:12:00\",\"1900-01-01T23:13:00\",\"1900-01-01T23:06:00\",\"1900-01-01T22:55:00\",\"1900-01-01T22:30:00\",\"1900-01-01T22:59:00\",\"1900-01-01T22:58:00\",\"1900-01-01T23:10:00\",\"1900-01-01T23:10:00\",\"1900-01-01T23:30:00\",\"1900-01-01T23:03:00\",\"1900-01-01T22:41:00\",\"1900-01-01T23:00:00\",\"1900-01-01T22:56:00\",\"1900-01-01T23:02:00\",\"1900-01-01T22:46:00\",\"1900-01-01T22:50:00\",\"1900-01-01T23:16:00\",\"1900-01-01T22:55:00\",\"1900-01-01T22:58:00\",\"1900-01-01T22:43:00\",\"1900-01-01T23:14:00\",\"1900-01-01T23:15:00\",\"1900-01-01T23:25:00\",\"1900-01-01T22:15:00\",\"1900-01-01T22:45:00\",\"1900-01-01T22:40:00\",\"1900-01-01T22:50:00\",\"1900-01-01T23:01:00\",\"1900-01-01T22:39:00\",\"1900-01-01T23:04:00\",\"1900-01-01T23:37:00\",\"1900-01-01T23:08:00\",\"1900-01-01T23:02:00\",\"1900-01-01T22:43:00\",\"1900-01-01T22:50:00\",\"1900-01-01T23:50:00\",\"1900-01-01T23:53:00\",\"1900-01-01T23:39:00\",\"1900-01-01T22:56:00\",\"1900-01-01T23:05:00\",\"1900-01-01T23:15:00\",\"1900-01-01T22:45:00\",\"1900-01-01T23:07:00\",\"1900-01-01T22:58:00\",\"1900-01-01T23:26:00\",\"1900-01-01T23:00:00\",\"1900-01-01T23:08:00\",\"1900-01-01T23:00:00\",\"1900-01-01T22:55:00\",\"1900-01-01T23:05:00\",\"1900-01-01T22:56:00\",\"1900-01-01T22:45:00\",\"1900-01-01T22:55:00\",\"1900-01-01T22:25:00\",\"1900-01-01T22:55:00\",\"1900-01-01T23:58:00\",\"1900-01-01T22:39:00\",\"1900-01-01T23:25:00\",\"1900-01-01T23:34:00\",\"1900-01-01T22:35:00\",\"1900-01-01T22:50:00\",\"1900-01-01T22:50:00\",\"1900-01-01T22:46:00\",\"1900-01-02T00:14:00\",\"1900-01-01T22:52:00\",\"1900-01-01T23:13:00\",\"1900-01-01T23:10:00\",\"1900-01-01T22:53:00\",\"1900-01-01T22:44:00\",\"1900-01-01T23:02:00\",\"1900-01-01T23:15:00\",\"1900-01-01T23:10:00\",\"1900-01-01T23:34:00\",\"1900-01-01T22:35:00\",\"1900-01-01T22:33:00\",\"1900-01-01T22:19:00\",\"1900-01-01T22:35:00\",\"1900-01-01T22:08:00\",\"1900-01-01T23:04:00\",\"1900-01-01T22:50:00\",\"1900-01-01T22:27:00\",\"1900-01-01T22:10:00\",\"1900-01-01T23:41:00\",\"1900-01-01T22:18:00\",\"1900-01-01T23:03:00\",\"1900-01-01T22:15:00\",\"1900-01-01T22:20:00\",\"1900-01-01T22:10:00\",\"1900-01-01T22:22:00\",\"1900-01-01T22:18:00\",\"1900-01-01T23:17:00\",\"1900-01-01T22:13:00\",\"1900-01-01T22:20:00\",\"1900-01-01T22:16:00\",\"1900-01-01T22:26:00\",\"1900-01-01T22:27:00\",\"1900-01-01T22:20:00\",\"1900-01-01T23:32:00\",\"1900-01-01T22:17:00\",\"1900-01-01T22:18:00\",\"1900-01-01T23:32:00\",\"1900-01-01T23:24:00\",\"1900-01-01T23:08:00\",\"1900-01-02T00:48:00\",\"1900-01-01T23:12:00\",\"1900-01-01T23:06:00\",\"1900-01-01T23:40:00\",\"1900-01-01T22:27:00\",\"1900-01-01T22:53:00\",\"1900-01-01T22:40:00\",\"1900-01-01T23:15:00\",\"1900-01-01T22:40:00\",\"1900-01-01T22:35:00\",\"1900-01-01T22:54:00\",\"1900-01-01T22:59:00\",\"1900-01-01T23:01:00\",\"1900-01-01T22:46:00\",\"1900-01-01T22:34:00\",\"1900-01-01T23:11:00\",\"1900-01-01T23:16:00\",\"1900-01-01T23:01:00\",\"1900-01-01T22:50:00\",\"1900-01-01T22:36:00\",\"1900-01-01T23:25:00\",\"1900-01-01T23:09:00\",\"1900-01-01T23:48:00\",\"1900-01-01T23:52:00\",\"1900-01-01T23:02:00\",\"1900-01-01T23:09:00\",\"1900-01-01T22:51:00\",\"1900-01-01T23:08:00\",\"1900-01-01T23:06:00\",\"1900-01-01T23:25:00\",\"1900-01-02T00:28:00\",\"1900-01-01T22:44:00\",\"1900-01-01T22:53:00\",\"1900-01-01T22:30:00\",\"1900-01-01T23:07:00\",\"1900-01-01T23:51:00\",\"1900-01-01T23:17:00\",\"1900-01-01T23:20:00\",\"1900-01-01T22:50:00\",\"1900-01-01T22:57:00\",\"1900-01-01T23:16:00\",\"1900-01-01T23:40:00\",\"1900-01-01T23:09:00\",\"1900-01-01T23:28:00\",\"1900-01-01T23:27:00\",\"1900-01-01T23:01:00\",\"1900-01-01T23:25:00\",\"1900-01-01T22:45:00\",\"1900-01-01T23:02:00\",\"1900-01-01T22:42:00\",\"1900-01-01T22:39:00\",\"1900-01-01T23:15:00\",\"1900-01-01T23:31:00\",\"1900-01-01T22:55:00\",\"1900-01-01T23:14:00\",\"1900-01-01T23:15:00\",\"1900-01-01T23:02:00\",\"1900-01-01T23:05:00\",\"1900-01-01T23:01:00\",\"1900-01-01T23:09:00\",\"1900-01-01T23:06:00\",\"1900-01-01T22:59:00\",\"1900-01-01T23:02:00\",\"1900-01-01T22:51:00\",\"1900-01-01T22:53:00\",\"1900-01-01T22:50:00\",\"1900-01-01T22:44:00\",\"1900-01-01T22:49:00\",\"1900-01-01T22:42:00\",\"1900-01-01T22:40:00\",\"1900-01-01T22:30:00\",\"1900-01-01T22:32:00\",\"1900-01-01T22:36:00\",\"1900-01-01T22:35:00\",\"1900-01-01T22:37:00\",\"1900-01-01T22:33:00\",\"1900-01-01T22:28:00\",\"1900-01-01T22:47:00\",\"1900-01-01T22:41:00\",\"1900-01-01T22:54:00\",\"1900-01-01T22:51:00\",\"1900-01-01T22:38:00\",\"1900-01-02T00:07:00\",\"1900-01-01T21:45:00\",\"1900-01-01T23:34:00\",\"1900-01-01T22:41:00\",\"1900-01-01T22:45:00\",\"1900-01-01T23:07:00\",\"1900-01-01T22:35:00\",\"1900-01-01T22:45:00\",\"1900-01-01T23:17:00\",\"1900-01-01T22:45:00\",\"1900-01-01T22:58:00\",\"1900-01-01T22:56:00\",\"1900-01-01T22:53:00\",\"1900-01-01T22:50:00\",\"1900-01-01T22:45:00\",\"1900-01-01T22:43:00\",\"1900-01-01T22:38:00\",\"1900-01-02T01:03:00\",\"1900-01-01T22:45:00\",\"1900-01-01T22:36:00\",\"1900-01-01T22:49:00\",\"1900-01-01T22:38:00\",\"1900-01-01T22:42:00\",\"1900-01-01T23:59:00\",\"1900-01-01T22:40:00\",\"1900-01-01T22:46:00\",\"1900-01-01T22:36:00\",\"1900-01-01T22:31:00\",\"1900-01-01T22:39:00\",\"1900-01-01T22:35:00\",\"1900-01-01T22:26:00\",\"1900-01-01T22:30:00\",\"1900-01-01T22:37:00\",\"1900-01-01T22:42:00\",\"1900-01-01T22:36:00\",\"1900-01-01T22:43:00\",\"1900-01-01T22:39:00\",\"1900-01-01T22:35:00\",\"1900-01-01T22:37:00\",\"1900-01-01T22:32:00\",\"1900-01-01T22:21:00\",\"1900-01-01T22:33:00\",\"1900-01-01T22:30:00\",\"1900-01-01T22:45:00\",\"1900-01-01T22:39:00\",\"1900-01-01T22:47:00\",\"1900-01-01T22:22:00\",\"1900-01-01T22:45:00\",\"1900-01-01T22:43:00\",\"1900-01-01T22:37:00\",\"1900-01-01T22:41:00\",\"1900-01-01T22:27:00\",\"1900-01-01T22:28:00\",\"1900-01-01T22:42:00\",\"1900-01-01T22:27:00\",\"1900-01-01T22:35:00\",\"1900-01-01T22:38:00\",\"1900-01-01T22:38:00\",\"1900-01-01T22:36:00\",\"1900-01-01T22:33:00\",\"1900-01-01T22:39:00\",\"1900-01-01T22:42:00\",\"1900-01-01T22:38:00\",\"1900-01-01T22:36:00\",\"1900-01-01T22:37:00\",\"1900-01-01T22:43:00\",\"1900-01-01T22:42:00\",\"1900-01-01T22:34:00\",\"1900-01-01T22:13:00\",\"1900-01-01T22:39:00\",\"1900-01-01T22:40:00\",\"1900-01-01T22:39:00\",\"1900-01-01T22:30:00\",\"1900-01-01T22:38:00\",\"1900-01-01T22:31:00\",\"1900-01-01T22:40:00\",\"1900-01-01T22:38:00\",\"1900-01-01T22:40:00\",\"1900-01-01T22:38:00\",\"1900-01-01T22:41:00\",\"1900-01-01T22:36:00\",\"1900-01-01T22:45:00\",\"1900-01-01T22:31:00\",\"1900-01-01T22:44:00\",\"1900-01-01T22:42:00\",\"1900-01-01T22:41:00\",\"1900-01-01T22:41:00\",\"1900-01-01T22:43:00\",\"1900-01-01T22:42:00\",\"1900-01-01T22:44:00\",\"1900-01-01T22:40:00\",\"1900-01-01T22:40:00\",\"1900-01-01T22:37:00\",\"1900-01-01T22:40:00\",\"1900-01-01T22:33:00\",\"1900-01-01T22:35:00\",\"1900-01-01T22:39:00\",\"1900-01-01T22:40:00\",\"1900-01-01T22:36:00\",\"1900-01-01T22:45:00\",\"1900-01-01T22:28:00\",\"1900-01-01T22:39:00\",\"1900-01-01T22:45:00\",\"1900-01-01T22:33:00\",\"1900-01-01T22:36:00\",\"1900-01-01T22:40:00\",\"1900-01-01T22:41:00\"]},{\"name\":\"Ora a cui si \\u00e8 spenta la luce\",\"type\":\"scatter\",\"x\":[\"2019-12-31T00:00:00\",\"2020-01-01T00:00:00\",\"2020-01-02T00:00:00\",\"2020-01-03T00:00:00\",\"2020-01-04T00:00:00\",\"2020-01-05T00:00:00\",\"2020-01-06T00:00:00\",\"2020-01-07T00:00:00\",\"2020-01-08T00:00:00\",\"2020-01-09T00:00:00\",\"2020-01-10T00:00:00\",\"2020-01-11T00:00:00\",\"2020-01-12T00:00:00\",\"2020-01-13T00:00:00\",\"2020-01-14T00:00:00\",\"2020-01-15T00:00:00\",\"2020-01-16T00:00:00\",\"2020-01-17T00:00:00\",\"2020-01-18T00:00:00\",\"2020-01-19T00:00:00\",\"2020-01-20T00:00:00\",\"2020-01-21T00:00:00\",\"2020-01-22T00:00:00\",\"2020-01-23T00:00:00\",\"2020-01-24T00:00:00\",\"2020-01-25T00:00:00\",\"2020-01-26T00:00:00\",\"2020-01-27T00:00:00\",\"2020-01-28T00:00:00\",\"2020-01-29T00:00:00\",\"2020-01-30T00:00:00\",\"2020-01-31T00:00:00\",\"2020-02-01T00:00:00\",\"2020-02-02T00:00:00\",\"2020-02-03T00:00:00\",\"2020-02-04T00:00:00\",\"2020-02-05T00:00:00\",\"2020-02-06T00:00:00\",\"2020-02-07T00:00:00\",\"2020-02-08T00:00:00\",\"2020-02-09T00:00:00\",\"2020-02-10T00:00:00\",\"2020-02-11T00:00:00\",\"2020-02-12T00:00:00\",\"2020-02-13T00:00:00\",\"2020-02-14T00:00:00\",\"2020-02-15T00:00:00\",\"2020-02-16T00:00:00\",\"2020-02-17T00:00:00\",\"2020-02-18T00:00:00\",\"2020-02-19T00:00:00\",\"2020-02-20T00:00:00\",\"2020-02-21T00:00:00\",\"2020-02-22T00:00:00\",\"2020-02-23T00:00:00\",\"2020-02-24T00:00:00\",\"2020-02-25T00:00:00\",\"2020-02-26T00:00:00\",\"2020-02-27T00:00:00\",\"2020-02-28T00:00:00\",\"2020-02-29T00:00:00\",\"2020-03-01T00:00:00\",\"2020-03-02T00:00:00\",\"2020-03-03T00:00:00\",\"2020-03-04T00:00:00\",\"2020-03-05T00:00:00\",\"2020-03-06T00:00:00\",\"2020-03-07T00:00:00\",\"2020-03-08T00:00:00\",\"2020-03-09T00:00:00\",\"2020-03-10T00:00:00\",\"2020-03-11T00:00:00\",\"2020-03-12T00:00:00\",\"2020-03-13T00:00:00\",\"2020-03-14T00:00:00\",\"2020-03-15T00:00:00\",\"2020-03-16T00:00:00\",\"2020-03-17T00:00:00\",\"2020-03-18T00:00:00\",\"2020-03-19T00:00:00\",\"2020-03-20T00:00:00\",\"2020-03-21T00:00:00\",\"2020-03-22T00:00:00\",\"2020-03-23T00:00:00\",\"2020-03-24T00:00:00\",\"2020-03-25T00:00:00\",\"2020-03-26T00:00:00\",\"2020-03-27T00:00:00\",\"2020-03-28T00:00:00\",\"2020-03-29T00:00:00\",\"2020-03-30T00:00:00\",\"2020-03-31T00:00:00\",\"2020-04-01T00:00:00\",\"2020-04-02T00:00:00\",\"2020-04-03T00:00:00\",\"2020-04-04T00:00:00\",\"2020-04-05T00:00:00\",\"2020-04-06T00:00:00\",\"2020-04-07T00:00:00\",\"2020-04-08T00:00:00\",\"2020-04-09T00:00:00\",\"2020-04-10T00:00:00\",\"2020-04-11T00:00:00\",\"2020-04-12T00:00:00\",\"2020-04-13T00:00:00\",\"2020-04-14T00:00:00\",\"2020-04-15T00:00:00\",\"2020-04-16T00:00:00\",\"2020-04-17T00:00:00\",\"2020-04-18T00:00:00\",\"2020-04-19T00:00:00\",\"2020-04-20T00:00:00\",\"2020-04-21T00:00:00\",\"2020-04-22T00:00:00\",\"2020-04-23T00:00:00\",\"2020-04-24T00:00:00\",\"2020-04-25T00:00:00\",\"2020-04-26T00:00:00\",\"2020-04-27T00:00:00\",\"2020-04-28T00:00:00\",\"2020-04-29T00:00:00\",\"2020-04-30T00:00:00\",\"2020-05-01T00:00:00\",\"2020-05-02T00:00:00\",\"2020-05-03T00:00:00\",\"2020-05-04T00:00:00\",\"2020-05-05T00:00:00\",\"2020-05-06T00:00:00\",\"2020-05-07T00:00:00\",\"2020-05-08T00:00:00\",\"2020-05-09T00:00:00\",\"2020-05-10T00:00:00\",\"2020-05-11T00:00:00\",\"2020-05-12T00:00:00\",\"2020-05-13T00:00:00\",\"2020-05-14T00:00:00\",\"2020-05-15T00:00:00\",\"2020-05-16T00:00:00\",\"2020-05-17T00:00:00\",\"2020-05-18T00:00:00\",\"2020-05-19T00:00:00\",\"2020-05-20T00:00:00\",\"2020-05-21T00:00:00\",\"2020-05-22T00:00:00\",\"2020-05-23T00:00:00\",\"2020-05-24T00:00:00\",\"2020-05-25T00:00:00\",\"2020-05-26T00:00:00\",\"2020-05-27T00:00:00\",\"2020-05-28T00:00:00\",\"2020-05-29T00:00:00\",\"2020-05-30T00:00:00\",\"2020-05-31T00:00:00\",\"2020-06-01T00:00:00\",\"2020-06-02T00:00:00\",\"2020-06-03T00:00:00\",\"2020-06-04T00:00:00\",\"2020-06-05T00:00:00\",\"2020-06-06T00:00:00\",\"2020-06-07T00:00:00\",\"2020-06-08T00:00:00\",\"2020-06-09T00:00:00\",\"2020-06-10T00:00:00\",\"2020-06-11T00:00:00\",\"2020-06-12T00:00:00\",\"2020-06-13T00:00:00\",\"2020-06-14T00:00:00\",\"2020-06-15T00:00:00\",\"2020-06-16T00:00:00\",\"2020-06-17T00:00:00\",\"2020-06-18T00:00:00\",\"2020-06-19T00:00:00\",\"2020-06-20T00:00:00\",\"2020-06-21T00:00:00\",\"2020-06-22T00:00:00\",\"2020-06-23T00:00:00\",\"2020-06-24T00:00:00\",\"2020-06-25T00:00:00\",\"2020-06-26T00:00:00\",\"2020-06-27T00:00:00\",\"2020-06-28T00:00:00\",\"2020-06-29T00:00:00\",\"2020-06-30T00:00:00\",\"2020-07-01T00:00:00\",\"2020-07-02T00:00:00\",\"2020-07-03T00:00:00\",\"2020-07-04T00:00:00\",\"2020-07-05T00:00:00\",\"2020-07-06T00:00:00\",\"2020-07-07T00:00:00\",\"2020-07-08T00:00:00\",\"2020-07-09T00:00:00\",\"2020-07-10T00:00:00\",\"2020-07-11T00:00:00\",\"2020-07-12T00:00:00\",\"2020-07-13T00:00:00\",\"2020-07-14T00:00:00\",\"2020-07-15T00:00:00\",\"2020-07-16T00:00:00\",\"2020-07-17T00:00:00\",\"2020-07-18T00:00:00\",\"2020-07-19T00:00:00\",\"2020-07-20T00:00:00\",\"2020-07-21T00:00:00\",\"2020-07-22T00:00:00\",\"2020-07-23T00:00:00\",\"2020-07-24T00:00:00\",\"2020-07-25T00:00:00\",\"2020-07-26T00:00:00\",\"2020-07-27T00:00:00\",\"2020-07-28T00:00:00\",\"2020-07-29T00:00:00\",\"2020-07-30T00:00:00\",\"2020-07-31T00:00:00\",\"2020-08-01T00:00:00\",\"2020-08-02T00:00:00\",\"2020-08-03T00:00:00\",\"2020-08-04T00:00:00\",\"2020-08-05T00:00:00\",\"2020-08-06T00:00:00\",\"2020-08-07T00:00:00\",\"2020-08-08T00:00:00\",\"2020-08-09T00:00:00\",\"2020-08-10T00:00:00\",\"2020-08-11T00:00:00\",\"2020-08-12T00:00:00\",\"2020-08-13T00:00:00\",\"2020-08-14T00:00:00\",\"2020-08-15T00:00:00\",\"2020-08-16T00:00:00\",\"2020-08-17T00:00:00\",\"2020-08-18T00:00:00\",\"2020-08-19T00:00:00\",\"2020-08-20T00:00:00\",\"2020-08-21T00:00:00\",\"2020-08-22T00:00:00\",\"2020-08-23T00:00:00\",\"2020-08-24T00:00:00\",\"2020-08-25T00:00:00\",\"2020-08-26T00:00:00\",\"2020-08-27T00:00:00\",\"2020-08-28T00:00:00\",\"2020-08-29T00:00:00\",\"2020-08-30T00:00:00\",\"2020-08-31T00:00:00\",\"2020-09-01T00:00:00\",\"2020-09-02T00:00:00\",\"2020-09-03T00:00:00\",\"2020-09-04T00:00:00\",\"2020-09-05T00:00:00\",\"2020-09-06T00:00:00\",\"2020-09-07T00:00:00\",\"2020-09-08T00:00:00\",\"2020-09-09T00:00:00\",\"2020-09-10T00:00:00\",\"2020-09-11T00:00:00\",\"2020-09-12T00:00:00\",\"2020-09-13T00:00:00\",\"2020-09-14T00:00:00\",\"2020-09-15T00:00:00\",\"2020-09-16T00:00:00\",\"2020-09-17T00:00:00\",\"2020-09-18T00:00:00\",\"2020-09-19T00:00:00\",\"2020-09-20T00:00:00\",\"2020-09-21T00:00:00\",\"2020-09-22T00:00:00\",\"2020-09-23T00:00:00\",\"2020-09-24T00:00:00\",\"2020-09-25T00:00:00\",\"2020-09-26T00:00:00\",\"2020-09-27T00:00:00\",\"2020-09-28T00:00:00\",\"2020-09-29T00:00:00\",\"2020-09-30T00:00:00\",\"2020-10-01T00:00:00\",\"2020-10-02T00:00:00\",\"2020-10-03T00:00:00\",\"2020-10-04T00:00:00\",\"2020-10-05T00:00:00\",\"2020-10-06T00:00:00\",\"2020-10-07T00:00:00\",\"2020-10-08T00:00:00\",\"2020-10-09T00:00:00\",\"2020-10-10T00:00:00\",\"2020-10-11T00:00:00\",\"2020-10-12T00:00:00\",\"2020-10-13T00:00:00\",\"2020-10-14T00:00:00\",\"2020-10-15T00:00:00\",\"2020-10-16T00:00:00\",\"2020-10-17T00:00:00\",\"2020-10-18T00:00:00\",\"2020-10-19T00:00:00\",\"2020-10-20T00:00:00\",\"2020-10-21T00:00:00\",\"2020-10-22T00:00:00\",\"2020-10-23T00:00:00\",\"2020-10-24T00:00:00\",\"2020-10-25T00:00:00\",\"2020-10-26T00:00:00\",\"2020-10-27T00:00:00\",\"2020-10-28T00:00:00\",\"2020-10-29T00:00:00\",\"2020-10-30T00:00:00\",\"2020-10-31T00:00:00\",\"2020-11-01T00:00:00\",\"2020-11-02T00:00:00\",\"2020-11-03T00:00:00\",\"2020-11-04T00:00:00\",\"2020-11-05T00:00:00\",\"2020-11-06T00:00:00\",\"2020-11-07T00:00:00\",\"2020-11-08T00:00:00\",\"2020-11-09T00:00:00\",\"2020-11-10T00:00:00\",\"2020-11-11T00:00:00\",\"2020-11-12T00:00:00\",\"2020-11-13T00:00:00\",\"2020-11-14T00:00:00\",\"2020-11-15T00:00:00\",\"2020-11-16T00:00:00\",\"2020-11-17T00:00:00\",\"2020-11-18T00:00:00\",\"2020-11-19T00:00:00\",\"2020-11-20T00:00:00\",\"2020-11-21T00:00:00\",\"2020-11-22T00:00:00\",\"2020-11-23T00:00:00\",\"2020-11-24T00:00:00\",\"2020-11-25T00:00:00\",\"2020-11-26T00:00:00\",\"2020-11-27T00:00:00\",\"2020-11-28T00:00:00\",\"2020-11-29T00:00:00\",\"2020-11-30T00:00:00\",\"2020-12-01T00:00:00\",\"2020-12-02T00:00:00\",\"2020-12-03T00:00:00\",\"2020-12-04T00:00:00\",\"2020-12-05T00:00:00\",\"2020-12-06T00:00:00\",\"2020-12-07T00:00:00\",\"2020-12-08T00:00:00\",\"2020-12-09T00:00:00\",\"2020-12-10T00:00:00\",\"2020-12-11T00:00:00\",\"2020-12-12T00:00:00\",\"2020-12-13T00:00:00\",\"2020-12-14T00:00:00\",\"2020-12-15T00:00:00\",\"2020-12-16T00:00:00\",\"2020-12-17T00:00:00\",\"2020-12-18T00:00:00\",\"2020-12-19T00:00:00\",\"2020-12-20T00:00:00\",\"2020-12-21T00:00:00\",\"2020-12-22T00:00:00\",\"2020-12-23T00:00:00\",\"2020-12-24T00:00:00\",\"2020-12-25T00:00:00\",\"2020-12-26T00:00:00\",\"2020-12-27T00:00:00\",\"2020-12-28T00:00:00\",\"2020-12-29T00:00:00\",\"2020-12-30T00:00:00\",\"2020-12-31T00:00:00\"],\"y\":[\"1900-01-01T23:50:00\",\"1900-01-02T01:08:00\",\"1900-01-01T23:36:00\",\"1900-01-01T23:54:00\",\"1900-01-02T00:49:00\",\"1900-01-02T01:19:00\",\"1900-01-01T23:51:00\",\"1900-01-02T00:01:00\",\"1900-01-01T23:39:00\",\"1900-01-01T23:28:00\",\"1900-01-01T23:30:00\",\"1900-01-01T23:55:00\",\"1900-01-02T00:19:00\",\"1900-01-01T23:22:00\",\"1900-01-02T00:24:00\",\"1900-01-02T00:45:00\",\"1900-01-02T00:55:00\",\"1900-01-02T00:05:00\",\"1900-01-01T23:22:00\",\"1900-01-02T00:16:00\",\"1900-01-01T23:48:00\",\"1900-01-02T00:03:00\",\"1900-01-02T00:05:00\",\"1900-01-01T23:56:00\",\"1900-01-01T23:11:00\",\"1900-01-01T23:20:00\",\"1900-01-01T23:57:00\",\"1900-01-02T00:13:00\",\"1900-01-01T23:40:00\",\"1900-01-01T23:54:00\",\"1900-01-01T23:48:00\",\"1900-01-01T23:39:00\",\"1900-01-01T23:51:00\",\"1900-01-02T00:37:00\",\"1900-01-01T23:49:00\",\"1900-01-02T00:31:00\",\"1900-01-01T23:16:00\",\"1900-01-01T23:29:00\",\"1900-01-01T23:35:00\",\"1900-01-01T23:21:00\",\"1900-01-01T23:52:00\",\"1900-01-01T23:23:00\",\"1900-01-02T00:04:00\",\"1900-01-01T23:07:00\",\"1900-01-01T23:12:00\",\"1900-01-01T23:13:00\",\"1900-01-02T00:55:00\",\"1900-01-02T00:41:00\",\"1900-01-01T23:40:00\",\"1900-01-01T23:27:00\",\"1900-01-01T23:37:00\",\"1900-01-01T23:24:00\",\"1900-01-01T23:41:00\",\"1900-01-01T23:28:00\",\"1900-01-01T23:34:00\",\"1900-01-01T23:44:00\",\"1900-01-02T00:43:00\",\"1900-01-01T23:22:00\",\"1900-01-01T22:47:00\",\"1900-01-01T23:38:00\",\"1900-01-01T23:38:00\",\"1900-01-02T00:45:00\",\"1900-01-02T00:06:00\",\"1900-01-01T23:24:00\",\"1900-01-02T00:00:00\",\"1900-01-01T23:28:00\",\"1900-01-01T23:50:00\",\"1900-01-01T23:15:00\",\"1900-01-02T00:22:00\",\"1900-01-01T23:34:00\",\"1900-01-01T23:38:00\",\"1900-01-02T00:13:00\",\"1900-01-01T23:25:00\",\"1900-01-01T23:38:00\",\"1900-01-01T23:35:00\",\"1900-01-02T00:00:00\",\"1900-01-01T23:32:00\",\"1900-01-01T23:56:00\",\"1900-01-01T22:55:00\",\"1900-01-01T23:59:00\",\"1900-01-01T23:25:00\",\"1900-01-01T23:55:00\",\"1900-01-02T00:05:00\",\"1900-01-01T23:58:00\",\"1900-01-01T23:53:00\",\"1900-01-01T23:44:00\",\"1900-01-01T23:50:00\",\"1900-01-01T23:35:00\",\"1900-01-02T00:05:00\",\"1900-01-01T23:03:00\",\"1900-01-01T23:55:00\",\"1900-01-01T23:49:00\",\"1900-01-02T00:03:00\",\"1900-01-01T23:58:00\",\"1900-01-01T23:57:00\",\"1900-01-01T23:51:00\",\"1900-01-02T00:07:00\",\"1900-01-01T23:29:00\",\"1900-01-01T23:47:00\",\"1900-01-01T23:09:00\",\"1900-01-01T23:33:00\",\"1900-01-01T23:38:00\",\"1900-01-01T23:53:00\",\"1900-01-01T23:51:00\",\"1900-01-01T23:56:00\",\"1900-01-01T23:56:00\",\"1900-01-01T23:43:00\",\"1900-01-02T00:00:00\",\"1900-01-01T23:49:00\",\"1900-01-01T23:34:00\",\"1900-01-02T00:25:00\",\"1900-01-02T00:51:00\",\"1900-01-02T00:40:00\",\"1900-01-01T23:56:00\",\"1900-01-02T00:04:00\",\"1900-01-01T23:45:00\",\"1900-01-01T23:43:00\",\"1900-01-01T23:56:00\",\"1900-01-02T00:00:00\",\"1900-01-02T00:05:00\",\"1900-01-01T23:56:00\",\"1900-01-01T23:29:00\",\"1900-01-01T23:29:00\",\"1900-01-01T23:32:00\",\"1900-01-01T23:52:00\",\"1900-01-01T23:53:00\",\"1900-01-01T23:29:00\",\"1900-01-01T23:38:00\",\"1900-01-01T23:28:00\",\"1900-01-01T23:46:00\",\"1900-01-02T00:21:00\",\"1900-01-01T23:31:00\",\"1900-01-01T23:41:00\",\"1900-01-01T23:33:00\",\"1900-01-01T23:18:00\",\"1900-01-01T23:34:00\",\"1900-01-02T00:02:00\",\"1900-01-01T23:29:00\",\"1900-01-02T00:22:00\",\"1900-01-01T23:24:00\",\"1900-01-01T23:29:00\",\"1900-01-01T23:27:00\",\"1900-01-01T23:24:00\",\"1900-01-01T23:22:00\",\"1900-01-01T23:50:00\",\"1900-01-02T00:07:00\",\"1900-01-01T23:18:00\",\"1900-01-01T23:48:00\",\"1900-01-01T22:59:00\",\"1900-01-01T23:07:00\",\"1900-01-01T22:31:00\",\"1900-01-01T23:04:00\",\"1900-01-01T23:03:00\",\"1900-01-01T23:24:00\",\"1900-01-01T23:32:00\",\"1900-01-01T23:06:00\",\"1900-01-01T23:13:00\",\"1900-01-01T23:47:00\",\"1900-01-01T23:05:00\",\"1900-01-01T23:05:00\",\"1900-01-01T22:47:00\",\"1900-01-01T23:02:00\",\"1900-01-01T23:20:00\",\"1900-01-01T23:10:00\",\"1900-01-01T23:15:00\",\"1900-01-01T23:34:00\",\"1900-01-01T23:22:00\",\"1900-01-01T23:08:00\",\"1900-01-01T22:57:00\",\"1900-01-01T23:17:00\",\"1900-01-01T23:10:00\",\"1900-01-01T23:13:00\",\"1900-01-01T23:43:00\",\"1900-01-01T23:27:00\",\"1900-01-01T23:13:00\",\"1900-01-01T23:33:00\",\"1900-01-01T23:25:00\",\"1900-01-01T23:15:00\",\"1900-01-02T00:49:00\",\"1900-01-01T23:13:00\",\"1900-01-01T23:10:00\",\"1900-01-01T23:52:00\",\"1900-01-01T22:53:00\",\"1900-01-01T22:59:00\",\"1900-01-01T22:40:00\",\"1900-01-01T23:16:00\",\"1900-01-01T22:41:00\",\"1900-01-01T22:51:00\",\"1900-01-01T22:56:00\",\"1900-01-01T23:00:00\",\"1900-01-01T23:04:00\",\"1900-01-01T22:47:00\",\"1900-01-01T22:37:00\",\"1900-01-01T23:15:00\",\"1900-01-01T23:31:00\",\"1900-01-01T23:03:00\",\"1900-01-01T23:03:00\",\"1900-01-01T22:39:00\",\"1900-01-01T23:30:00\",\"1900-01-01T23:10:00\",\"1900-01-01T23:50:00\",\"1900-01-01T23:54:00\",\"1900-01-01T23:04:00\",\"1900-01-01T23:47:00\",\"1900-01-01T22:52:00\",\"1900-01-01T23:14:00\",\"1900-01-01T23:11:00\",\"1900-01-01T23:53:00\",\"1900-01-02T00:48:00\",\"1900-01-01T22:46:00\",\"1900-01-01T22:55:00\",\"1900-01-01T22:45:00\",\"1900-01-01T23:08:00\",\"1900-01-01T23:53:00\",\"1900-01-01T23:18:00\",\"1900-01-01T23:35:00\",\"1900-01-01T23:10:00\",\"1900-01-01T22:58:00\",\"1900-01-01T23:21:00\",\"1900-01-02T00:05:00\",\"1900-01-01T23:12:00\",\"1900-01-01T23:30:00\",\"1900-01-01T23:29:00\",\"1900-01-01T23:02:00\",\"1900-01-01T23:40:00\",\"1900-01-01T22:48:00\",\"1900-01-01T23:04:00\",\"1900-01-01T22:43:00\",\"1900-01-01T22:51:00\",\"1900-01-01T23:20:00\",\"1900-01-01T23:33:00\",\"1900-01-01T23:02:00\",\"1900-01-01T23:16:00\",\"1900-01-01T23:23:00\",\"1900-01-01T23:04:00\",\"1900-01-01T23:24:00\",\"1900-01-01T23:06:00\",\"1900-01-01T23:10:00\",\"1900-01-01T23:07:00\",\"1900-01-01T23:00:00\",\"1900-01-01T23:04:00\",\"1900-01-01T22:53:00\",\"1900-01-01T22:55:00\",\"1900-01-01T22:56:00\",\"1900-01-01T22:46:00\",\"1900-01-01T22:51:00\",\"1900-01-01T22:43:00\",\"1900-01-01T22:44:00\",\"1900-01-01T22:44:00\",\"1900-01-01T22:34:00\",\"1900-01-01T22:37:00\",\"1900-01-01T22:37:00\",\"1900-01-01T22:40:00\",\"1900-01-01T22:36:00\",\"1900-01-01T22:47:00\",\"1900-01-01T22:56:00\",\"1900-01-01T22:44:00\",\"1900-01-01T22:55:00\",\"1900-01-01T22:56:00\",\"1900-01-01T22:44:00\",\"1900-01-02T00:10:00\",\"1900-01-01T21:52:00\",\"1900-01-01T23:36:00\",\"1900-01-01T22:45:00\",\"1900-01-01T22:52:00\",\"1900-01-01T23:08:00\",\"1900-01-01T22:57:00\",\"1900-01-01T22:47:00\",\"1900-01-01T23:18:00\",\"1900-01-01T22:56:00\",\"1900-01-01T23:03:00\",\"1900-01-01T23:07:00\",\"1900-01-01T22:57:00\",\"1900-01-01T22:53:00\",\"1900-01-01T22:49:00\",\"1900-01-01T22:47:00\",\"1900-01-01T22:40:00\",\"1900-01-02T01:13:00\",\"1900-01-01T22:48:00\",\"1900-01-01T22:50:00\",\"1900-01-01T23:06:00\",\"1900-01-01T22:59:00\",\"1900-01-01T22:53:00\",\"1900-01-02T00:06:00\",\"1900-01-01T22:43:00\",\"1900-01-01T22:48:00\",\"1900-01-01T22:48:00\",\"1900-01-01T22:49:00\",\"1900-01-01T22:46:00\",\"1900-01-01T22:51:00\",\"1900-01-01T22:50:00\",\"1900-01-01T22:51:00\",\"1900-01-01T22:43:00\",\"1900-01-01T22:53:00\",\"1900-01-01T22:47:00\",\"1900-01-01T22:53:00\",\"1900-01-01T22:46:00\",\"1900-01-01T22:48:00\",\"1900-01-01T22:52:00\",\"1900-01-01T22:47:00\",\"1900-01-01T22:28:00\",\"1900-01-01T22:44:00\",\"1900-01-01T22:38:00\",\"1900-01-01T22:46:00\",\"1900-01-01T22:42:00\",\"1900-01-01T22:49:00\",\"1900-01-01T22:44:00\",\"1900-01-01T22:49:00\",\"1900-01-01T22:44:00\",\"1900-01-01T22:41:00\",\"1900-01-01T22:42:00\",\"1900-01-01T22:45:00\",\"1900-01-01T22:39:00\",\"1900-01-01T22:43:00\",\"1900-01-01T22:41:00\",\"1900-01-01T22:41:00\",\"1900-01-01T22:40:00\",\"1900-01-01T22:40:00\",\"1900-01-01T22:39:00\",\"1900-01-01T22:38:00\",\"1900-01-01T22:41:00\",\"1900-01-01T22:45:00\",\"1900-01-01T22:40:00\",\"1900-01-01T22:40:00\",\"1900-01-01T22:39:00\",\"1900-01-01T22:46:00\",\"1900-01-01T22:44:00\",\"1900-01-01T22:36:00\",\"1900-01-01T22:40:00\",\"1900-01-01T22:45:00\",\"1900-01-01T22:43:00\",\"1900-01-01T22:41:00\",\"1900-01-01T22:44:00\",\"1900-01-01T22:46:00\",\"1900-01-01T22:43:00\",\"1900-01-01T22:45:00\",\"1900-01-01T22:41:00\",\"1900-01-01T22:43:00\",\"1900-01-01T22:41:00\",\"1900-01-01T22:45:00\",\"1900-01-01T22:39:00\",\"1900-01-01T22:46:00\",\"1900-01-01T22:41:00\",\"1900-01-01T22:45:00\",\"1900-01-01T22:45:00\",\"1900-01-01T22:43:00\",\"1900-01-01T22:44:00\",\"1900-01-01T22:44:00\",\"1900-01-01T22:44:00\",\"1900-01-01T22:45:00\",\"1900-01-01T22:43:00\",\"1900-01-01T22:43:00\",\"1900-01-01T22:42:00\",\"1900-01-01T22:41:00\",\"1900-01-01T22:37:00\",\"1900-01-01T22:38:00\",\"1900-01-01T22:42:00\",\"1900-01-01T22:41:00\",\"1900-01-01T22:38:00\",\"1900-01-01T22:48:00\",\"1900-01-01T22:42:00\",\"1900-01-01T22:41:00\",\"1900-01-01T22:46:00\",\"1900-01-01T22:37:00\",\"1900-01-01T22:38:00\",\"1900-01-01T22:42:00\",\"1900-01-01T22:52:00\"]},{\"name\":\"Ora a cui ci si \\u00e8 addormentati\",\"type\":\"scatter\",\"x\":[\"2019-12-31T00:00:00\",\"2020-01-01T00:00:00\",\"2020-01-02T00:00:00\",\"2020-01-03T00:00:00\",\"2020-01-04T00:00:00\",\"2020-01-05T00:00:00\",\"2020-01-06T00:00:00\",\"2020-01-07T00:00:00\",\"2020-01-08T00:00:00\",\"2020-01-09T00:00:00\",\"2020-01-10T00:00:00\",\"2020-01-11T00:00:00\",\"2020-01-12T00:00:00\",\"2020-01-13T00:00:00\",\"2020-01-14T00:00:00\",\"2020-01-15T00:00:00\",\"2020-01-16T00:00:00\",\"2020-01-17T00:00:00\",\"2020-01-18T00:00:00\",\"2020-01-19T00:00:00\",\"2020-01-20T00:00:00\",\"2020-01-21T00:00:00\",\"2020-01-22T00:00:00\",\"2020-01-23T00:00:00\",\"2020-01-24T00:00:00\",\"2020-01-25T00:00:00\",\"2020-01-26T00:00:00\",\"2020-01-27T00:00:00\",\"2020-01-28T00:00:00\",\"2020-01-29T00:00:00\",\"2020-01-30T00:00:00\",\"2020-01-31T00:00:00\",\"2020-02-01T00:00:00\",\"2020-02-02T00:00:00\",\"2020-02-03T00:00:00\",\"2020-02-04T00:00:00\",\"2020-02-05T00:00:00\",\"2020-02-06T00:00:00\",\"2020-02-07T00:00:00\",\"2020-02-08T00:00:00\",\"2020-02-09T00:00:00\",\"2020-02-10T00:00:00\",\"2020-02-11T00:00:00\",\"2020-02-12T00:00:00\",\"2020-02-13T00:00:00\",\"2020-02-14T00:00:00\",\"2020-02-15T00:00:00\",\"2020-02-16T00:00:00\",\"2020-02-17T00:00:00\",\"2020-02-18T00:00:00\",\"2020-02-19T00:00:00\",\"2020-02-20T00:00:00\",\"2020-02-21T00:00:00\",\"2020-02-22T00:00:00\",\"2020-02-23T00:00:00\",\"2020-02-24T00:00:00\",\"2020-02-25T00:00:00\",\"2020-02-26T00:00:00\",\"2020-02-27T00:00:00\",\"2020-02-28T00:00:00\",\"2020-02-29T00:00:00\",\"2020-03-01T00:00:00\",\"2020-03-02T00:00:00\",\"2020-03-03T00:00:00\",\"2020-03-04T00:00:00\",\"2020-03-05T00:00:00\",\"2020-03-06T00:00:00\",\"2020-03-07T00:00:00\",\"2020-03-08T00:00:00\",\"2020-03-09T00:00:00\",\"2020-03-10T00:00:00\",\"2020-03-11T00:00:00\",\"2020-03-12T00:00:00\",\"2020-03-13T00:00:00\",\"2020-03-14T00:00:00\",\"2020-03-15T00:00:00\",\"2020-03-16T00:00:00\",\"2020-03-17T00:00:00\",\"2020-03-18T00:00:00\",\"2020-03-19T00:00:00\",\"2020-03-20T00:00:00\",\"2020-03-21T00:00:00\",\"2020-03-22T00:00:00\",\"2020-03-23T00:00:00\",\"2020-03-24T00:00:00\",\"2020-03-25T00:00:00\",\"2020-03-26T00:00:00\",\"2020-03-27T00:00:00\",\"2020-03-28T00:00:00\",\"2020-03-29T00:00:00\",\"2020-03-30T00:00:00\",\"2020-03-31T00:00:00\",\"2020-04-01T00:00:00\",\"2020-04-02T00:00:00\",\"2020-04-03T00:00:00\",\"2020-04-04T00:00:00\",\"2020-04-05T00:00:00\",\"2020-04-06T00:00:00\",\"2020-04-07T00:00:00\",\"2020-04-08T00:00:00\",\"2020-04-09T00:00:00\",\"2020-04-10T00:00:00\",\"2020-04-11T00:00:00\",\"2020-04-12T00:00:00\",\"2020-04-13T00:00:00\",\"2020-04-14T00:00:00\",\"2020-04-15T00:00:00\",\"2020-04-16T00:00:00\",\"2020-04-17T00:00:00\",\"2020-04-18T00:00:00\",\"2020-04-19T00:00:00\",\"2020-04-20T00:00:00\",\"2020-04-21T00:00:00\",\"2020-04-22T00:00:00\",\"2020-04-23T00:00:00\",\"2020-04-24T00:00:00\",\"2020-04-25T00:00:00\",\"2020-04-26T00:00:00\",\"2020-04-27T00:00:00\",\"2020-04-28T00:00:00\",\"2020-04-29T00:00:00\",\"2020-04-30T00:00:00\",\"2020-05-01T00:00:00\",\"2020-05-02T00:00:00\",\"2020-05-03T00:00:00\",\"2020-05-04T00:00:00\",\"2020-05-05T00:00:00\",\"2020-05-06T00:00:00\",\"2020-05-07T00:00:00\",\"2020-05-08T00:00:00\",\"2020-05-09T00:00:00\",\"2020-05-10T00:00:00\",\"2020-05-11T00:00:00\",\"2020-05-12T00:00:00\",\"2020-05-13T00:00:00\",\"2020-05-14T00:00:00\",\"2020-05-15T00:00:00\",\"2020-05-16T00:00:00\",\"2020-05-17T00:00:00\",\"2020-05-18T00:00:00\",\"2020-05-19T00:00:00\",\"2020-05-20T00:00:00\",\"2020-05-21T00:00:00\",\"2020-05-22T00:00:00\",\"2020-05-23T00:00:00\",\"2020-05-24T00:00:00\",\"2020-05-25T00:00:00\",\"2020-05-26T00:00:00\",\"2020-05-27T00:00:00\",\"2020-05-28T00:00:00\",\"2020-05-29T00:00:00\",\"2020-05-30T00:00:00\",\"2020-05-31T00:00:00\",\"2020-06-01T00:00:00\",\"2020-06-02T00:00:00\",\"2020-06-03T00:00:00\",\"2020-06-04T00:00:00\",\"2020-06-05T00:00:00\",\"2020-06-06T00:00:00\",\"2020-06-07T00:00:00\",\"2020-06-08T00:00:00\",\"2020-06-09T00:00:00\",\"2020-06-10T00:00:00\",\"2020-06-11T00:00:00\",\"2020-06-12T00:00:00\",\"2020-06-13T00:00:00\",\"2020-06-14T00:00:00\",\"2020-06-15T00:00:00\",\"2020-06-16T00:00:00\",\"2020-06-17T00:00:00\",\"2020-06-18T00:00:00\",\"2020-06-19T00:00:00\",\"2020-06-20T00:00:00\",\"2020-06-21T00:00:00\",\"2020-06-22T00:00:00\",\"2020-06-23T00:00:00\",\"2020-06-24T00:00:00\",\"2020-06-25T00:00:00\",\"2020-06-26T00:00:00\",\"2020-06-27T00:00:00\",\"2020-06-28T00:00:00\",\"2020-06-29T00:00:00\",\"2020-06-30T00:00:00\",\"2020-07-01T00:00:00\",\"2020-07-02T00:00:00\",\"2020-07-03T00:00:00\",\"2020-07-04T00:00:00\",\"2020-07-05T00:00:00\",\"2020-07-06T00:00:00\",\"2020-07-07T00:00:00\",\"2020-07-08T00:00:00\",\"2020-07-09T00:00:00\",\"2020-07-10T00:00:00\",\"2020-07-11T00:00:00\",\"2020-07-12T00:00:00\",\"2020-07-13T00:00:00\",\"2020-07-14T00:00:00\",\"2020-07-15T00:00:00\",\"2020-07-16T00:00:00\",\"2020-07-17T00:00:00\",\"2020-07-18T00:00:00\",\"2020-07-19T00:00:00\",\"2020-07-20T00:00:00\",\"2020-07-21T00:00:00\",\"2020-07-22T00:00:00\",\"2020-07-23T00:00:00\",\"2020-07-24T00:00:00\",\"2020-07-25T00:00:00\",\"2020-07-26T00:00:00\",\"2020-07-27T00:00:00\",\"2020-07-28T00:00:00\",\"2020-07-29T00:00:00\",\"2020-07-30T00:00:00\",\"2020-07-31T00:00:00\",\"2020-08-01T00:00:00\",\"2020-08-02T00:00:00\",\"2020-08-03T00:00:00\",\"2020-08-04T00:00:00\",\"2020-08-05T00:00:00\",\"2020-08-06T00:00:00\",\"2020-08-07T00:00:00\",\"2020-08-08T00:00:00\",\"2020-08-09T00:00:00\",\"2020-08-10T00:00:00\",\"2020-08-11T00:00:00\",\"2020-08-12T00:00:00\",\"2020-08-13T00:00:00\",\"2020-08-14T00:00:00\",\"2020-08-15T00:00:00\",\"2020-08-16T00:00:00\",\"2020-08-17T00:00:00\",\"2020-08-18T00:00:00\",\"2020-08-19T00:00:00\",\"2020-08-20T00:00:00\",\"2020-08-21T00:00:00\",\"2020-08-22T00:00:00\",\"2020-08-23T00:00:00\",\"2020-08-24T00:00:00\",\"2020-08-25T00:00:00\",\"2020-08-26T00:00:00\",\"2020-08-27T00:00:00\",\"2020-08-28T00:00:00\",\"2020-08-29T00:00:00\",\"2020-08-30T00:00:00\",\"2020-08-31T00:00:00\",\"2020-09-01T00:00:00\",\"2020-09-02T00:00:00\",\"2020-09-03T00:00:00\",\"2020-09-04T00:00:00\",\"2020-09-05T00:00:00\",\"2020-09-06T00:00:00\",\"2020-09-07T00:00:00\",\"2020-09-08T00:00:00\",\"2020-09-09T00:00:00\",\"2020-09-10T00:00:00\",\"2020-09-11T00:00:00\",\"2020-09-12T00:00:00\",\"2020-09-13T00:00:00\",\"2020-09-14T00:00:00\",\"2020-09-15T00:00:00\",\"2020-09-16T00:00:00\",\"2020-09-17T00:00:00\",\"2020-09-18T00:00:00\",\"2020-09-19T00:00:00\",\"2020-09-20T00:00:00\",\"2020-09-21T00:00:00\",\"2020-09-22T00:00:00\",\"2020-09-23T00:00:00\",\"2020-09-24T00:00:00\",\"2020-09-25T00:00:00\",\"2020-09-26T00:00:00\",\"2020-09-27T00:00:00\",\"2020-09-28T00:00:00\",\"2020-09-29T00:00:00\",\"2020-09-30T00:00:00\",\"2020-10-01T00:00:00\",\"2020-10-02T00:00:00\",\"2020-10-03T00:00:00\",\"2020-10-04T00:00:00\",\"2020-10-05T00:00:00\",\"2020-10-06T00:00:00\",\"2020-10-07T00:00:00\",\"2020-10-08T00:00:00\",\"2020-10-09T00:00:00\",\"2020-10-10T00:00:00\",\"2020-10-11T00:00:00\",\"2020-10-12T00:00:00\",\"2020-10-13T00:00:00\",\"2020-10-14T00:00:00\",\"2020-10-15T00:00:00\",\"2020-10-16T00:00:00\",\"2020-10-17T00:00:00\",\"2020-10-18T00:00:00\",\"2020-10-19T00:00:00\",\"2020-10-20T00:00:00\",\"2020-10-21T00:00:00\",\"2020-10-22T00:00:00\",\"2020-10-23T00:00:00\",\"2020-10-24T00:00:00\",\"2020-10-25T00:00:00\",\"2020-10-26T00:00:00\",\"2020-10-27T00:00:00\",\"2020-10-28T00:00:00\",\"2020-10-29T00:00:00\",\"2020-10-30T00:00:00\",\"2020-10-31T00:00:00\",\"2020-11-01T00:00:00\",\"2020-11-02T00:00:00\",\"2020-11-03T00:00:00\",\"2020-11-04T00:00:00\",\"2020-11-05T00:00:00\",\"2020-11-06T00:00:00\",\"2020-11-07T00:00:00\",\"2020-11-08T00:00:00\",\"2020-11-09T00:00:00\",\"2020-11-10T00:00:00\",\"2020-11-11T00:00:00\",\"2020-11-12T00:00:00\",\"2020-11-13T00:00:00\",\"2020-11-14T00:00:00\",\"2020-11-15T00:00:00\",\"2020-11-16T00:00:00\",\"2020-11-17T00:00:00\",\"2020-11-18T00:00:00\",\"2020-11-19T00:00:00\",\"2020-11-20T00:00:00\",\"2020-11-21T00:00:00\",\"2020-11-22T00:00:00\",\"2020-11-23T00:00:00\",\"2020-11-24T00:00:00\",\"2020-11-25T00:00:00\",\"2020-11-26T00:00:00\",\"2020-11-27T00:00:00\",\"2020-11-28T00:00:00\",\"2020-11-29T00:00:00\",\"2020-11-30T00:00:00\",\"2020-12-01T00:00:00\",\"2020-12-02T00:00:00\",\"2020-12-03T00:00:00\",\"2020-12-04T00:00:00\",\"2020-12-05T00:00:00\",\"2020-12-06T00:00:00\",\"2020-12-07T00:00:00\",\"2020-12-08T00:00:00\",\"2020-12-09T00:00:00\",\"2020-12-10T00:00:00\",\"2020-12-11T00:00:00\",\"2020-12-12T00:00:00\",\"2020-12-13T00:00:00\",\"2020-12-14T00:00:00\",\"2020-12-15T00:00:00\",\"2020-12-16T00:00:00\",\"2020-12-17T00:00:00\",\"2020-12-18T00:00:00\",\"2020-12-19T00:00:00\",\"2020-12-20T00:00:00\",\"2020-12-21T00:00:00\",\"2020-12-22T00:00:00\",\"2020-12-23T00:00:00\",\"2020-12-24T00:00:00\",\"2020-12-25T00:00:00\",\"2020-12-26T00:00:00\",\"2020-12-27T00:00:00\",\"2020-12-28T00:00:00\",\"2020-12-29T00:00:00\",\"2020-12-30T00:00:00\",\"2020-12-31T00:00:00\"],\"y\":[\"1900-01-01T23:53:00\",\"1900-01-02T01:13:00\",\"1900-01-01T23:41:00\",\"1900-01-01T23:57:00\",\"1900-01-02T00:54:00\",\"1900-01-02T01:23:00\",\"1900-01-01T23:55:00\",\"1900-01-02T00:06:00\",\"1900-01-01T23:43:00\",\"1900-01-01T23:34:00\",\"1900-01-01T23:34:00\",\"1900-01-02T00:02:00\",\"1900-01-02T00:24:00\",\"1900-01-01T23:32:00\",\"1900-01-02T00:33:00\",\"1900-01-02T00:48:00\",\"1900-01-02T01:00:00\",\"1900-01-02T00:10:00\",\"1900-01-01T23:27:00\",\"1900-01-02T00:18:00\",\"1900-01-01T23:52:00\",\"1900-01-02T00:08:00\",\"1900-01-02T00:10:00\",\"1900-01-02T00:00:00\",\"1900-01-01T23:15:00\",\"1900-01-01T23:24:00\",\"1900-01-02T00:02:00\",\"1900-01-02T00:17:00\",\"1900-01-01T23:44:00\",\"1900-01-01T23:58:00\",\"1900-01-02T00:18:00\",\"1900-01-01T23:44:00\",\"1900-01-01T23:56:00\",\"1900-01-02T00:44:00\",\"1900-01-01T23:54:00\",\"1900-01-02T00:34:00\",\"1900-01-01T23:26:00\",\"1900-01-01T23:39:00\",\"1900-01-01T23:39:00\",\"1900-01-01T23:24:00\",\"1900-01-01T23:56:00\",\"1900-01-01T23:27:00\",\"1900-01-02T00:09:00\",\"1900-01-01T23:12:00\",\"1900-01-01T23:18:00\",\"1900-01-02T00:21:00\",\"1900-01-02T00:58:00\",\"1900-01-02T00:45:00\",\"1900-01-01T23:44:00\",\"1900-01-01T23:42:00\",\"1900-01-01T23:41:00\",\"1900-01-01T23:28:00\",\"1900-01-01T23:46:00\",\"1900-01-01T23:32:00\",\"1900-01-01T23:38:00\",\"1900-01-01T23:48:00\",\"1900-01-02T00:47:00\",\"1900-01-01T23:27:00\",\"1900-01-01T22:52:00\",\"1900-01-01T23:42:00\",\"1900-01-01T23:57:00\",\"1900-01-02T00:49:00\",\"1900-01-02T00:11:00\",\"1900-01-01T23:28:00\",\"1900-01-02T00:04:00\",\"1900-01-01T23:33:00\",\"1900-01-01T23:54:00\",\"1900-01-01T23:19:00\",\"1900-01-02T00:30:00\",\"1900-01-02T00:10:00\",\"1900-01-01T23:48:00\",\"1900-01-02T00:18:00\",\"1900-01-01T23:29:00\",\"1900-01-01T23:42:00\",\"1900-01-01T23:40:00\",\"1900-01-02T00:05:00\",\"1900-01-01T23:39:00\",\"1900-01-02T00:04:00\",\"1900-01-01T23:00:00\",\"1900-01-02T00:03:00\",\"1900-01-01T23:33:00\",\"1900-01-01T23:59:00\",\"1900-01-02T00:09:00\",\"1900-01-02T00:01:00\",\"1900-01-01T23:58:00\",\"1900-01-01T23:48:00\",\"1900-01-01T23:55:00\",\"1900-01-01T23:39:00\",\"1900-01-02T00:10:00\",\"1900-01-01T23:07:00\",\"1900-01-02T00:00:00\",\"1900-01-01T23:53:00\",\"1900-01-02T00:13:00\",\"1900-01-02T00:03:00\",\"1900-01-02T00:08:00\",\"1900-01-01T23:55:00\",\"1900-01-02T00:11:00\",\"1900-01-01T23:52:00\",\"1900-01-01T23:53:00\",\"1900-01-01T23:12:00\",\"1900-01-01T23:37:00\",\"1900-01-01T23:42:00\",\"1900-01-01T23:58:00\",\"1900-01-01T23:58:00\",\"1900-01-02T00:01:00\",\"1900-01-02T00:04:00\",\"1900-01-02T00:13:00\",\"1900-01-02T00:04:00\",\"1900-01-01T23:55:00\",\"1900-01-01T23:38:00\",\"1900-01-02T00:30:00\",\"1900-01-02T00:57:00\",\"1900-01-02T00:48:00\",\"1900-01-02T00:00:00\",\"1900-01-02T00:08:00\",\"1900-01-01T23:49:00\",\"1900-01-01T23:47:00\",\"1900-01-02T00:00:00\",\"1900-01-02T00:04:00\",\"1900-01-02T00:12:00\",\"1900-01-02T00:00:00\",\"1900-01-01T23:33:00\",\"1900-01-01T23:33:00\",\"1900-01-01T23:36:00\",\"1900-01-01T23:57:00\",\"1900-01-01T23:57:00\",\"1900-01-01T23:44:00\",\"1900-01-01T23:43:00\",\"1900-01-01T23:32:00\",\"1900-01-01T23:50:00\",\"1900-01-02T00:24:00\",\"1900-01-01T23:35:00\",\"1900-01-01T23:46:00\",\"1900-01-01T23:38:00\",\"1900-01-01T23:26:00\",\"1900-01-01T23:52:00\",\"1900-01-02T00:19:00\",\"1900-01-01T23:44:00\",\"1900-01-02T00:27:00\",\"1900-01-01T23:31:00\",\"1900-01-01T23:36:00\",\"1900-01-01T23:38:00\",\"1900-01-01T23:44:00\",\"1900-01-01T23:27:00\",\"1900-01-01T23:55:00\",\"1900-01-02T00:17:00\",\"1900-01-01T23:20:00\",\"1900-01-01T23:52:00\",\"1900-01-01T23:11:00\",\"1900-01-01T23:12:00\",\"1900-01-01T22:35:00\",\"1900-01-01T23:09:00\",\"1900-01-01T23:14:00\",\"1900-01-02T00:14:00\",\"1900-01-01T23:36:00\",\"1900-01-01T23:18:00\",\"1900-01-01T23:28:00\",\"1900-01-01T23:52:00\",\"1900-01-01T23:15:00\",\"1900-01-01T23:15:00\",\"1900-01-01T22:52:00\",\"1900-01-01T23:06:00\",\"1900-01-01T23:25:00\",\"1900-01-01T23:15:00\",\"1900-01-01T23:22:00\",\"1900-01-01T23:49:00\",\"1900-01-01T23:32:00\",\"1900-01-01T23:14:00\",\"1900-01-01T23:37:00\",\"1900-01-01T23:22:00\",\"1900-01-01T23:15:00\",\"1900-01-01T23:16:00\",\"1900-01-01T23:47:00\",\"1900-01-01T23:32:00\",\"1900-01-01T23:17:00\",\"1900-01-01T23:45:00\",\"1900-01-01T23:45:00\",\"1900-01-01T23:25:00\",\"1900-01-02T00:54:00\",\"1900-01-01T23:16:00\",\"1900-01-01T23:15:00\",\"1900-01-01T23:57:00\",\"1900-01-01T23:03:00\",\"1900-01-01T23:07:00\",\"1900-01-01T22:50:00\",\"1900-01-01T23:20:00\",\"1900-01-01T22:51:00\",\"1900-01-01T22:56:00\",\"1900-01-01T23:23:00\",\"1900-01-01T23:11:00\",\"1900-01-01T23:13:00\",\"1900-01-01T22:57:00\",\"1900-01-01T22:56:00\",\"1900-01-01T23:26:00\",\"1900-01-01T23:36:00\",\"1900-01-01T23:10:00\",\"1900-01-01T23:07:00\",\"1900-01-01T23:06:00\",\"1900-01-01T23:40:00\",\"1900-01-01T23:50:00\",\"1900-01-01T23:56:00\",\"1900-01-02T00:03:00\",\"1900-01-01T23:10:00\",\"1900-01-01T23:52:00\",\"1900-01-01T23:07:00\",\"1900-01-01T23:19:00\",\"1900-01-01T23:14:00\",\"1900-01-01T23:58:00\",\"1900-01-02T00:53:00\",\"1900-01-01T22:51:00\",\"1900-01-01T23:00:00\",\"1900-01-01T22:52:00\",\"1900-01-01T23:18:00\",\"1900-01-02T00:40:00\",\"1900-01-01T23:28:00\",\"1900-01-01T23:42:00\",\"1900-01-01T23:14:00\",\"1900-01-01T23:03:00\",\"1900-01-01T23:26:00\",\"1900-01-02T00:09:00\",\"1900-01-01T23:22:00\",\"1900-01-01T23:34:00\",\"1900-01-01T23:50:00\",\"1900-01-01T23:06:00\",\"1900-01-01T23:45:00\",\"1900-01-01T22:52:00\",\"1900-01-01T23:13:00\",\"1900-01-01T22:50:00\",\"1900-01-01T22:54:00\",\"1900-01-01T23:24:00\",\"1900-01-01T23:50:00\",\"1900-01-01T23:08:00\",\"1900-01-01T23:21:00\",\"1900-01-01T23:30:00\",\"1900-01-01T23:15:00\",\"1900-01-01T23:31:00\",\"1900-01-01T23:09:00\",\"1900-01-01T23:15:00\",\"1900-01-01T23:11:00\",\"1900-01-01T23:11:00\",\"1900-01-01T23:09:00\",\"1900-01-01T23:13:00\",\"1900-01-01T23:00:00\",\"1900-01-01T22:59:00\",\"1900-01-01T22:51:00\",\"1900-01-01T22:58:00\",\"1900-01-01T22:47:00\",\"1900-01-01T22:49:00\",\"1900-01-01T22:48:00\",\"1900-01-01T22:41:00\",\"1900-01-01T22:51:00\",\"1900-01-01T22:56:00\",\"1900-01-01T23:02:00\",\"1900-01-01T22:42:00\",\"1900-01-01T22:52:00\",\"1900-01-01T23:01:00\",\"1900-01-01T22:54:00\",\"1900-01-01T23:05:00\",\"1900-01-01T23:11:00\",\"1900-01-01T22:54:00\",\"1900-01-02T00:15:00\",\"1900-01-01T21:57:00\",\"1900-01-01T23:41:00\",\"1900-01-01T22:50:00\",\"1900-01-01T22:57:00\",\"1900-01-02T00:08:00\",\"1900-01-01T23:01:00\",\"1900-01-01T22:51:00\",\"1900-01-01T23:45:00\",\"1900-01-01T23:01:00\",\"1900-01-01T23:33:00\",\"1900-01-01T23:15:00\",\"1900-01-01T23:01:00\",\"1900-01-01T23:02:00\",\"1900-01-01T23:00:00\",\"1900-01-01T22:57:00\",\"1900-01-01T22:46:00\",\"1900-01-02T01:26:00\",\"1900-01-01T22:54:00\",\"1900-01-01T23:00:00\",\"1900-01-01T23:22:00\",\"1900-01-01T23:15:00\",\"1900-01-01T23:23:00\",\"1900-01-02T00:12:00\",\"1900-01-01T22:49:00\",\"1900-01-01T22:53:00\",\"1900-01-01T22:53:00\",\"1900-01-01T22:55:00\",\"1900-01-01T22:51:00\",\"1900-01-01T23:12:00\",\"1900-01-01T23:07:00\",\"1900-01-01T23:06:00\",\"1900-01-01T23:09:00\",\"1900-01-01T22:59:00\",\"1900-01-01T22:57:00\",\"1900-01-01T22:58:00\",\"1900-01-01T22:53:00\",\"1900-01-01T23:04:00\",\"1900-01-01T23:03:00\",\"1900-01-01T22:50:00\",\"1900-01-01T22:34:00\",\"1900-01-01T22:49:00\",\"1900-01-01T22:43:00\",\"1900-01-01T23:03:00\",\"1900-01-01T22:46:00\",\"1900-01-01T22:53:00\",\"1900-01-01T22:53:00\",\"1900-01-01T23:07:00\",\"1900-01-01T22:50:00\",\"1900-01-01T22:45:00\",\"1900-01-01T22:57:00\",\"1900-01-01T22:50:00\",\"1900-01-01T22:42:00\",\"1900-01-01T22:51:00\",\"1900-01-01T22:54:00\",\"1900-01-01T22:46:00\",\"1900-01-01T22:51:00\",\"1900-01-01T22:51:00\",\"1900-01-01T22:50:00\",\"1900-01-01T22:47:00\",\"1900-01-01T23:13:00\",\"1900-01-01T22:59:00\",\"1900-01-01T23:21:00\",\"1900-01-01T22:53:00\",\"1900-01-01T22:44:00\",\"1900-01-01T22:52:00\",\"1900-01-01T22:52:00\",\"1900-01-01T23:06:00\",\"1900-01-01T22:56:00\",\"1900-01-01T23:00:00\",\"1900-01-01T22:54:00\",\"1900-01-01T22:50:00\",\"1900-01-01T23:03:00\",\"1900-01-01T23:03:00\",\"1900-01-01T22:55:00\",\"1900-01-01T22:49:00\",\"1900-01-01T23:06:00\",\"1900-01-01T23:18:00\",\"1900-01-01T22:59:00\",\"1900-01-01T23:05:00\",\"1900-01-01T23:01:00\",\"1900-01-01T22:56:00\",\"1900-01-01T22:59:00\",\"1900-01-01T22:56:00\",\"1900-01-01T22:54:00\",\"1900-01-01T23:14:00\",\"1900-01-01T23:17:00\",\"1900-01-01T22:49:00\",\"1900-01-01T22:50:00\",\"1900-01-01T23:10:00\",\"1900-01-01T23:00:00\",\"1900-01-01T22:48:00\",\"1900-01-01T23:12:00\",\"1900-01-01T22:46:00\",\"1900-01-01T22:47:00\",\"1900-01-01T22:43:00\",\"1900-01-01T22:46:00\",\"1900-01-01T23:08:00\",\"1900-01-01T23:18:00\",\"1900-01-01T22:57:00\",\"1900-01-01T22:46:00\",\"1900-01-01T22:57:00\",\"1900-01-01T22:50:00\",\"1900-01-01T22:41:00\",\"1900-01-01T23:18:00\",\"1900-01-01T22:51:00\",\"1900-01-01T22:56:00\"]},{\"name\":\"Ora a cui si pensava di svegliarsi\",\"type\":\"scatter\",\"x\":[\"2019-12-31T00:00:00\",\"2020-01-01T00:00:00\",\"2020-01-02T00:00:00\",\"2020-01-03T00:00:00\",\"2020-01-04T00:00:00\",\"2020-01-05T00:00:00\",\"2020-01-06T00:00:00\",\"2020-01-07T00:00:00\",\"2020-01-08T00:00:00\",\"2020-01-09T00:00:00\",\"2020-01-10T00:00:00\",\"2020-01-11T00:00:00\",\"2020-01-12T00:00:00\",\"2020-01-13T00:00:00\",\"2020-01-14T00:00:00\",\"2020-01-15T00:00:00\",\"2020-01-16T00:00:00\",\"2020-01-17T00:00:00\",\"2020-01-18T00:00:00\",\"2020-01-19T00:00:00\",\"2020-01-20T00:00:00\",\"2020-01-21T00:00:00\",\"2020-01-22T00:00:00\",\"2020-01-23T00:00:00\",\"2020-01-24T00:00:00\",\"2020-01-25T00:00:00\",\"2020-01-26T00:00:00\",\"2020-01-27T00:00:00\",\"2020-01-28T00:00:00\",\"2020-01-29T00:00:00\",\"2020-01-30T00:00:00\",\"2020-01-31T00:00:00\",\"2020-02-01T00:00:00\",\"2020-02-02T00:00:00\",\"2020-02-03T00:00:00\",\"2020-02-04T00:00:00\",\"2020-02-05T00:00:00\",\"2020-02-06T00:00:00\",\"2020-02-07T00:00:00\",\"2020-02-08T00:00:00\",\"2020-02-09T00:00:00\",\"2020-02-10T00:00:00\",\"2020-02-11T00:00:00\",\"2020-02-12T00:00:00\",\"2020-02-13T00:00:00\",\"2020-02-14T00:00:00\",\"2020-02-15T00:00:00\",\"2020-02-16T00:00:00\",\"2020-02-17T00:00:00\",\"2020-02-18T00:00:00\",\"2020-02-19T00:00:00\",\"2020-02-20T00:00:00\",\"2020-02-21T00:00:00\",\"2020-02-22T00:00:00\",\"2020-02-23T00:00:00\",\"2020-02-24T00:00:00\",\"2020-02-25T00:00:00\",\"2020-02-26T00:00:00\",\"2020-02-27T00:00:00\",\"2020-02-28T00:00:00\",\"2020-02-29T00:00:00\",\"2020-03-01T00:00:00\",\"2020-03-02T00:00:00\",\"2020-03-03T00:00:00\",\"2020-03-04T00:00:00\",\"2020-03-05T00:00:00\",\"2020-03-06T00:00:00\",\"2020-03-07T00:00:00\",\"2020-03-08T00:00:00\",\"2020-03-09T00:00:00\",\"2020-03-10T00:00:00\",\"2020-03-11T00:00:00\",\"2020-03-12T00:00:00\",\"2020-03-13T00:00:00\",\"2020-03-14T00:00:00\",\"2020-03-15T00:00:00\",\"2020-03-16T00:00:00\",\"2020-03-17T00:00:00\",\"2020-03-18T00:00:00\",\"2020-03-19T00:00:00\",\"2020-03-20T00:00:00\",\"2020-03-21T00:00:00\",\"2020-03-22T00:00:00\",\"2020-03-23T00:00:00\",\"2020-03-24T00:00:00\",\"2020-03-25T00:00:00\",\"2020-03-26T00:00:00\",\"2020-03-27T00:00:00\",\"2020-03-28T00:00:00\",\"2020-03-29T00:00:00\",\"2020-03-30T00:00:00\",\"2020-03-31T00:00:00\",\"2020-04-01T00:00:00\",\"2020-04-02T00:00:00\",\"2020-04-03T00:00:00\",\"2020-04-04T00:00:00\",\"2020-04-05T00:00:00\",\"2020-04-06T00:00:00\",\"2020-04-07T00:00:00\",\"2020-04-08T00:00:00\",\"2020-04-09T00:00:00\",\"2020-04-10T00:00:00\",\"2020-04-11T00:00:00\",\"2020-04-12T00:00:00\",\"2020-04-13T00:00:00\",\"2020-04-14T00:00:00\",\"2020-04-15T00:00:00\",\"2020-04-16T00:00:00\",\"2020-04-17T00:00:00\",\"2020-04-18T00:00:00\",\"2020-04-19T00:00:00\",\"2020-04-20T00:00:00\",\"2020-04-21T00:00:00\",\"2020-04-22T00:00:00\",\"2020-04-23T00:00:00\",\"2020-04-24T00:00:00\",\"2020-04-25T00:00:00\",\"2020-04-26T00:00:00\",\"2020-04-27T00:00:00\",\"2020-04-28T00:00:00\",\"2020-04-29T00:00:00\",\"2020-04-30T00:00:00\",\"2020-05-01T00:00:00\",\"2020-05-02T00:00:00\",\"2020-05-03T00:00:00\",\"2020-05-04T00:00:00\",\"2020-05-05T00:00:00\",\"2020-05-06T00:00:00\",\"2020-05-07T00:00:00\",\"2020-05-08T00:00:00\",\"2020-05-09T00:00:00\",\"2020-05-10T00:00:00\",\"2020-05-11T00:00:00\",\"2020-05-12T00:00:00\",\"2020-05-13T00:00:00\",\"2020-05-14T00:00:00\",\"2020-05-15T00:00:00\",\"2020-05-16T00:00:00\",\"2020-05-17T00:00:00\",\"2020-05-18T00:00:00\",\"2020-05-19T00:00:00\",\"2020-05-20T00:00:00\",\"2020-05-21T00:00:00\",\"2020-05-22T00:00:00\",\"2020-05-23T00:00:00\",\"2020-05-24T00:00:00\",\"2020-05-25T00:00:00\",\"2020-05-26T00:00:00\",\"2020-05-27T00:00:00\",\"2020-05-28T00:00:00\",\"2020-05-29T00:00:00\",\"2020-05-30T00:00:00\",\"2020-05-31T00:00:00\",\"2020-06-01T00:00:00\",\"2020-06-02T00:00:00\",\"2020-06-03T00:00:00\",\"2020-06-04T00:00:00\",\"2020-06-05T00:00:00\",\"2020-06-06T00:00:00\",\"2020-06-07T00:00:00\",\"2020-06-08T00:00:00\",\"2020-06-09T00:00:00\",\"2020-06-10T00:00:00\",\"2020-06-11T00:00:00\",\"2020-06-12T00:00:00\",\"2020-06-13T00:00:00\",\"2020-06-14T00:00:00\",\"2020-06-15T00:00:00\",\"2020-06-16T00:00:00\",\"2020-06-17T00:00:00\",\"2020-06-18T00:00:00\",\"2020-06-19T00:00:00\",\"2020-06-20T00:00:00\",\"2020-06-21T00:00:00\",\"2020-06-22T00:00:00\",\"2020-06-23T00:00:00\",\"2020-06-24T00:00:00\",\"2020-06-25T00:00:00\",\"2020-06-26T00:00:00\",\"2020-06-27T00:00:00\",\"2020-06-28T00:00:00\",\"2020-06-29T00:00:00\",\"2020-06-30T00:00:00\",\"2020-07-01T00:00:00\",\"2020-07-02T00:00:00\",\"2020-07-03T00:00:00\",\"2020-07-04T00:00:00\",\"2020-07-05T00:00:00\",\"2020-07-06T00:00:00\",\"2020-07-07T00:00:00\",\"2020-07-08T00:00:00\",\"2020-07-09T00:00:00\",\"2020-07-10T00:00:00\",\"2020-07-11T00:00:00\",\"2020-07-12T00:00:00\",\"2020-07-13T00:00:00\",\"2020-07-14T00:00:00\",\"2020-07-15T00:00:00\",\"2020-07-16T00:00:00\",\"2020-07-17T00:00:00\",\"2020-07-18T00:00:00\",\"2020-07-19T00:00:00\",\"2020-07-20T00:00:00\",\"2020-07-21T00:00:00\",\"2020-07-22T00:00:00\",\"2020-07-23T00:00:00\",\"2020-07-24T00:00:00\",\"2020-07-25T00:00:00\",\"2020-07-26T00:00:00\",\"2020-07-27T00:00:00\",\"2020-07-28T00:00:00\",\"2020-07-29T00:00:00\",\"2020-07-30T00:00:00\",\"2020-07-31T00:00:00\",\"2020-08-01T00:00:00\",\"2020-08-02T00:00:00\",\"2020-08-03T00:00:00\",\"2020-08-04T00:00:00\",\"2020-08-05T00:00:00\",\"2020-08-06T00:00:00\",\"2020-08-07T00:00:00\",\"2020-08-08T00:00:00\",\"2020-08-09T00:00:00\",\"2020-08-10T00:00:00\",\"2020-08-11T00:00:00\",\"2020-08-12T00:00:00\",\"2020-08-13T00:00:00\",\"2020-08-14T00:00:00\",\"2020-08-15T00:00:00\",\"2020-08-16T00:00:00\",\"2020-08-17T00:00:00\",\"2020-08-18T00:00:00\",\"2020-08-19T00:00:00\",\"2020-08-20T00:00:00\",\"2020-08-21T00:00:00\",\"2020-08-22T00:00:00\",\"2020-08-23T00:00:00\",\"2020-08-24T00:00:00\",\"2020-08-25T00:00:00\",\"2020-08-26T00:00:00\",\"2020-08-27T00:00:00\",\"2020-08-28T00:00:00\",\"2020-08-29T00:00:00\",\"2020-08-30T00:00:00\",\"2020-08-31T00:00:00\",\"2020-09-01T00:00:00\",\"2020-09-02T00:00:00\",\"2020-09-03T00:00:00\",\"2020-09-04T00:00:00\",\"2020-09-05T00:00:00\",\"2020-09-06T00:00:00\",\"2020-09-07T00:00:00\",\"2020-09-08T00:00:00\",\"2020-09-09T00:00:00\",\"2020-09-10T00:00:00\",\"2020-09-11T00:00:00\",\"2020-09-12T00:00:00\",\"2020-09-13T00:00:00\",\"2020-09-14T00:00:00\",\"2020-09-15T00:00:00\",\"2020-09-16T00:00:00\",\"2020-09-17T00:00:00\",\"2020-09-18T00:00:00\",\"2020-09-19T00:00:00\",\"2020-09-20T00:00:00\",\"2020-09-21T00:00:00\",\"2020-09-22T00:00:00\",\"2020-09-23T00:00:00\",\"2020-09-24T00:00:00\",\"2020-09-25T00:00:00\",\"2020-09-26T00:00:00\",\"2020-09-27T00:00:00\",\"2020-09-28T00:00:00\",\"2020-09-29T00:00:00\",\"2020-09-30T00:00:00\",\"2020-10-01T00:00:00\",\"2020-10-02T00:00:00\",\"2020-10-03T00:00:00\",\"2020-10-04T00:00:00\",\"2020-10-05T00:00:00\",\"2020-10-06T00:00:00\",\"2020-10-07T00:00:00\",\"2020-10-08T00:00:00\",\"2020-10-09T00:00:00\",\"2020-10-10T00:00:00\",\"2020-10-11T00:00:00\",\"2020-10-12T00:00:00\",\"2020-10-13T00:00:00\",\"2020-10-14T00:00:00\",\"2020-10-15T00:00:00\",\"2020-10-16T00:00:00\",\"2020-10-17T00:00:00\",\"2020-10-18T00:00:00\",\"2020-10-19T00:00:00\",\"2020-10-20T00:00:00\",\"2020-10-21T00:00:00\",\"2020-10-22T00:00:00\",\"2020-10-23T00:00:00\",\"2020-10-24T00:00:00\",\"2020-10-25T00:00:00\",\"2020-10-26T00:00:00\",\"2020-10-27T00:00:00\",\"2020-10-28T00:00:00\",\"2020-10-29T00:00:00\",\"2020-10-30T00:00:00\",\"2020-10-31T00:00:00\",\"2020-11-01T00:00:00\",\"2020-11-02T00:00:00\",\"2020-11-03T00:00:00\",\"2020-11-04T00:00:00\",\"2020-11-05T00:00:00\",\"2020-11-06T00:00:00\",\"2020-11-07T00:00:00\",\"2020-11-08T00:00:00\",\"2020-11-09T00:00:00\",\"2020-11-10T00:00:00\",\"2020-11-11T00:00:00\",\"2020-11-12T00:00:00\",\"2020-11-13T00:00:00\",\"2020-11-14T00:00:00\",\"2020-11-15T00:00:00\",\"2020-11-16T00:00:00\",\"2020-11-17T00:00:00\",\"2020-11-18T00:00:00\",\"2020-11-19T00:00:00\",\"2020-11-20T00:00:00\",\"2020-11-21T00:00:00\",\"2020-11-22T00:00:00\",\"2020-11-23T00:00:00\",\"2020-11-24T00:00:00\",\"2020-11-25T00:00:00\",\"2020-11-26T00:00:00\",\"2020-11-27T00:00:00\",\"2020-11-28T00:00:00\",\"2020-11-29T00:00:00\",\"2020-11-30T00:00:00\",\"2020-12-01T00:00:00\",\"2020-12-02T00:00:00\",\"2020-12-03T00:00:00\",\"2020-12-04T00:00:00\",\"2020-12-05T00:00:00\",\"2020-12-06T00:00:00\",\"2020-12-07T00:00:00\",\"2020-12-08T00:00:00\",\"2020-12-09T00:00:00\",\"2020-12-10T00:00:00\",\"2020-12-11T00:00:00\",\"2020-12-12T00:00:00\",\"2020-12-13T00:00:00\",\"2020-12-14T00:00:00\",\"2020-12-15T00:00:00\",\"2020-12-16T00:00:00\",\"2020-12-17T00:00:00\",\"2020-12-18T00:00:00\",\"2020-12-19T00:00:00\",\"2020-12-20T00:00:00\",\"2020-12-21T00:00:00\",\"2020-12-22T00:00:00\",\"2020-12-23T00:00:00\",\"2020-12-24T00:00:00\",\"2020-12-25T00:00:00\",\"2020-12-26T00:00:00\",\"2020-12-27T00:00:00\",\"2020-12-28T00:00:00\",\"2020-12-29T00:00:00\",\"2020-12-30T00:00:00\",\"2020-12-31T00:00:00\"],\"y\":[\"1900-01-02T06:30:00\",\"1900-01-02T08:30:00\",\"1900-01-02T06:30:00\",\"1900-01-02T06:30:00\",\"1900-01-02T06:45:00\",\"1900-01-02T06:00:00\",\"1900-01-02T08:00:00\",\"1900-01-02T07:30:00\",\"1900-01-02T07:00:00\",\"1900-01-02T06:00:00\",\"1900-01-02T06:00:00\",\"1900-01-02T07:30:00\",\"1900-01-02T07:30:00\",\"1900-01-02T06:00:00\",\"1900-01-02T06:10:00\",\"1900-01-02T08:30:00\",\"1900-01-02T08:30:00\",\"1900-01-02T07:40:00\",\"1900-01-02T06:30:00\",\"1900-01-02T07:30:00\",\"1900-01-02T06:00:00\",\"1900-01-02T06:00:00\",\"1900-01-02T06:00:00\",\"1900-01-02T06:00:00\",\"1900-01-02T06:45:00\",\"1900-01-02T06:00:00\",\"1900-01-02T07:30:00\",\"1900-01-02T06:20:00\",\"1900-01-02T06:00:00\",\"1900-01-02T06:30:00\",\"1900-01-02T06:00:00\",\"1900-01-02T07:30:00\",\"1900-01-02T07:30:00\",\"1900-01-02T06:45:00\",\"1900-01-02T06:00:00\",\"1900-01-02T06:00:00\",\"1900-01-02T06:00:00\",\"1900-01-02T06:00:00\",\"1900-01-02T06:00:00\",\"1900-01-02T06:00:00\",\"1900-01-02T07:30:00\",\"1900-01-02T06:00:00\",\"1900-01-02T06:00:00\",\"1900-01-02T06:00:00\",\"1900-01-02T06:00:00\",\"1900-01-02T06:00:00\",\"1900-01-02T07:00:00\",\"1900-01-02T06:00:00\",\"1900-01-02T06:00:00\",\"1900-01-02T07:00:00\",\"1900-01-02T06:00:00\",\"1900-01-02T06:00:00\",\"1900-01-02T06:00:00\",\"1900-01-02T06:00:00\",\"1900-01-02T06:00:00\",\"1900-01-02T06:00:00\",\"1900-01-02T06:00:00\",\"1900-01-02T06:00:00\",\"1900-01-02T06:00:00\",\"1900-01-02T06:00:00\",\"1900-01-02T07:00:00\",\"1900-01-02T07:00:00\",\"1900-01-02T06:00:00\",\"1900-01-02T06:00:00\",\"1900-01-02T06:00:00\",\"1900-01-02T06:00:00\",\"1900-01-02T06:00:00\",\"1900-01-02T06:00:00\",\"1900-01-02T06:00:00\",\"1900-01-02T06:00:00\",\"1900-01-02T06:00:00\",\"1900-01-02T06:00:00\",\"1900-01-02T06:00:00\",\"1900-01-02T06:00:00\",\"1900-01-02T06:00:00\",\"1900-01-02T06:00:00\",\"1900-01-02T06:00:00\",\"1900-01-02T06:00:00\",\"1900-01-02T06:00:00\",\"1900-01-02T06:00:00\",\"1900-01-02T06:00:00\",\"1900-01-02T07:00:00\",\"1900-01-02T06:00:00\",\"1900-01-02T06:00:00\",\"1900-01-02T06:00:00\",\"1900-01-02T06:00:00\",\"1900-01-02T06:00:00\",\"1900-01-02T06:00:00\",\"1900-01-02T06:00:00\",\"1900-01-02T06:00:00\",\"1900-01-02T06:00:00\",\"1900-01-02T06:00:00\",\"1900-01-02T06:00:00\",\"1900-01-02T06:00:00\",\"1900-01-02T06:00:00\",\"1900-01-02T06:00:00\",\"1900-01-02T06:00:00\",\"1900-01-02T06:00:00\",\"1900-01-02T06:00:00\",\"1900-01-02T06:00:00\",\"1900-01-02T06:00:00\",\"1900-01-02T06:00:00\",\"1900-01-02T06:00:00\",\"1900-01-02T06:00:00\",\"1900-01-02T06:00:00\",\"1900-01-02T06:00:00\",\"1900-01-02T06:00:00\",\"1900-01-02T06:00:00\",\"1900-01-02T06:00:00\",\"1900-01-02T06:00:00\",\"1900-01-02T06:00:00\",\"1900-01-02T06:00:00\",\"1900-01-02T06:00:00\",\"1900-01-02T06:00:00\",\"1900-01-02T06:00:00\",\"1900-01-02T06:00:00\",\"1900-01-02T06:00:00\",\"1900-01-02T06:00:00\",\"1900-01-02T06:00:00\",\"1900-01-02T06:00:00\",\"1900-01-02T06:00:00\",\"1900-01-02T07:00:00\",\"1900-01-02T07:00:00\",\"1900-01-02T07:00:00\",\"1900-01-02T07:00:00\",\"1900-01-02T07:00:00\",\"1900-01-02T07:00:00\",\"1900-01-02T07:00:00\",\"1900-01-02T07:00:00\",\"1900-01-02T06:00:00\",\"1900-01-02T07:00:00\",\"1900-01-02T07:00:00\",\"1900-01-02T07:00:00\",\"1900-01-02T07:00:00\",\"1900-01-02T07:00:00\",\"1900-01-02T07:00:00\",\"1900-01-02T06:00:00\",\"1900-01-02T07:00:00\",\"1900-01-02T07:00:00\",\"1900-01-02T07:00:00\",\"1900-01-02T07:00:00\",\"1900-01-02T07:00:00\",\"1900-01-02T07:00:00\",\"1900-01-02T07:00:00\",\"1900-01-02T07:00:00\",\"1900-01-02T07:00:00\",\"1900-01-02T07:00:00\",\"1900-01-02T06:00:00\",\"1900-01-02T06:00:00\",\"1900-01-02T06:00:00\",\"1900-01-02T06:00:00\",\"1900-01-02T07:00:00\",\"1900-01-02T07:00:00\",\"1900-01-02T07:00:00\",\"1900-01-02T07:00:00\",\"1900-01-02T07:00:00\",\"1900-01-02T07:00:00\",\"1900-01-02T07:00:00\",\"1900-01-02T07:00:00\",\"1900-01-02T07:00:00\",\"1900-01-02T07:00:00\",\"1900-01-02T07:00:00\",\"1900-01-02T07:00:00\",\"1900-01-02T07:00:00\",\"1900-01-02T07:00:00\",\"1900-01-02T07:00:00\",\"1900-01-02T07:00:00\",\"1900-01-02T07:00:00\",\"1900-01-02T07:00:00\",\"1900-01-02T07:00:00\",\"1900-01-02T07:00:00\",\"1900-01-02T07:00:00\",\"1900-01-02T07:00:00\",\"1900-01-02T07:00:00\",\"1900-01-02T07:00:00\",\"1900-01-02T07:00:00\",\"1900-01-02T07:00:00\",\"1900-01-02T07:00:00\",\"1900-01-02T07:00:00\",\"1900-01-02T07:00:00\",\"1900-01-02T07:00:00\",\"1900-01-02T06:30:00\",\"1900-01-02T06:30:00\",\"1900-01-02T06:30:00\",\"1900-01-02T06:30:00\",\"1900-01-02T06:30:00\",\"1900-01-02T06:30:00\",\"1900-01-02T06:30:00\",\"1900-01-02T06:30:00\",\"1900-01-02T06:30:00\",\"1900-01-02T06:30:00\",\"1900-01-02T06:30:00\",\"1900-01-02T06:20:00\",\"1900-01-02T06:30:00\",\"1900-01-02T06:30:00\",\"1900-01-02T06:30:00\",\"1900-01-02T06:30:00\",\"1900-01-02T06:30:00\",\"1900-01-02T06:30:00\",\"1900-01-02T06:30:00\",\"1900-01-02T06:30:00\",\"1900-01-02T06:30:00\",\"1900-01-02T06:30:00\",\"1900-01-02T06:30:00\",\"1900-01-02T06:30:00\",\"1900-01-02T06:30:00\",\"1900-01-02T06:30:00\",\"1900-01-02T06:30:00\",\"1900-01-02T06:30:00\",\"1900-01-02T06:30:00\",\"1900-01-02T06:30:00\",\"1900-01-02T06:30:00\",\"1900-01-02T06:30:00\",\"1900-01-02T06:30:00\",\"1900-01-02T06:30:00\",\"1900-01-02T06:30:00\",\"1900-01-02T06:10:00\",\"1900-01-02T06:10:00\",\"1900-01-02T06:10:00\",\"1900-01-02T06:10:00\",\"1900-01-02T06:10:00\",\"1900-01-02T06:30:00\",\"1900-01-02T06:30:00\",\"1900-01-02T06:30:00\",\"1900-01-02T06:30:00\",\"1900-01-02T06:30:00\",\"1900-01-02T06:30:00\",\"1900-01-02T06:30:00\",\"1900-01-02T06:30:00\",\"1900-01-02T07:30:00\",\"1900-01-02T06:10:00\",\"1900-01-02T06:10:00\",\"1900-01-02T06:10:00\",\"1900-01-02T06:10:00\",\"1900-01-02T06:10:00\",\"1900-01-02T06:30:00\",\"1900-01-02T06:30:00\",\"1900-01-02T06:30:00\",\"1900-01-02T06:30:00\",\"1900-01-02T06:30:00\",\"1900-01-02T06:30:00\",\"1900-01-02T06:30:00\",\"1900-01-02T06:30:00\",\"1900-01-02T06:30:00\",\"1900-01-02T06:30:00\",\"1900-01-02T06:30:00\",\"1900-01-02T06:30:00\",\"1900-01-02T06:30:00\",\"1900-01-02T06:30:00\",\"1900-01-02T06:30:00\",\"1900-01-02T06:30:00\",\"1900-01-02T06:30:00\",\"1900-01-02T06:30:00\",\"1900-01-02T06:30:00\",\"1900-01-02T06:30:00\",\"1900-01-02T06:30:00\",\"1900-01-02T06:30:00\",\"1900-01-02T05:00:00\",\"1900-01-02T07:00:00\",\"1900-01-02T06:30:00\",\"1900-01-02T07:00:00\",\"1900-01-02T06:30:00\",\"1900-01-02T06:30:00\",\"1900-01-02T06:30:00\",\"1900-01-02T06:30:00\",\"1900-01-02T06:30:00\",\"1900-01-02T06:30:00\",\"1900-01-02T06:30:00\",\"1900-01-02T06:30:00\",\"1900-01-02T06:30:00\",\"1900-01-02T06:30:00\",\"1900-01-02T06:30:00\",\"1900-01-02T06:30:00\",\"1900-01-02T06:30:00\",\"1900-01-02T06:30:00\",\"1900-01-02T06:30:00\",\"1900-01-02T06:30:00\",\"1900-01-02T06:30:00\",\"1900-01-02T06:30:00\",\"1900-01-02T06:30:00\",\"1900-01-02T06:30:00\",\"1900-01-02T06:30:00\",\"1900-01-02T06:30:00\",\"1900-01-02T06:30:00\",\"1900-01-02T06:30:00\",\"1900-01-02T06:30:00\",\"1900-01-02T06:30:00\",\"1900-01-02T06:30:00\",\"1900-01-02T06:30:00\",\"1900-01-02T06:30:00\",\"1900-01-02T06:30:00\",\"1900-01-02T06:30:00\",\"1900-01-02T06:30:00\",\"1900-01-02T06:30:00\",\"1900-01-02T06:30:00\",\"1900-01-02T06:30:00\",\"1900-01-02T06:30:00\",\"1900-01-02T06:30:00\",\"1900-01-02T06:30:00\",\"1900-01-02T05:50:00\",\"1900-01-02T06:10:00\",\"1900-01-02T06:30:00\",\"1900-01-02T06:30:00\",\"1900-01-02T06:30:00\",\"1900-01-02T06:30:00\",\"1900-01-02T06:30:00\",\"1900-01-02T06:30:00\",\"1900-01-02T06:30:00\",\"1900-01-02T06:30:00\",\"1900-01-02T06:30:00\",\"1900-01-02T06:30:00\",\"1900-01-02T06:30:00\",\"1900-01-02T06:30:00\",\"1900-01-02T06:30:00\",\"1900-01-02T06:30:00\",\"1900-01-02T06:30:00\",\"1900-01-02T06:30:00\",\"1900-01-02T06:30:00\",\"1900-01-02T06:30:00\",\"1900-01-02T06:30:00\",\"1900-01-02T06:30:00\",\"1900-01-02T06:30:00\",\"1900-01-02T06:30:00\",\"1900-01-02T06:30:00\",\"1900-01-02T06:30:00\",\"1900-01-02T06:30:00\",\"1900-01-02T06:30:00\",\"1900-01-02T06:30:00\",\"1900-01-02T06:30:00\",\"1900-01-02T06:30:00\",\"1900-01-02T06:30:00\",\"1900-01-02T06:30:00\",\"1900-01-02T06:30:00\",\"1900-01-02T06:30:00\",\"1900-01-02T06:30:00\",\"1900-01-02T06:30:00\",\"1900-01-02T06:30:00\",\"1900-01-02T06:30:00\",\"1900-01-02T06:30:00\",\"1900-01-02T06:30:00\",\"1900-01-02T06:30:00\",\"1900-01-02T06:30:00\",\"1900-01-02T06:30:00\",\"1900-01-02T06:30:00\",\"1900-01-02T06:30:00\",\"1900-01-02T06:30:00\",\"1900-01-02T06:30:00\",\"1900-01-02T06:30:00\",\"1900-01-02T06:30:00\",\"1900-01-02T06:30:00\",\"1900-01-02T06:30:00\",\"1900-01-02T06:30:00\",\"1900-01-02T06:30:00\",\"1900-01-02T06:30:00\",\"1900-01-02T06:30:00\",\"1900-01-02T06:30:00\",\"1900-01-02T06:30:00\",\"1900-01-02T06:30:00\",\"1900-01-02T06:30:00\",\"1900-01-02T06:30:00\",\"1900-01-02T06:30:00\",\"1900-01-02T06:30:00\",\"1900-01-02T06:30:00\",\"1900-01-02T06:30:00\",\"1900-01-02T06:30:00\",\"1900-01-02T06:30:00\",\"1900-01-02T06:30:00\"]},{\"name\":\"Ora a cui ci si \\u00e8 svegliati\",\"type\":\"scatter\",\"x\":[\"2019-12-31T00:00:00\",\"2020-01-01T00:00:00\",\"2020-01-02T00:00:00\",\"2020-01-03T00:00:00\",\"2020-01-04T00:00:00\",\"2020-01-05T00:00:00\",\"2020-01-06T00:00:00\",\"2020-01-07T00:00:00\",\"2020-01-08T00:00:00\",\"2020-01-09T00:00:00\",\"2020-01-10T00:00:00\",\"2020-01-11T00:00:00\",\"2020-01-12T00:00:00\",\"2020-01-13T00:00:00\",\"2020-01-14T00:00:00\",\"2020-01-15T00:00:00\",\"2020-01-16T00:00:00\",\"2020-01-17T00:00:00\",\"2020-01-18T00:00:00\",\"2020-01-19T00:00:00\",\"2020-01-20T00:00:00\",\"2020-01-21T00:00:00\",\"2020-01-22T00:00:00\",\"2020-01-23T00:00:00\",\"2020-01-24T00:00:00\",\"2020-01-25T00:00:00\",\"2020-01-26T00:00:00\",\"2020-01-27T00:00:00\",\"2020-01-28T00:00:00\",\"2020-01-29T00:00:00\",\"2020-01-30T00:00:00\",\"2020-01-31T00:00:00\",\"2020-02-01T00:00:00\",\"2020-02-02T00:00:00\",\"2020-02-03T00:00:00\",\"2020-02-04T00:00:00\",\"2020-02-05T00:00:00\",\"2020-02-06T00:00:00\",\"2020-02-07T00:00:00\",\"2020-02-08T00:00:00\",\"2020-02-09T00:00:00\",\"2020-02-10T00:00:00\",\"2020-02-11T00:00:00\",\"2020-02-12T00:00:00\",\"2020-02-13T00:00:00\",\"2020-02-14T00:00:00\",\"2020-02-15T00:00:00\",\"2020-02-16T00:00:00\",\"2020-02-17T00:00:00\",\"2020-02-18T00:00:00\",\"2020-02-19T00:00:00\",\"2020-02-20T00:00:00\",\"2020-02-21T00:00:00\",\"2020-02-22T00:00:00\",\"2020-02-23T00:00:00\",\"2020-02-24T00:00:00\",\"2020-02-25T00:00:00\",\"2020-02-26T00:00:00\",\"2020-02-27T00:00:00\",\"2020-02-28T00:00:00\",\"2020-02-29T00:00:00\",\"2020-03-01T00:00:00\",\"2020-03-02T00:00:00\",\"2020-03-03T00:00:00\",\"2020-03-04T00:00:00\",\"2020-03-05T00:00:00\",\"2020-03-06T00:00:00\",\"2020-03-07T00:00:00\",\"2020-03-08T00:00:00\",\"2020-03-09T00:00:00\",\"2020-03-10T00:00:00\",\"2020-03-11T00:00:00\",\"2020-03-12T00:00:00\",\"2020-03-13T00:00:00\",\"2020-03-14T00:00:00\",\"2020-03-15T00:00:00\",\"2020-03-16T00:00:00\",\"2020-03-17T00:00:00\",\"2020-03-18T00:00:00\",\"2020-03-19T00:00:00\",\"2020-03-20T00:00:00\",\"2020-03-21T00:00:00\",\"2020-03-22T00:00:00\",\"2020-03-23T00:00:00\",\"2020-03-24T00:00:00\",\"2020-03-25T00:00:00\",\"2020-03-26T00:00:00\",\"2020-03-27T00:00:00\",\"2020-03-28T00:00:00\",\"2020-03-29T00:00:00\",\"2020-03-30T00:00:00\",\"2020-03-31T00:00:00\",\"2020-04-01T00:00:00\",\"2020-04-02T00:00:00\",\"2020-04-03T00:00:00\",\"2020-04-04T00:00:00\",\"2020-04-05T00:00:00\",\"2020-04-06T00:00:00\",\"2020-04-07T00:00:00\",\"2020-04-08T00:00:00\",\"2020-04-09T00:00:00\",\"2020-04-10T00:00:00\",\"2020-04-11T00:00:00\",\"2020-04-12T00:00:00\",\"2020-04-13T00:00:00\",\"2020-04-14T00:00:00\",\"2020-04-15T00:00:00\",\"2020-04-16T00:00:00\",\"2020-04-17T00:00:00\",\"2020-04-18T00:00:00\",\"2020-04-19T00:00:00\",\"2020-04-20T00:00:00\",\"2020-04-21T00:00:00\",\"2020-04-22T00:00:00\",\"2020-04-23T00:00:00\",\"2020-04-24T00:00:00\",\"2020-04-25T00:00:00\",\"2020-04-26T00:00:00\",\"2020-04-27T00:00:00\",\"2020-04-28T00:00:00\",\"2020-04-29T00:00:00\",\"2020-04-30T00:00:00\",\"2020-05-01T00:00:00\",\"2020-05-02T00:00:00\",\"2020-05-03T00:00:00\",\"2020-05-04T00:00:00\",\"2020-05-05T00:00:00\",\"2020-05-06T00:00:00\",\"2020-05-07T00:00:00\",\"2020-05-08T00:00:00\",\"2020-05-09T00:00:00\",\"2020-05-10T00:00:00\",\"2020-05-11T00:00:00\",\"2020-05-12T00:00:00\",\"2020-05-13T00:00:00\",\"2020-05-14T00:00:00\",\"2020-05-15T00:00:00\",\"2020-05-16T00:00:00\",\"2020-05-17T00:00:00\",\"2020-05-18T00:00:00\",\"2020-05-19T00:00:00\",\"2020-05-20T00:00:00\",\"2020-05-21T00:00:00\",\"2020-05-22T00:00:00\",\"2020-05-23T00:00:00\",\"2020-05-24T00:00:00\",\"2020-05-25T00:00:00\",\"2020-05-26T00:00:00\",\"2020-05-27T00:00:00\",\"2020-05-28T00:00:00\",\"2020-05-29T00:00:00\",\"2020-05-30T00:00:00\",\"2020-05-31T00:00:00\",\"2020-06-01T00:00:00\",\"2020-06-02T00:00:00\",\"2020-06-03T00:00:00\",\"2020-06-04T00:00:00\",\"2020-06-05T00:00:00\",\"2020-06-06T00:00:00\",\"2020-06-07T00:00:00\",\"2020-06-08T00:00:00\",\"2020-06-09T00:00:00\",\"2020-06-10T00:00:00\",\"2020-06-11T00:00:00\",\"2020-06-12T00:00:00\",\"2020-06-13T00:00:00\",\"2020-06-14T00:00:00\",\"2020-06-15T00:00:00\",\"2020-06-16T00:00:00\",\"2020-06-17T00:00:00\",\"2020-06-18T00:00:00\",\"2020-06-19T00:00:00\",\"2020-06-20T00:00:00\",\"2020-06-21T00:00:00\",\"2020-06-22T00:00:00\",\"2020-06-23T00:00:00\",\"2020-06-24T00:00:00\",\"2020-06-25T00:00:00\",\"2020-06-26T00:00:00\",\"2020-06-27T00:00:00\",\"2020-06-28T00:00:00\",\"2020-06-29T00:00:00\",\"2020-06-30T00:00:00\",\"2020-07-01T00:00:00\",\"2020-07-02T00:00:00\",\"2020-07-03T00:00:00\",\"2020-07-04T00:00:00\",\"2020-07-05T00:00:00\",\"2020-07-06T00:00:00\",\"2020-07-07T00:00:00\",\"2020-07-08T00:00:00\",\"2020-07-09T00:00:00\",\"2020-07-10T00:00:00\",\"2020-07-11T00:00:00\",\"2020-07-12T00:00:00\",\"2020-07-13T00:00:00\",\"2020-07-14T00:00:00\",\"2020-07-15T00:00:00\",\"2020-07-16T00:00:00\",\"2020-07-17T00:00:00\",\"2020-07-18T00:00:00\",\"2020-07-19T00:00:00\",\"2020-07-20T00:00:00\",\"2020-07-21T00:00:00\",\"2020-07-22T00:00:00\",\"2020-07-23T00:00:00\",\"2020-07-24T00:00:00\",\"2020-07-25T00:00:00\",\"2020-07-26T00:00:00\",\"2020-07-27T00:00:00\",\"2020-07-28T00:00:00\",\"2020-07-29T00:00:00\",\"2020-07-30T00:00:00\",\"2020-07-31T00:00:00\",\"2020-08-01T00:00:00\",\"2020-08-02T00:00:00\",\"2020-08-03T00:00:00\",\"2020-08-04T00:00:00\",\"2020-08-05T00:00:00\",\"2020-08-06T00:00:00\",\"2020-08-07T00:00:00\",\"2020-08-08T00:00:00\",\"2020-08-09T00:00:00\",\"2020-08-10T00:00:00\",\"2020-08-11T00:00:00\",\"2020-08-12T00:00:00\",\"2020-08-13T00:00:00\",\"2020-08-14T00:00:00\",\"2020-08-15T00:00:00\",\"2020-08-16T00:00:00\",\"2020-08-17T00:00:00\",\"2020-08-18T00:00:00\",\"2020-08-19T00:00:00\",\"2020-08-20T00:00:00\",\"2020-08-21T00:00:00\",\"2020-08-22T00:00:00\",\"2020-08-23T00:00:00\",\"2020-08-24T00:00:00\",\"2020-08-25T00:00:00\",\"2020-08-26T00:00:00\",\"2020-08-27T00:00:00\",\"2020-08-28T00:00:00\",\"2020-08-29T00:00:00\",\"2020-08-30T00:00:00\",\"2020-08-31T00:00:00\",\"2020-09-01T00:00:00\",\"2020-09-02T00:00:00\",\"2020-09-03T00:00:00\",\"2020-09-04T00:00:00\",\"2020-09-05T00:00:00\",\"2020-09-06T00:00:00\",\"2020-09-07T00:00:00\",\"2020-09-08T00:00:00\",\"2020-09-09T00:00:00\",\"2020-09-10T00:00:00\",\"2020-09-11T00:00:00\",\"2020-09-12T00:00:00\",\"2020-09-13T00:00:00\",\"2020-09-14T00:00:00\",\"2020-09-15T00:00:00\",\"2020-09-16T00:00:00\",\"2020-09-17T00:00:00\",\"2020-09-18T00:00:00\",\"2020-09-19T00:00:00\",\"2020-09-20T00:00:00\",\"2020-09-21T00:00:00\",\"2020-09-22T00:00:00\",\"2020-09-23T00:00:00\",\"2020-09-24T00:00:00\",\"2020-09-25T00:00:00\",\"2020-09-26T00:00:00\",\"2020-09-27T00:00:00\",\"2020-09-28T00:00:00\",\"2020-09-29T00:00:00\",\"2020-09-30T00:00:00\",\"2020-10-01T00:00:00\",\"2020-10-02T00:00:00\",\"2020-10-03T00:00:00\",\"2020-10-04T00:00:00\",\"2020-10-05T00:00:00\",\"2020-10-06T00:00:00\",\"2020-10-07T00:00:00\",\"2020-10-08T00:00:00\",\"2020-10-09T00:00:00\",\"2020-10-10T00:00:00\",\"2020-10-11T00:00:00\",\"2020-10-12T00:00:00\",\"2020-10-13T00:00:00\",\"2020-10-14T00:00:00\",\"2020-10-15T00:00:00\",\"2020-10-16T00:00:00\",\"2020-10-17T00:00:00\",\"2020-10-18T00:00:00\",\"2020-10-19T00:00:00\",\"2020-10-20T00:00:00\",\"2020-10-21T00:00:00\",\"2020-10-22T00:00:00\",\"2020-10-23T00:00:00\",\"2020-10-24T00:00:00\",\"2020-10-25T00:00:00\",\"2020-10-26T00:00:00\",\"2020-10-27T00:00:00\",\"2020-10-28T00:00:00\",\"2020-10-29T00:00:00\",\"2020-10-30T00:00:00\",\"2020-10-31T00:00:00\",\"2020-11-01T00:00:00\",\"2020-11-02T00:00:00\",\"2020-11-03T00:00:00\",\"2020-11-04T00:00:00\",\"2020-11-05T00:00:00\",\"2020-11-06T00:00:00\",\"2020-11-07T00:00:00\",\"2020-11-08T00:00:00\",\"2020-11-09T00:00:00\",\"2020-11-10T00:00:00\",\"2020-11-11T00:00:00\",\"2020-11-12T00:00:00\",\"2020-11-13T00:00:00\",\"2020-11-14T00:00:00\",\"2020-11-15T00:00:00\",\"2020-11-16T00:00:00\",\"2020-11-17T00:00:00\",\"2020-11-18T00:00:00\",\"2020-11-19T00:00:00\",\"2020-11-20T00:00:00\",\"2020-11-21T00:00:00\",\"2020-11-22T00:00:00\",\"2020-11-23T00:00:00\",\"2020-11-24T00:00:00\",\"2020-11-25T00:00:00\",\"2020-11-26T00:00:00\",\"2020-11-27T00:00:00\",\"2020-11-28T00:00:00\",\"2020-11-29T00:00:00\",\"2020-11-30T00:00:00\",\"2020-12-01T00:00:00\",\"2020-12-02T00:00:00\",\"2020-12-03T00:00:00\",\"2020-12-04T00:00:00\",\"2020-12-05T00:00:00\",\"2020-12-06T00:00:00\",\"2020-12-07T00:00:00\",\"2020-12-08T00:00:00\",\"2020-12-09T00:00:00\",\"2020-12-10T00:00:00\",\"2020-12-11T00:00:00\",\"2020-12-12T00:00:00\",\"2020-12-13T00:00:00\",\"2020-12-14T00:00:00\",\"2020-12-15T00:00:00\",\"2020-12-16T00:00:00\",\"2020-12-17T00:00:00\",\"2020-12-18T00:00:00\",\"2020-12-19T00:00:00\",\"2020-12-20T00:00:00\",\"2020-12-21T00:00:00\",\"2020-12-22T00:00:00\",\"2020-12-23T00:00:00\",\"2020-12-24T00:00:00\",\"2020-12-25T00:00:00\",\"2020-12-26T00:00:00\",\"2020-12-27T00:00:00\",\"2020-12-28T00:00:00\",\"2020-12-29T00:00:00\",\"2020-12-30T00:00:00\",\"2020-12-31T00:00:00\"],\"y\":[\"1900-01-02T06:30:00\",\"1900-01-02T08:12:00\",\"1900-01-02T06:30:00\",\"1900-01-02T06:30:00\",\"1900-01-02T06:45:00\",\"1900-01-02T06:15:00\",\"1900-01-02T07:45:00\",\"1900-01-02T07:30:00\",\"1900-01-02T07:00:00\",\"1900-01-02T06:00:00\",\"1900-01-02T07:00:00\",\"1900-01-02T07:30:00\",\"1900-01-02T08:00:00\",\"1900-01-02T06:10:00\",\"1900-01-02T06:10:00\",\"1900-01-02T08:30:00\",\"1900-01-02T08:30:00\",\"1900-01-02T07:40:00\",\"1900-01-02T06:30:00\",\"1900-01-02T08:00:00\",\"1900-01-02T07:15:00\",\"1900-01-02T06:00:00\",\"1900-01-02T06:00:00\",\"1900-01-02T06:00:00\",\"1900-01-02T06:45:00\",\"1900-01-02T06:30:00\",\"1900-01-02T07:07:00\",\"1900-01-02T06:20:00\",\"1900-01-02T06:00:00\",\"1900-01-02T07:00:00\",\"1900-01-02T05:30:00\",\"1900-01-02T07:30:00\",\"1900-01-02T07:30:00\",\"1900-01-02T06:45:00\",\"1900-01-02T06:00:00\",\"1900-01-02T06:00:00\",\"1900-01-02T06:00:00\",\"1900-01-02T06:00:00\",\"1900-01-02T06:00:00\",\"1900-01-02T06:00:00\",\"1900-01-02T08:07:00\",\"1900-01-02T06:00:00\",\"1900-01-02T06:00:00\",\"1900-01-02T06:00:00\",\"1900-01-02T06:00:00\",\"1900-01-02T06:00:00\",\"1900-01-02T07:51:00\",\"1900-01-02T06:00:00\",\"1900-01-02T06:00:00\",\"1900-01-02T07:00:00\",\"1900-01-02T06:00:00\",\"1900-01-02T06:00:00\",\"1900-01-02T06:00:00\",\"1900-01-02T06:00:00\",\"1900-01-02T06:00:00\",\"1900-01-02T06:00:00\",\"1900-01-02T06:00:00\",\"1900-01-02T06:00:00\",\"1900-01-02T06:00:00\",\"1900-01-02T06:00:00\",\"1900-01-02T07:00:00\",\"1900-01-02T07:50:00\",\"1900-01-02T06:00:00\",\"1900-01-02T06:00:00\",\"1900-01-02T06:00:00\",\"1900-01-02T06:00:00\",\"1900-01-02T06:00:00\",\"1900-01-02T06:00:00\",\"1900-01-02T06:00:00\",\"1900-01-02T06:00:00\",\"1900-01-02T06:00:00\",\"1900-01-02T06:00:00\",\"1900-01-02T06:00:00\",\"1900-01-02T06:00:00\",\"1900-01-02T06:00:00\",\"1900-01-02T06:00:00\",\"1900-01-02T07:03:00\",\"1900-01-02T06:00:00\",\"1900-01-02T06:00:00\",\"1900-01-02T06:00:00\",\"1900-01-02T06:00:00\",\"1900-01-02T07:00:00\",\"1900-01-02T06:00:00\",\"1900-01-02T06:00:00\",\"1900-01-02T06:00:00\",\"1900-01-02T06:00:00\",\"1900-01-02T06:00:00\",\"1900-01-02T06:00:00\",\"1900-01-02T06:00:00\",\"1900-01-02T06:00:00\",\"1900-01-02T06:03:00\",\"1900-01-02T06:00:00\",\"1900-01-02T06:00:00\",\"1900-01-02T06:00:00\",\"1900-01-02T06:00:00\",\"1900-01-02T06:00:00\",\"1900-01-02T06:00:00\",\"1900-01-02T07:12:00\",\"1900-01-02T06:00:00\",\"1900-01-02T06:00:00\",\"1900-01-02T06:00:00\",\"1900-01-02T07:00:00\",\"1900-01-02T06:00:00\",\"1900-01-02T07:00:00\",\"1900-01-02T06:00:00\",\"1900-01-02T06:00:00\",\"1900-01-02T06:00:00\",\"1900-01-02T06:00:00\",\"1900-01-02T06:00:00\",\"1900-01-02T06:00:00\",\"1900-01-02T06:00:00\",\"1900-01-02T06:00:00\",\"1900-01-02T07:43:00\",\"1900-01-02T06:00:00\",\"1900-01-02T07:06:00\",\"1900-01-02T06:00:00\",\"1900-01-02T07:00:00\",\"1900-01-02T06:36:00\",\"1900-01-02T06:00:00\",\"1900-01-02T06:00:00\",\"1900-01-02T06:00:00\",\"1900-01-02T07:00:00\",\"1900-01-02T07:00:00\",\"1900-01-02T07:00:00\",\"1900-01-02T07:00:00\",\"1900-01-02T07:00:00\",\"1900-01-02T07:00:00\",\"1900-01-02T06:38:00\",\"1900-01-02T06:54:00\",\"1900-01-02T06:00:00\",\"1900-01-02T07:00:00\",\"1900-01-02T07:00:00\",\"1900-01-02T07:00:00\",\"1900-01-02T07:00:00\",\"1900-01-02T07:00:00\",\"1900-01-02T07:00:00\",\"1900-01-02T07:00:00\",\"1900-01-02T07:00:00\",\"1900-01-02T07:00:00\",\"1900-01-02T07:00:00\",\"1900-01-02T07:00:00\",\"1900-01-02T07:00:00\",\"1900-01-02T07:00:00\",\"1900-01-02T07:00:00\",\"1900-01-02T07:00:00\",\"1900-01-02T07:00:00\",\"1900-01-02T07:00:00\",\"1900-01-02T05:38:00\",\"1900-01-02T06:00:00\",\"1900-01-02T06:00:00\",\"1900-01-02T05:36:00\",\"1900-01-02T07:00:00\",\"1900-01-02T07:00:00\",\"1900-01-02T07:00:00\",\"1900-01-02T07:00:00\",\"1900-01-02T06:37:00\",\"1900-01-02T06:24:00\",\"1900-01-02T07:00:00\",\"1900-01-02T06:24:00\",\"1900-01-02T07:00:00\",\"1900-01-02T07:00:00\",\"1900-01-02T07:00:00\",\"1900-01-02T07:00:00\",\"1900-01-02T07:00:00\",\"1900-01-02T07:00:00\",\"1900-01-02T07:15:00\",\"1900-01-02T07:00:00\",\"1900-01-02T07:00:00\",\"1900-01-02T07:00:00\",\"1900-01-02T07:00:00\",\"1900-01-02T07:00:00\",\"1900-01-02T07:00:00\",\"1900-01-02T07:00:00\",\"1900-01-02T07:00:00\",\"1900-01-02T07:00:00\",\"1900-01-02T07:00:00\",\"1900-01-02T07:00:00\",\"1900-01-02T06:40:00\",\"1900-01-02T07:00:00\",\"1900-01-02T07:00:00\",\"1900-01-02T07:00:00\",\"1900-01-02T06:30:00\",\"1900-01-02T06:30:00\",\"1900-01-02T06:30:00\",\"1900-01-02T06:30:00\",\"1900-01-02T06:30:00\",\"1900-01-02T06:30:00\",\"1900-01-02T06:30:00\",\"1900-01-02T06:30:00\",\"1900-01-02T06:30:00\",\"1900-01-02T06:30:00\",\"1900-01-02T06:30:00\",\"1900-01-02T06:20:00\",\"1900-01-02T06:20:00\",\"1900-01-02T06:30:00\",\"1900-01-02T06:30:00\",\"1900-01-02T06:30:00\",\"1900-01-02T06:30:00\",\"1900-01-02T06:30:00\",\"1900-01-02T06:30:00\",\"1900-01-02T06:13:00\",\"1900-01-02T06:30:00\",\"1900-01-02T06:18:00\",\"1900-01-02T06:21:00\",\"1900-01-02T06:30:00\",\"1900-01-02T06:13:00\",\"1900-01-02T06:30:00\",\"1900-01-02T06:30:00\",\"1900-01-02T06:30:00\",\"1900-01-02T06:30:00\",\"1900-01-02T06:20:00\",\"1900-01-02T06:30:00\",\"1900-01-02T06:30:00\",\"1900-01-02T06:30:00\",\"1900-01-02T06:30:00\",\"1900-01-02T06:30:00\",\"1900-01-02T06:10:00\",\"1900-01-02T06:10:00\",\"1900-01-02T06:10:00\",\"1900-01-02T06:10:00\",\"1900-01-02T06:10:00\",\"1900-01-02T06:30:00\",\"1900-01-02T06:22:00\",\"1900-01-02T06:30:00\",\"1900-01-02T06:30:00\",\"1900-01-02T06:30:00\",\"1900-01-02T06:30:00\",\"1900-01-02T06:30:00\",\"1900-01-02T06:30:00\",\"1900-01-02T07:50:00\",\"1900-01-02T06:10:00\",\"1900-01-02T06:10:00\",\"1900-01-02T06:10:00\",\"1900-01-02T06:10:00\",\"1900-01-02T06:10:00\",\"1900-01-02T06:30:00\",\"1900-01-02T06:30:00\",\"1900-01-02T06:30:00\",\"1900-01-02T06:22:00\",\"1900-01-02T06:30:00\",\"1900-01-02T06:30:00\",\"1900-01-02T06:30:00\",\"1900-01-02T06:30:00\",\"1900-01-02T06:30:00\",\"1900-01-02T06:30:00\",\"1900-01-02T06:30:00\",\"1900-01-02T06:30:00\",\"1900-01-02T06:30:00\",\"1900-01-02T06:18:00\",\"1900-01-02T06:30:00\",\"1900-01-02T06:30:00\",\"1900-01-02T06:30:00\",\"1900-01-02T06:11:00\",\"1900-01-02T06:30:00\",\"1900-01-02T06:30:00\",\"1900-01-02T06:30:00\",\"1900-01-02T06:30:00\",\"1900-01-02T05:00:00\",\"1900-01-02T07:00:00\",\"1900-01-02T06:30:00\",\"1900-01-02T08:00:00\",\"1900-01-02T06:30:00\",\"1900-01-02T07:10:00\",\"1900-01-02T07:20:00\",\"1900-01-02T06:30:00\",\"1900-01-02T06:12:00\",\"1900-01-02T06:30:00\",\"1900-01-02T06:30:00\",\"1900-01-02T06:30:00\",\"1900-01-02T06:30:00\",\"1900-01-02T06:30:00\",\"1900-01-02T06:30:00\",\"1900-01-02T06:21:00\",\"1900-01-02T06:30:00\",\"1900-01-02T06:15:00\",\"1900-01-02T06:30:00\",\"1900-01-02T06:30:00\",\"1900-01-02T07:00:00\",\"1900-01-02T06:30:00\",\"1900-01-02T06:30:00\",\"1900-01-02T06:30:00\",\"1900-01-02T06:30:00\",\"1900-01-02T06:30:00\",\"1900-01-02T06:30:00\",\"1900-01-02T06:30:00\",\"1900-01-02T07:00:00\",\"1900-01-02T06:30:00\",\"1900-01-02T06:30:00\",\"1900-01-02T06:30:00\",\"1900-01-02T06:25:00\",\"1900-01-02T06:30:00\",\"1900-01-02T06:30:00\",\"1900-01-02T06:30:00\",\"1900-01-02T06:30:00\",\"1900-01-02T06:30:00\",\"1900-01-02T06:30:00\",\"1900-01-02T06:30:00\",\"1900-01-02T06:00:00\",\"1900-01-02T06:30:00\",\"1900-01-02T05:50:00\",\"1900-01-02T07:00:00\",\"1900-01-02T07:00:00\",\"1900-01-02T06:30:00\",\"1900-01-02T06:30:00\",\"1900-01-02T06:30:00\",\"1900-01-02T07:30:00\",\"1900-01-02T06:30:00\",\"1900-01-02T06:30:00\",\"1900-01-02T06:30:00\",\"1900-01-02T06:30:00\",\"1900-01-02T06:30:00\",\"1900-01-02T06:30:00\",\"1900-01-02T06:30:00\",\"1900-01-02T06:30:00\",\"1900-01-02T06:30:00\",\"1900-01-02T06:30:00\",\"1900-01-02T06:30:00\",\"1900-01-02T06:30:00\",\"1900-01-02T06:30:00\",\"1900-01-02T06:30:00\",\"1900-01-02T06:30:00\",\"1900-01-02T06:30:00\",\"1900-01-02T06:30:00\",\"1900-01-02T06:30:00\",\"1900-01-02T06:45:00\",\"1900-01-02T06:30:00\",\"1900-01-02T06:30:00\",\"1900-01-02T06:30:00\",\"1900-01-02T06:30:00\",\"1900-01-02T06:30:00\",\"1900-01-02T06:30:00\",\"1900-01-02T06:30:00\",\"1900-01-02T06:30:00\",\"1900-01-02T06:30:00\",\"1900-01-02T06:30:00\",\"1900-01-02T06:30:00\",\"1900-01-02T06:30:00\",\"1900-01-02T06:30:00\",\"1900-01-02T06:30:00\",\"1900-01-02T06:30:00\",\"1900-01-02T06:30:00\",\"1900-01-02T06:30:00\",\"1900-01-02T06:33:00\",\"1900-01-02T06:30:00\",\"1900-01-02T06:30:00\",\"1900-01-02T06:30:00\",\"1900-01-02T06:30:00\",\"1900-01-02T06:30:00\",\"1900-01-02T06:30:00\",\"1900-01-02T06:30:00\",\"1900-01-02T06:30:00\",\"1900-01-02T06:30:00\",\"1900-01-02T06:30:00\",\"1900-01-02T06:30:00\",\"1900-01-02T06:30:00\",\"1900-01-02T06:30:00\",\"1900-01-02T06:30:00\",\"1900-01-02T06:20:00\",\"1900-01-02T06:30:00\",\"1900-01-02T06:30:00\",\"1900-01-02T05:40:00\",\"1900-01-02T06:30:00\",\"1900-01-02T06:30:00\",\"1900-01-02T07:00:00\",\"1900-01-02T06:30:00\",\"1900-01-02T08:00:00\",\"1900-01-02T08:00:00\"]},{\"name\":\"Ora a cui ci si \\u00e8 alzati\",\"type\":\"scatter\",\"x\":[\"2019-12-31T00:00:00\",\"2020-01-01T00:00:00\",\"2020-01-02T00:00:00\",\"2020-01-03T00:00:00\",\"2020-01-04T00:00:00\",\"2020-01-05T00:00:00\",\"2020-01-06T00:00:00\",\"2020-01-07T00:00:00\",\"2020-01-08T00:00:00\",\"2020-01-09T00:00:00\",\"2020-01-10T00:00:00\",\"2020-01-11T00:00:00\",\"2020-01-12T00:00:00\",\"2020-01-13T00:00:00\",\"2020-01-14T00:00:00\",\"2020-01-15T00:00:00\",\"2020-01-16T00:00:00\",\"2020-01-17T00:00:00\",\"2020-01-18T00:00:00\",\"2020-01-19T00:00:00\",\"2020-01-20T00:00:00\",\"2020-01-21T00:00:00\",\"2020-01-22T00:00:00\",\"2020-01-23T00:00:00\",\"2020-01-24T00:00:00\",\"2020-01-25T00:00:00\",\"2020-01-26T00:00:00\",\"2020-01-27T00:00:00\",\"2020-01-28T00:00:00\",\"2020-01-29T00:00:00\",\"2020-01-30T00:00:00\",\"2020-01-31T00:00:00\",\"2020-02-01T00:00:00\",\"2020-02-02T00:00:00\",\"2020-02-03T00:00:00\",\"2020-02-04T00:00:00\",\"2020-02-05T00:00:00\",\"2020-02-06T00:00:00\",\"2020-02-07T00:00:00\",\"2020-02-08T00:00:00\",\"2020-02-09T00:00:00\",\"2020-02-10T00:00:00\",\"2020-02-11T00:00:00\",\"2020-02-12T00:00:00\",\"2020-02-13T00:00:00\",\"2020-02-14T00:00:00\",\"2020-02-15T00:00:00\",\"2020-02-16T00:00:00\",\"2020-02-17T00:00:00\",\"2020-02-18T00:00:00\",\"2020-02-19T00:00:00\",\"2020-02-20T00:00:00\",\"2020-02-21T00:00:00\",\"2020-02-22T00:00:00\",\"2020-02-23T00:00:00\",\"2020-02-24T00:00:00\",\"2020-02-25T00:00:00\",\"2020-02-26T00:00:00\",\"2020-02-27T00:00:00\",\"2020-02-28T00:00:00\",\"2020-02-29T00:00:00\",\"2020-03-01T00:00:00\",\"2020-03-02T00:00:00\",\"2020-03-03T00:00:00\",\"2020-03-04T00:00:00\",\"2020-03-05T00:00:00\",\"2020-03-06T00:00:00\",\"2020-03-07T00:00:00\",\"2020-03-08T00:00:00\",\"2020-03-09T00:00:00\",\"2020-03-10T00:00:00\",\"2020-03-11T00:00:00\",\"2020-03-12T00:00:00\",\"2020-03-13T00:00:00\",\"2020-03-14T00:00:00\",\"2020-03-15T00:00:00\",\"2020-03-16T00:00:00\",\"2020-03-17T00:00:00\",\"2020-03-18T00:00:00\",\"2020-03-19T00:00:00\",\"2020-03-20T00:00:00\",\"2020-03-21T00:00:00\",\"2020-03-22T00:00:00\",\"2020-03-23T00:00:00\",\"2020-03-24T00:00:00\",\"2020-03-25T00:00:00\",\"2020-03-26T00:00:00\",\"2020-03-27T00:00:00\",\"2020-03-28T00:00:00\",\"2020-03-29T00:00:00\",\"2020-03-30T00:00:00\",\"2020-03-31T00:00:00\",\"2020-04-01T00:00:00\",\"2020-04-02T00:00:00\",\"2020-04-03T00:00:00\",\"2020-04-04T00:00:00\",\"2020-04-05T00:00:00\",\"2020-04-06T00:00:00\",\"2020-04-07T00:00:00\",\"2020-04-08T00:00:00\",\"2020-04-09T00:00:00\",\"2020-04-10T00:00:00\",\"2020-04-11T00:00:00\",\"2020-04-12T00:00:00\",\"2020-04-13T00:00:00\",\"2020-04-14T00:00:00\",\"2020-04-15T00:00:00\",\"2020-04-16T00:00:00\",\"2020-04-17T00:00:00\",\"2020-04-18T00:00:00\",\"2020-04-19T00:00:00\",\"2020-04-20T00:00:00\",\"2020-04-21T00:00:00\",\"2020-04-22T00:00:00\",\"2020-04-23T00:00:00\",\"2020-04-24T00:00:00\",\"2020-04-25T00:00:00\",\"2020-04-26T00:00:00\",\"2020-04-27T00:00:00\",\"2020-04-28T00:00:00\",\"2020-04-29T00:00:00\",\"2020-04-30T00:00:00\",\"2020-05-01T00:00:00\",\"2020-05-02T00:00:00\",\"2020-05-03T00:00:00\",\"2020-05-04T00:00:00\",\"2020-05-05T00:00:00\",\"2020-05-06T00:00:00\",\"2020-05-07T00:00:00\",\"2020-05-08T00:00:00\",\"2020-05-09T00:00:00\",\"2020-05-10T00:00:00\",\"2020-05-11T00:00:00\",\"2020-05-12T00:00:00\",\"2020-05-13T00:00:00\",\"2020-05-14T00:00:00\",\"2020-05-15T00:00:00\",\"2020-05-16T00:00:00\",\"2020-05-17T00:00:00\",\"2020-05-18T00:00:00\",\"2020-05-19T00:00:00\",\"2020-05-20T00:00:00\",\"2020-05-21T00:00:00\",\"2020-05-22T00:00:00\",\"2020-05-23T00:00:00\",\"2020-05-24T00:00:00\",\"2020-05-25T00:00:00\",\"2020-05-26T00:00:00\",\"2020-05-27T00:00:00\",\"2020-05-28T00:00:00\",\"2020-05-29T00:00:00\",\"2020-05-30T00:00:00\",\"2020-05-31T00:00:00\",\"2020-06-01T00:00:00\",\"2020-06-02T00:00:00\",\"2020-06-03T00:00:00\",\"2020-06-04T00:00:00\",\"2020-06-05T00:00:00\",\"2020-06-06T00:00:00\",\"2020-06-07T00:00:00\",\"2020-06-08T00:00:00\",\"2020-06-09T00:00:00\",\"2020-06-10T00:00:00\",\"2020-06-11T00:00:00\",\"2020-06-12T00:00:00\",\"2020-06-13T00:00:00\",\"2020-06-14T00:00:00\",\"2020-06-15T00:00:00\",\"2020-06-16T00:00:00\",\"2020-06-17T00:00:00\",\"2020-06-18T00:00:00\",\"2020-06-19T00:00:00\",\"2020-06-20T00:00:00\",\"2020-06-21T00:00:00\",\"2020-06-22T00:00:00\",\"2020-06-23T00:00:00\",\"2020-06-24T00:00:00\",\"2020-06-25T00:00:00\",\"2020-06-26T00:00:00\",\"2020-06-27T00:00:00\",\"2020-06-28T00:00:00\",\"2020-06-29T00:00:00\",\"2020-06-30T00:00:00\",\"2020-07-01T00:00:00\",\"2020-07-02T00:00:00\",\"2020-07-03T00:00:00\",\"2020-07-04T00:00:00\",\"2020-07-05T00:00:00\",\"2020-07-06T00:00:00\",\"2020-07-07T00:00:00\",\"2020-07-08T00:00:00\",\"2020-07-09T00:00:00\",\"2020-07-10T00:00:00\",\"2020-07-11T00:00:00\",\"2020-07-12T00:00:00\",\"2020-07-13T00:00:00\",\"2020-07-14T00:00:00\",\"2020-07-15T00:00:00\",\"2020-07-16T00:00:00\",\"2020-07-17T00:00:00\",\"2020-07-18T00:00:00\",\"2020-07-19T00:00:00\",\"2020-07-20T00:00:00\",\"2020-07-21T00:00:00\",\"2020-07-22T00:00:00\",\"2020-07-23T00:00:00\",\"2020-07-24T00:00:00\",\"2020-07-25T00:00:00\",\"2020-07-26T00:00:00\",\"2020-07-27T00:00:00\",\"2020-07-28T00:00:00\",\"2020-07-29T00:00:00\",\"2020-07-30T00:00:00\",\"2020-07-31T00:00:00\",\"2020-08-01T00:00:00\",\"2020-08-02T00:00:00\",\"2020-08-03T00:00:00\",\"2020-08-04T00:00:00\",\"2020-08-05T00:00:00\",\"2020-08-06T00:00:00\",\"2020-08-07T00:00:00\",\"2020-08-08T00:00:00\",\"2020-08-09T00:00:00\",\"2020-08-10T00:00:00\",\"2020-08-11T00:00:00\",\"2020-08-12T00:00:00\",\"2020-08-13T00:00:00\",\"2020-08-14T00:00:00\",\"2020-08-15T00:00:00\",\"2020-08-16T00:00:00\",\"2020-08-17T00:00:00\",\"2020-08-18T00:00:00\",\"2020-08-19T00:00:00\",\"2020-08-20T00:00:00\",\"2020-08-21T00:00:00\",\"2020-08-22T00:00:00\",\"2020-08-23T00:00:00\",\"2020-08-24T00:00:00\",\"2020-08-25T00:00:00\",\"2020-08-26T00:00:00\",\"2020-08-27T00:00:00\",\"2020-08-28T00:00:00\",\"2020-08-29T00:00:00\",\"2020-08-30T00:00:00\",\"2020-08-31T00:00:00\",\"2020-09-01T00:00:00\",\"2020-09-02T00:00:00\",\"2020-09-03T00:00:00\",\"2020-09-04T00:00:00\",\"2020-09-05T00:00:00\",\"2020-09-06T00:00:00\",\"2020-09-07T00:00:00\",\"2020-09-08T00:00:00\",\"2020-09-09T00:00:00\",\"2020-09-10T00:00:00\",\"2020-09-11T00:00:00\",\"2020-09-12T00:00:00\",\"2020-09-13T00:00:00\",\"2020-09-14T00:00:00\",\"2020-09-15T00:00:00\",\"2020-09-16T00:00:00\",\"2020-09-17T00:00:00\",\"2020-09-18T00:00:00\",\"2020-09-19T00:00:00\",\"2020-09-20T00:00:00\",\"2020-09-21T00:00:00\",\"2020-09-22T00:00:00\",\"2020-09-23T00:00:00\",\"2020-09-24T00:00:00\",\"2020-09-25T00:00:00\",\"2020-09-26T00:00:00\",\"2020-09-27T00:00:00\",\"2020-09-28T00:00:00\",\"2020-09-29T00:00:00\",\"2020-09-30T00:00:00\",\"2020-10-01T00:00:00\",\"2020-10-02T00:00:00\",\"2020-10-03T00:00:00\",\"2020-10-04T00:00:00\",\"2020-10-05T00:00:00\",\"2020-10-06T00:00:00\",\"2020-10-07T00:00:00\",\"2020-10-08T00:00:00\",\"2020-10-09T00:00:00\",\"2020-10-10T00:00:00\",\"2020-10-11T00:00:00\",\"2020-10-12T00:00:00\",\"2020-10-13T00:00:00\",\"2020-10-14T00:00:00\",\"2020-10-15T00:00:00\",\"2020-10-16T00:00:00\",\"2020-10-17T00:00:00\",\"2020-10-18T00:00:00\",\"2020-10-19T00:00:00\",\"2020-10-20T00:00:00\",\"2020-10-21T00:00:00\",\"2020-10-22T00:00:00\",\"2020-10-23T00:00:00\",\"2020-10-24T00:00:00\",\"2020-10-25T00:00:00\",\"2020-10-26T00:00:00\",\"2020-10-27T00:00:00\",\"2020-10-28T00:00:00\",\"2020-10-29T00:00:00\",\"2020-10-30T00:00:00\",\"2020-10-31T00:00:00\",\"2020-11-01T00:00:00\",\"2020-11-02T00:00:00\",\"2020-11-03T00:00:00\",\"2020-11-04T00:00:00\",\"2020-11-05T00:00:00\",\"2020-11-06T00:00:00\",\"2020-11-07T00:00:00\",\"2020-11-08T00:00:00\",\"2020-11-09T00:00:00\",\"2020-11-10T00:00:00\",\"2020-11-11T00:00:00\",\"2020-11-12T00:00:00\",\"2020-11-13T00:00:00\",\"2020-11-14T00:00:00\",\"2020-11-15T00:00:00\",\"2020-11-16T00:00:00\",\"2020-11-17T00:00:00\",\"2020-11-18T00:00:00\",\"2020-11-19T00:00:00\",\"2020-11-20T00:00:00\",\"2020-11-21T00:00:00\",\"2020-11-22T00:00:00\",\"2020-11-23T00:00:00\",\"2020-11-24T00:00:00\",\"2020-11-25T00:00:00\",\"2020-11-26T00:00:00\",\"2020-11-27T00:00:00\",\"2020-11-28T00:00:00\",\"2020-11-29T00:00:00\",\"2020-11-30T00:00:00\",\"2020-12-01T00:00:00\",\"2020-12-02T00:00:00\",\"2020-12-03T00:00:00\",\"2020-12-04T00:00:00\",\"2020-12-05T00:00:00\",\"2020-12-06T00:00:00\",\"2020-12-07T00:00:00\",\"2020-12-08T00:00:00\",\"2020-12-09T00:00:00\",\"2020-12-10T00:00:00\",\"2020-12-11T00:00:00\",\"2020-12-12T00:00:00\",\"2020-12-13T00:00:00\",\"2020-12-14T00:00:00\",\"2020-12-15T00:00:00\",\"2020-12-16T00:00:00\",\"2020-12-17T00:00:00\",\"2020-12-18T00:00:00\",\"2020-12-19T00:00:00\",\"2020-12-20T00:00:00\",\"2020-12-21T00:00:00\",\"2020-12-22T00:00:00\",\"2020-12-23T00:00:00\",\"2020-12-24T00:00:00\",\"2020-12-25T00:00:00\",\"2020-12-26T00:00:00\",\"2020-12-27T00:00:00\",\"2020-12-28T00:00:00\",\"2020-12-29T00:00:00\",\"2020-12-30T00:00:00\",\"2020-12-31T00:00:00\"],\"y\":[\"1900-01-02T06:30:00\",\"1900-01-02T08:12:00\",\"1900-01-02T06:30:00\",\"1900-01-02T06:30:00\",\"1900-01-02T06:45:00\",\"1900-01-02T06:15:00\",\"1900-01-02T07:45:00\",\"1900-01-02T07:30:00\",\"1900-01-02T07:00:00\",\"1900-01-02T06:00:00\",\"1900-01-02T07:00:00\",\"1900-01-02T07:30:00\",\"1900-01-02T08:00:00\",\"1900-01-02T06:10:00\",\"1900-01-02T06:10:00\",\"1900-01-02T08:30:00\",\"1900-01-02T08:30:00\",\"1900-01-02T07:40:00\",\"1900-01-02T06:30:00\",\"1900-01-02T08:00:00\",\"1900-01-02T07:15:00\",\"1900-01-02T06:00:00\",\"1900-01-02T06:00:00\",\"1900-01-02T06:00:00\",\"1900-01-02T06:45:00\",\"1900-01-02T06:30:00\",\"1900-01-02T07:07:00\",\"1900-01-02T06:20:00\",\"1900-01-02T06:00:00\",\"1900-01-02T07:00:00\",\"1900-01-02T06:00:00\",\"1900-01-02T07:30:00\",\"1900-01-02T07:30:00\",\"1900-01-02T06:45:00\",\"1900-01-02T06:00:00\",\"1900-01-02T06:00:00\",\"1900-01-02T06:00:00\",\"1900-01-02T06:00:00\",\"1900-01-02T06:00:00\",\"1900-01-02T06:00:00\",\"1900-01-02T08:16:00\",\"1900-01-02T06:00:00\",\"1900-01-02T06:00:00\",\"1900-01-02T06:00:00\",\"1900-01-02T06:00:00\",\"1900-01-02T06:00:00\",\"1900-01-02T07:56:00\",\"1900-01-02T06:00:00\",\"1900-01-02T06:00:00\",\"1900-01-02T07:00:00\",\"1900-01-02T06:00:00\",\"1900-01-02T06:00:00\",\"1900-01-02T06:00:00\",\"1900-01-02T06:00:00\",\"1900-01-02T06:00:00\",\"1900-01-02T06:00:00\",\"1900-01-02T06:00:00\",\"1900-01-02T06:00:00\",\"1900-01-02T06:00:00\",\"1900-01-02T06:00:00\",\"1900-01-02T07:00:00\",\"1900-01-02T07:55:00\",\"1900-01-02T06:00:00\",\"1900-01-02T06:00:00\",\"1900-01-02T06:00:00\",\"1900-01-02T06:00:00\",\"1900-01-02T06:00:00\",\"1900-01-02T06:00:00\",\"1900-01-02T06:00:00\",\"1900-01-02T06:00:00\",\"1900-01-02T06:00:00\",\"1900-01-02T06:00:00\",\"1900-01-02T06:00:00\",\"1900-01-02T06:00:00\",\"1900-01-02T06:00:00\",\"1900-01-02T06:00:00\",\"1900-01-02T07:03:00\",\"1900-01-02T06:00:00\",\"1900-01-02T06:00:00\",\"1900-01-02T06:00:00\",\"1900-01-02T06:00:00\",\"1900-01-02T07:00:00\",\"1900-01-02T06:00:00\",\"1900-01-02T06:00:00\",\"1900-01-02T06:00:00\",\"1900-01-02T06:00:00\",\"1900-01-02T06:00:00\",\"1900-01-02T06:00:00\",\"1900-01-02T06:00:00\",\"1900-01-02T06:00:00\",\"1900-01-02T06:10:00\",\"1900-01-02T06:00:00\",\"1900-01-02T06:00:00\",\"1900-01-02T06:00:00\",\"1900-01-02T06:00:00\",\"1900-01-02T06:00:00\",\"1900-01-02T06:00:00\",\"1900-01-02T07:12:00\",\"1900-01-02T06:00:00\",\"1900-01-02T06:00:00\",\"1900-01-02T06:00:00\",\"1900-01-02T07:00:00\",\"1900-01-02T06:00:00\",\"1900-01-02T07:00:00\",\"1900-01-02T06:00:00\",\"1900-01-02T06:00:00\",\"1900-01-02T06:00:00\",\"1900-01-02T06:00:00\",\"1900-01-02T06:00:00\",\"1900-01-02T06:00:00\",\"1900-01-02T06:00:00\",\"1900-01-02T06:00:00\",\"1900-01-02T07:43:00\",\"1900-01-02T06:00:00\",\"1900-01-02T07:06:00\",\"1900-01-02T06:00:00\",\"1900-01-02T07:00:00\",\"1900-01-02T06:36:00\",\"1900-01-02T06:00:00\",\"1900-01-02T06:00:00\",\"1900-01-02T06:00:00\",\"1900-01-02T07:00:00\",\"1900-01-02T07:00:00\",\"1900-01-02T07:00:00\",\"1900-01-02T07:00:00\",\"1900-01-02T07:00:00\",\"1900-01-02T07:00:00\",\"1900-01-02T07:00:00\",\"1900-01-02T07:00:00\",\"1900-01-02T06:00:00\",\"1900-01-02T07:00:00\",\"1900-01-02T07:00:00\",\"1900-01-02T07:00:00\",\"1900-01-02T07:00:00\",\"1900-01-02T07:00:00\",\"1900-01-02T07:00:00\",\"1900-01-02T07:00:00\",\"1900-01-02T07:00:00\",\"1900-01-02T07:00:00\",\"1900-01-02T07:00:00\",\"1900-01-02T07:00:00\",\"1900-01-02T07:00:00\",\"1900-01-02T07:00:00\",\"1900-01-02T07:00:00\",\"1900-01-02T07:00:00\",\"1900-01-02T07:00:00\",\"1900-01-02T07:00:00\",\"1900-01-02T05:43:00\",\"1900-01-02T06:00:00\",\"1900-01-02T06:00:00\",\"1900-01-02T05:43:00\",\"1900-01-02T07:00:00\",\"1900-01-02T07:00:00\",\"1900-01-02T07:00:00\",\"1900-01-02T07:00:00\",\"1900-01-02T06:37:00\",\"1900-01-02T06:24:00\",\"1900-01-02T07:00:00\",\"1900-01-02T06:24:00\",\"1900-01-02T07:00:00\",\"1900-01-02T07:00:00\",\"1900-01-02T07:00:00\",\"1900-01-02T07:00:00\",\"1900-01-02T07:00:00\",\"1900-01-02T07:00:00\",\"1900-01-02T07:15:00\",\"1900-01-02T07:00:00\",\"1900-01-02T07:00:00\",\"1900-01-02T07:00:00\",\"1900-01-02T07:00:00\",\"1900-01-02T07:00:00\",\"1900-01-02T07:00:00\",\"1900-01-02T07:00:00\",\"1900-01-02T07:00:00\",\"1900-01-02T07:00:00\",\"1900-01-02T07:00:00\",\"1900-01-02T07:00:00\",\"1900-01-02T06:55:00\",\"1900-01-02T07:00:00\",\"1900-01-02T07:00:00\",\"1900-01-02T07:00:00\",\"1900-01-02T06:30:00\",\"1900-01-02T06:30:00\",\"1900-01-02T06:30:00\",\"1900-01-02T06:30:00\",\"1900-01-02T06:30:00\",\"1900-01-02T06:30:00\",\"1900-01-02T06:30:00\",\"1900-01-02T06:30:00\",\"1900-01-02T06:30:00\",\"1900-01-02T06:30:00\",\"1900-01-02T06:30:00\",\"1900-01-02T06:20:00\",\"1900-01-02T06:24:00\",\"1900-01-02T06:30:00\",\"1900-01-02T06:30:00\",\"1900-01-02T06:30:00\",\"1900-01-02T06:30:00\",\"1900-01-02T06:30:00\",\"1900-01-02T06:30:00\",\"1900-01-02T06:13:00\",\"1900-01-02T06:30:00\",\"1900-01-02T06:30:00\",\"1900-01-02T06:30:00\",\"1900-01-02T06:30:00\",\"1900-01-02T06:13:00\",\"1900-01-02T06:30:00\",\"1900-01-02T06:30:00\",\"1900-01-02T06:30:00\",\"1900-01-02T06:30:00\",\"1900-01-02T06:30:00\",\"1900-01-02T06:30:00\",\"1900-01-02T06:30:00\",\"1900-01-02T06:30:00\",\"1900-01-02T06:30:00\",\"1900-01-02T06:30:00\",\"1900-01-02T06:10:00\",\"1900-01-02T06:10:00\",\"1900-01-02T06:10:00\",\"1900-01-02T06:10:00\",\"1900-01-02T06:10:00\",\"1900-01-02T06:30:00\",\"1900-01-02T06:30:00\",\"1900-01-02T06:30:00\",\"1900-01-02T06:30:00\",\"1900-01-02T06:30:00\",\"1900-01-02T06:30:00\",\"1900-01-02T06:30:00\",\"1900-01-02T06:30:00\",\"1900-01-02T08:00:00\",\"1900-01-02T06:10:00\",\"1900-01-02T06:10:00\",\"1900-01-02T06:10:00\",\"1900-01-02T06:10:00\",\"1900-01-02T06:10:00\",\"1900-01-02T06:30:00\",\"1900-01-02T06:30:00\",\"1900-01-02T06:30:00\",\"1900-01-02T06:29:00\",\"1900-01-02T06:30:00\",\"1900-01-02T06:30:00\",\"1900-01-02T06:30:00\",\"1900-01-02T06:30:00\",\"1900-01-02T06:30:00\",\"1900-01-02T06:30:00\",\"1900-01-02T06:30:00\",\"1900-01-02T06:30:00\",\"1900-01-02T06:30:00\",\"1900-01-02T06:29:00\",\"1900-01-02T06:30:00\",\"1900-01-02T06:30:00\",\"1900-01-02T06:30:00\",\"1900-01-02T06:14:00\",\"1900-01-02T06:30:00\",\"1900-01-02T06:30:00\",\"1900-01-02T06:30:00\",\"1900-01-02T06:30:00\",\"1900-01-02T05:00:00\",\"1900-01-02T07:30:00\",\"1900-01-02T06:30:00\",\"1900-01-02T08:00:00\",\"1900-01-02T06:30:00\",\"1900-01-02T07:23:00\",\"1900-01-02T07:20:00\",\"1900-01-02T06:30:00\",\"1900-01-02T06:30:00\",\"1900-01-02T06:30:00\",\"1900-01-02T06:30:00\",\"1900-01-02T06:30:00\",\"1900-01-02T06:30:00\",\"1900-01-02T06:30:00\",\"1900-01-02T06:30:00\",\"1900-01-02T06:21:00\",\"1900-01-02T06:30:00\",\"1900-01-02T06:30:00\",\"1900-01-02T06:30:00\",\"1900-01-02T06:30:00\",\"1900-01-02T07:00:00\",\"1900-01-02T06:30:00\",\"1900-01-02T06:30:00\",\"1900-01-02T06:30:00\",\"1900-01-02T06:30:00\",\"1900-01-02T06:30:00\",\"1900-01-02T06:30:00\",\"1900-01-02T06:30:00\",\"1900-01-02T07:00:00\",\"1900-01-02T06:30:00\",\"1900-01-02T06:30:00\",\"1900-01-02T06:30:00\",\"1900-01-02T06:30:00\",\"1900-01-02T06:30:00\",\"1900-01-02T06:30:00\",\"1900-01-02T06:30:00\",\"1900-01-02T06:30:00\",\"1900-01-02T06:30:00\",\"1900-01-02T06:30:00\",\"1900-01-02T06:30:00\",\"1900-01-02T06:30:00\",\"1900-01-02T06:30:00\",\"1900-01-02T05:50:00\",\"1900-01-02T07:00:00\",\"1900-01-02T07:00:00\",\"1900-01-02T06:30:00\",\"1900-01-02T06:30:00\",\"1900-01-02T06:30:00\",\"1900-01-02T07:30:00\",\"1900-01-02T06:30:00\",\"1900-01-02T06:30:00\",\"1900-01-02T06:30:00\",\"1900-01-02T06:30:00\",\"1900-01-02T06:30:00\",\"1900-01-02T06:30:00\",\"1900-01-02T06:30:00\",\"1900-01-02T06:30:00\",\"1900-01-02T06:30:00\",\"1900-01-02T06:30:00\",\"1900-01-02T06:30:00\",\"1900-01-02T06:30:00\",\"1900-01-02T06:30:00\",\"1900-01-02T06:30:00\",\"1900-01-02T06:30:00\",\"1900-01-02T06:30:00\",\"1900-01-02T06:32:00\",\"1900-01-02T06:30:00\",\"1900-01-02T06:45:00\",\"1900-01-02T06:30:00\",\"1900-01-02T06:30:00\",\"1900-01-02T06:30:00\",\"1900-01-02T06:30:00\",\"1900-01-02T06:30:00\",\"1900-01-02T06:30:00\",\"1900-01-02T06:30:00\",\"1900-01-02T06:30:00\",\"1900-01-02T06:30:00\",\"1900-01-02T06:30:00\",\"1900-01-02T06:30:00\",\"1900-01-02T06:30:00\",\"1900-01-02T06:30:00\",\"1900-01-02T06:30:00\",\"1900-01-02T06:30:00\",\"1900-01-02T06:30:00\",\"1900-01-02T06:30:00\",\"1900-01-02T06:33:00\",\"1900-01-02T06:30:00\",\"1900-01-02T06:30:00\",\"1900-01-02T06:30:00\",\"1900-01-02T06:30:00\",\"1900-01-02T06:30:00\",\"1900-01-02T06:30:00\",\"1900-01-02T06:30:00\",\"1900-01-02T06:30:00\",\"1900-01-02T06:30:00\",\"1900-01-02T06:30:00\",\"1900-01-02T06:30:00\",\"1900-01-02T06:30:00\",\"1900-01-02T06:30:00\",\"1900-01-02T06:30:00\",\"1900-01-02T06:20:00\",\"1900-01-02T06:30:00\",\"1900-01-02T06:30:00\",\"1900-01-02T06:30:00\",\"1900-01-02T06:30:00\",\"1900-01-02T06:30:00\",\"1900-01-02T07:20:00\",\"1900-01-02T07:00:00\",\"1900-01-02T08:15:00\",\"1900-01-02T08:00:00\"]}],                        {\"autosize\":false,\"height\":500,\"legend\":{\"title\":{\"text\":\"Tempo\"},\"x\":0.0,\"xanchor\":\"left\",\"y\":1.4,\"yanchor\":\"top\"},\"margin\":{\"b\":20,\"l\":50,\"pad\":4,\"r\":50,\"t\":20},\"paper_bgcolor\":\"LightSteelBlue\",\"template\":{\"data\":{\"bar\":[{\"error_x\":{\"color\":\"#2a3f5f\"},\"error_y\":{\"color\":\"#2a3f5f\"},\"marker\":{\"line\":{\"color\":\"#E5ECF6\",\"width\":0.5},\"pattern\":{\"fillmode\":\"overlay\",\"size\":10,\"solidity\":0.2}},\"type\":\"bar\"}],\"barpolar\":[{\"marker\":{\"line\":{\"color\":\"#E5ECF6\",\"width\":0.5},\"pattern\":{\"fillmode\":\"overlay\",\"size\":10,\"solidity\":0.2}},\"type\":\"barpolar\"}],\"carpet\":[{\"aaxis\":{\"endlinecolor\":\"#2a3f5f\",\"gridcolor\":\"white\",\"linecolor\":\"white\",\"minorgridcolor\":\"white\",\"startlinecolor\":\"#2a3f5f\"},\"baxis\":{\"endlinecolor\":\"#2a3f5f\",\"gridcolor\":\"white\",\"linecolor\":\"white\",\"minorgridcolor\":\"white\",\"startlinecolor\":\"#2a3f5f\"},\"type\":\"carpet\"}],\"choropleth\":[{\"colorbar\":{\"outlinewidth\":0,\"ticks\":\"\"},\"type\":\"choropleth\"}],\"contour\":[{\"colorbar\":{\"outlinewidth\":0,\"ticks\":\"\"},\"colorscale\":[[0.0,\"#0d0887\"],[0.1111111111111111,\"#46039f\"],[0.2222222222222222,\"#7201a8\"],[0.3333333333333333,\"#9c179e\"],[0.4444444444444444,\"#bd3786\"],[0.5555555555555556,\"#d8576b\"],[0.6666666666666666,\"#ed7953\"],[0.7777777777777778,\"#fb9f3a\"],[0.8888888888888888,\"#fdca26\"],[1.0,\"#f0f921\"]],\"type\":\"contour\"}],\"contourcarpet\":[{\"colorbar\":{\"outlinewidth\":0,\"ticks\":\"\"},\"type\":\"contourcarpet\"}],\"heatmap\":[{\"colorbar\":{\"outlinewidth\":0,\"ticks\":\"\"},\"colorscale\":[[0.0,\"#0d0887\"],[0.1111111111111111,\"#46039f\"],[0.2222222222222222,\"#7201a8\"],[0.3333333333333333,\"#9c179e\"],[0.4444444444444444,\"#bd3786\"],[0.5555555555555556,\"#d8576b\"],[0.6666666666666666,\"#ed7953\"],[0.7777777777777778,\"#fb9f3a\"],[0.8888888888888888,\"#fdca26\"],[1.0,\"#f0f921\"]],\"type\":\"heatmap\"}],\"heatmapgl\":[{\"colorbar\":{\"outlinewidth\":0,\"ticks\":\"\"},\"colorscale\":[[0.0,\"#0d0887\"],[0.1111111111111111,\"#46039f\"],[0.2222222222222222,\"#7201a8\"],[0.3333333333333333,\"#9c179e\"],[0.4444444444444444,\"#bd3786\"],[0.5555555555555556,\"#d8576b\"],[0.6666666666666666,\"#ed7953\"],[0.7777777777777778,\"#fb9f3a\"],[0.8888888888888888,\"#fdca26\"],[1.0,\"#f0f921\"]],\"type\":\"heatmapgl\"}],\"histogram\":[{\"marker\":{\"pattern\":{\"fillmode\":\"overlay\",\"size\":10,\"solidity\":0.2}},\"type\":\"histogram\"}],\"histogram2d\":[{\"colorbar\":{\"outlinewidth\":0,\"ticks\":\"\"},\"colorscale\":[[0.0,\"#0d0887\"],[0.1111111111111111,\"#46039f\"],[0.2222222222222222,\"#7201a8\"],[0.3333333333333333,\"#9c179e\"],[0.4444444444444444,\"#bd3786\"],[0.5555555555555556,\"#d8576b\"],[0.6666666666666666,\"#ed7953\"],[0.7777777777777778,\"#fb9f3a\"],[0.8888888888888888,\"#fdca26\"],[1.0,\"#f0f921\"]],\"type\":\"histogram2d\"}],\"histogram2dcontour\":[{\"colorbar\":{\"outlinewidth\":0,\"ticks\":\"\"},\"colorscale\":[[0.0,\"#0d0887\"],[0.1111111111111111,\"#46039f\"],[0.2222222222222222,\"#7201a8\"],[0.3333333333333333,\"#9c179e\"],[0.4444444444444444,\"#bd3786\"],[0.5555555555555556,\"#d8576b\"],[0.6666666666666666,\"#ed7953\"],[0.7777777777777778,\"#fb9f3a\"],[0.8888888888888888,\"#fdca26\"],[1.0,\"#f0f921\"]],\"type\":\"histogram2dcontour\"}],\"mesh3d\":[{\"colorbar\":{\"outlinewidth\":0,\"ticks\":\"\"},\"type\":\"mesh3d\"}],\"parcoords\":[{\"line\":{\"colorbar\":{\"outlinewidth\":0,\"ticks\":\"\"}},\"type\":\"parcoords\"}],\"pie\":[{\"automargin\":true,\"type\":\"pie\"}],\"scatter\":[{\"marker\":{\"colorbar\":{\"outlinewidth\":0,\"ticks\":\"\"}},\"type\":\"scatter\"}],\"scatter3d\":[{\"line\":{\"colorbar\":{\"outlinewidth\":0,\"ticks\":\"\"}},\"marker\":{\"colorbar\":{\"outlinewidth\":0,\"ticks\":\"\"}},\"type\":\"scatter3d\"}],\"scattercarpet\":[{\"marker\":{\"colorbar\":{\"outlinewidth\":0,\"ticks\":\"\"}},\"type\":\"scattercarpet\"}],\"scattergeo\":[{\"marker\":{\"colorbar\":{\"outlinewidth\":0,\"ticks\":\"\"}},\"type\":\"scattergeo\"}],\"scattergl\":[{\"marker\":{\"colorbar\":{\"outlinewidth\":0,\"ticks\":\"\"}},\"type\":\"scattergl\"}],\"scattermapbox\":[{\"marker\":{\"colorbar\":{\"outlinewidth\":0,\"ticks\":\"\"}},\"type\":\"scattermapbox\"}],\"scatterpolar\":[{\"marker\":{\"colorbar\":{\"outlinewidth\":0,\"ticks\":\"\"}},\"type\":\"scatterpolar\"}],\"scatterpolargl\":[{\"marker\":{\"colorbar\":{\"outlinewidth\":0,\"ticks\":\"\"}},\"type\":\"scatterpolargl\"}],\"scatterternary\":[{\"marker\":{\"colorbar\":{\"outlinewidth\":0,\"ticks\":\"\"}},\"type\":\"scatterternary\"}],\"surface\":[{\"colorbar\":{\"outlinewidth\":0,\"ticks\":\"\"},\"colorscale\":[[0.0,\"#0d0887\"],[0.1111111111111111,\"#46039f\"],[0.2222222222222222,\"#7201a8\"],[0.3333333333333333,\"#9c179e\"],[0.4444444444444444,\"#bd3786\"],[0.5555555555555556,\"#d8576b\"],[0.6666666666666666,\"#ed7953\"],[0.7777777777777778,\"#fb9f3a\"],[0.8888888888888888,\"#fdca26\"],[1.0,\"#f0f921\"]],\"type\":\"surface\"}],\"table\":[{\"cells\":{\"fill\":{\"color\":\"#EBF0F8\"},\"line\":{\"color\":\"white\"}},\"header\":{\"fill\":{\"color\":\"#C8D4E3\"},\"line\":{\"color\":\"white\"}},\"type\":\"table\"}]},\"layout\":{\"annotationdefaults\":{\"arrowcolor\":\"#2a3f5f\",\"arrowhead\":0,\"arrowwidth\":1},\"autotypenumbers\":\"strict\",\"coloraxis\":{\"colorbar\":{\"outlinewidth\":0,\"ticks\":\"\"}},\"colorscale\":{\"diverging\":[[0,\"#8e0152\"],[0.1,\"#c51b7d\"],[0.2,\"#de77ae\"],[0.3,\"#f1b6da\"],[0.4,\"#fde0ef\"],[0.5,\"#f7f7f7\"],[0.6,\"#e6f5d0\"],[0.7,\"#b8e186\"],[0.8,\"#7fbc41\"],[0.9,\"#4d9221\"],[1,\"#276419\"]],\"sequential\":[[0.0,\"#0d0887\"],[0.1111111111111111,\"#46039f\"],[0.2222222222222222,\"#7201a8\"],[0.3333333333333333,\"#9c179e\"],[0.4444444444444444,\"#bd3786\"],[0.5555555555555556,\"#d8576b\"],[0.6666666666666666,\"#ed7953\"],[0.7777777777777778,\"#fb9f3a\"],[0.8888888888888888,\"#fdca26\"],[1.0,\"#f0f921\"]],\"sequentialminus\":[[0.0,\"#0d0887\"],[0.1111111111111111,\"#46039f\"],[0.2222222222222222,\"#7201a8\"],[0.3333333333333333,\"#9c179e\"],[0.4444444444444444,\"#bd3786\"],[0.5555555555555556,\"#d8576b\"],[0.6666666666666666,\"#ed7953\"],[0.7777777777777778,\"#fb9f3a\"],[0.8888888888888888,\"#fdca26\"],[1.0,\"#f0f921\"]]},\"colorway\":[\"#636efa\",\"#EF553B\",\"#00cc96\",\"#ab63fa\",\"#FFA15A\",\"#19d3f3\",\"#FF6692\",\"#B6E880\",\"#FF97FF\",\"#FECB52\"],\"font\":{\"color\":\"#2a3f5f\"},\"geo\":{\"bgcolor\":\"white\",\"lakecolor\":\"white\",\"landcolor\":\"#E5ECF6\",\"showlakes\":true,\"showland\":true,\"subunitcolor\":\"white\"},\"hoverlabel\":{\"align\":\"left\"},\"hovermode\":\"closest\",\"mapbox\":{\"style\":\"light\"},\"paper_bgcolor\":\"white\",\"plot_bgcolor\":\"#E5ECF6\",\"polar\":{\"angularaxis\":{\"gridcolor\":\"white\",\"linecolor\":\"white\",\"ticks\":\"\"},\"bgcolor\":\"#E5ECF6\",\"radialaxis\":{\"gridcolor\":\"white\",\"linecolor\":\"white\",\"ticks\":\"\"}},\"scene\":{\"xaxis\":{\"backgroundcolor\":\"#E5ECF6\",\"gridcolor\":\"white\",\"gridwidth\":2,\"linecolor\":\"white\",\"showbackground\":true,\"ticks\":\"\",\"zerolinecolor\":\"white\"},\"yaxis\":{\"backgroundcolor\":\"#E5ECF6\",\"gridcolor\":\"white\",\"gridwidth\":2,\"linecolor\":\"white\",\"showbackground\":true,\"ticks\":\"\",\"zerolinecolor\":\"white\"},\"zaxis\":{\"backgroundcolor\":\"#E5ECF6\",\"gridcolor\":\"white\",\"gridwidth\":2,\"linecolor\":\"white\",\"showbackground\":true,\"ticks\":\"\",\"zerolinecolor\":\"white\"}},\"shapedefaults\":{\"line\":{\"color\":\"#2a3f5f\"}},\"ternary\":{\"aaxis\":{\"gridcolor\":\"white\",\"linecolor\":\"white\",\"ticks\":\"\"},\"baxis\":{\"gridcolor\":\"white\",\"linecolor\":\"white\",\"ticks\":\"\"},\"bgcolor\":\"#E5ECF6\",\"caxis\":{\"gridcolor\":\"white\",\"linecolor\":\"white\",\"ticks\":\"\"}},\"title\":{\"x\":0.05},\"xaxis\":{\"automargin\":true,\"gridcolor\":\"white\",\"linecolor\":\"white\",\"ticks\":\"\",\"title\":{\"standoff\":15},\"zerolinecolor\":\"white\",\"zerolinewidth\":2},\"yaxis\":{\"automargin\":true,\"gridcolor\":\"white\",\"linecolor\":\"white\",\"ticks\":\"\",\"title\":{\"standoff\":15},\"zerolinecolor\":\"white\",\"zerolinewidth\":2}}},\"width\":1000,\"yaxis\":{\"tickformat\":\"%H:%M\",\"type\":\"date\"}},                        {\"responsive\": true}                    ).then(function(){\n                            \nvar gd = document.getElementById('2e60ee63-c04a-471a-b2fb-188dad0e95e3');\nvar x = new MutationObserver(function (mutations, observer) {{\n        var display = window.getComputedStyle(gd).display;\n        if (!display || display === 'none') {{\n            console.log([gd, 'removed!']);\n            Plotly.purge(gd);\n            observer.disconnect();\n        }}\n}});\n\n// Listen for the removal of the full notebook cells\nvar notebookContainer = gd.closest('#notebook-container');\nif (notebookContainer) {{\n    x.observe(notebookContainer, {childList: true});\n}}\n\n// Listen for the clearing of the current output cell\nvar outputEl = gd.closest('.output');\nif (outputEl) {{\n    x.observe(outputEl, {childList: true});\n}}\n\n                        })                };                            </script>        </div>\n</body>\n</html>"
     },
     "metadata": {},
     "output_type": "display_data"
    }
   ],
   "execution_count": 6
  },
  {
   "cell_type": "markdown",
   "source": "## Dash",
   "metadata": {
    "tags": [],
    "is_collapsed": false,
    "cell_id": "00010-122432bd-99b5-4403-abc4-1ff86ac927f7",
    "deepnote_cell_type": "text-cell-h2"
   }
  },
  {
   "cell_type": "code",
   "metadata": {
    "tags": [],
    "cell_id": "00011-149e914e-6ac5-4bc0-92a5-1ade05605126",
    "deepnote_to_be_reexecuted": false,
    "source_hash": "8825846e",
    "execution_start": 1634474606267,
    "execution_millis": 734,
    "deepnote_cell_type": "code"
   },
   "source": "install dash",
   "outputs": [
    {
     "name": "stdout",
     "text": "Graphs1.ipynb  init.ipynb  \u001b[0m\u001b[01;34mNECST-project-ID53\u001b[0m/\r\n",
     "output_type": "stream"
    }
   ],
   "execution_count": 7
  },
  {
   "cell_type": "markdown",
   "source": "<a style='text-decoration:none;line-height:16px;display:flex;color:#5B5B62;padding:10px;justify-content:end;' href='https://deepnote.com?utm_source=created-in-deepnote-cell&projectId=6ebe66dc-9662-4a31-ab42-f37396e7da52' target=\"_blank\">\n<img alt='Created in deepnote.com' style='display:inline;max-height:16px;margin:0px;margin-right:7.5px;' src='data:image/svg+xml;base64,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' > </img>\nCreated in <span style='font-weight:600;margin-left:4px;'>Deepnote</span></a>",
   "metadata": {
    "tags": [],
    "created_in_deepnote_cell": true,
    "deepnote_cell_type": "markdown"
   }
  }
 ],
 "nbformat": 4,
 "nbformat_minor": 2,
 "metadata": {
  "orig_nbformat": 2,
  "deepnote": {
   "is_reactive": false
  },
  "deepnote_notebook_id": "b7970a30-a122-4d6a-997d-108155a84a37",
  "deepnote_execution_queue": []
 }
}